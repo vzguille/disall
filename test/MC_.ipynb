{
 "cells": [
  {
   "cell_type": "code",
   "execution_count": 1,
   "id": "7e642f5a-afd0-40ec-b5fa-b98e930ee6ef",
   "metadata": {},
   "outputs": [],
   "source": [
    "import importlib"
   ]
  },
  {
   "cell_type": "code",
   "execution_count": 2,
   "id": "4c790661-fee7-4eab-ac97-4582b17998b3",
   "metadata": {},
   "outputs": [],
   "source": [
    "from icet import ClusterExpansion"
   ]
  },
  {
   "cell_type": "code",
   "execution_count": 3,
   "id": "55012bda-201d-474b-ae20-75b63bd92223",
   "metadata": {},
   "outputs": [],
   "source": [
    "import disall"
   ]
  },
  {
   "cell_type": "code",
   "execution_count": 4,
   "id": "7a70ab70-c325-4143-bae4-314c41acb273",
   "metadata": {},
   "outputs": [
    {
     "data": {
      "text/plain": [
       "<module 'disall' (<_frozen_importlib_external._NamespaceLoader object at 0x1544b2340e80>)>"
      ]
     },
     "execution_count": 4,
     "metadata": {},
     "output_type": "execute_result"
    }
   ],
   "source": [
    "%load_ext autoreload\n",
    "%autoreload 2\n",
    "importlib.reload(disall)"
   ]
  },
  {
   "cell_type": "code",
   "execution_count": 5,
   "id": "0f5efa73-1e86-4c15-8f5a-c3e7eda498cf",
   "metadata": {},
   "outputs": [],
   "source": [
    "from disall.ce_parsing import best_integer_composition, make_supercell_cubic"
   ]
  },
  {
   "cell_type": "code",
   "execution_count": 10,
   "id": "4e51a2a9-2447-4519-b249-30fcf78dbde0",
   "metadata": {},
   "outputs": [],
   "source": [
    "from disall.ce_opt import get_args_opt, opt_mc"
   ]
  },
  {
   "cell_type": "code",
   "execution_count": 6,
   "id": "f199ba98-65f0-4df9-8377-b391da90543f",
   "metadata": {},
   "outputs": [],
   "source": [
    "ce = ClusterExpansion.read('ce_four.pkl')\n",
    "cs = ce.get_cluster_space_copy()\n",
    "elements = cs.chemical_symbols\n",
    "prim = cs.primitive_structure"
   ]
  },
  {
   "cell_type": "code",
   "execution_count": 85,
   "id": "73adafc9-3802-4c84-bdd9-d0109f81f2d6",
   "metadata": {},
   "outputs": [
    {
     "data": {
      "text/plain": [
       "[7, 8, 9]"
      ]
     },
     "execution_count": 85,
     "metadata": {},
     "output_type": "execute_result"
    }
   ],
   "source": [
    "int_comp, size, mnk, comp_diff = best_integer_composition([0.128, 0.372, 0.3, 0.2], min_l=6, conventional= True, prim = prim)\n",
    "mnk"
   ]
  },
  {
   "cell_type": "code",
   "execution_count": 86,
   "id": "fd63e185-786a-4962-a81f-8ed4cd3f76e5",
   "metadata": {},
   "outputs": [],
   "source": [
    "super_structure = make_supercell_cubic(prim, mnk, conventional=True)"
   ]
  },
  {
   "cell_type": "code",
   "execution_count": 87,
   "id": "04867efc-9c26-4cd0-8912-53324508ee61",
   "metadata": {},
   "outputs": [],
   "source": [
    "args = get_args_opt(elements, int_comp, 'MC_00')"
   ]
  },
  {
   "cell_type": "code",
   "execution_count": 89,
   "id": "fec03eec-df50-41dd-b1e0-217581aead91",
   "metadata": {},
   "outputs": [],
   "source": [
    "args_opt  =  {'no_steps': int(1e6),\n",
    "    'midpoint': int(0.5e6),\n",
    "    'interval': 50,\n",
    "    'ce_supercell': super_structure,\n",
    "              }"
   ]
  },
  {
   "cell_type": "code",
   "execution_count": 90,
   "id": "c3c1c7f8-616a-4e51-9225-320d70217b0e",
   "metadata": {},
   "outputs": [],
   "source": [
    "args_opt.update(args)"
   ]
  },
  {
   "cell_type": "code",
   "execution_count": 91,
   "id": "22216230-7990-494a-afe2-b6fe4c10494a",
   "metadata": {},
   "outputs": [
    {
     "data": {
      "text/plain": [
       "{'no_steps': 1000000,\n",
       " 'midpoint': 500000,\n",
       " 'interval': 50,\n",
       " 'ce_supercell': Atoms(symbols='Al2016', pbc=True, cell=[25.38375, 29.009999999999998, 32.63625]),\n",
       " 'concentration': {'Al': 258, 'Co': 750, 'Cr': 605, 'Cu': 403},\n",
       " 'string_concentration': 'Al0258Co0750Cr0605Cu0403',\n",
       " 'SRO_keys': [('Al', 'Al'),\n",
       "  ('Al', 'Co'),\n",
       "  ('Al', 'Cr'),\n",
       "  ('Al', 'Cu'),\n",
       "  ('Co', 'Co'),\n",
       "  ('Co', 'Cr'),\n",
       "  ('Co', 'Cu'),\n",
       "  ('Cr', 'Cr'),\n",
       "  ('Cr', 'Cu'),\n",
       "  ('Cu', 'Cu')],\n",
       " 'directory_logs': 'MC_00/Al0258Co0750Cr0605Cu0403/'}"
      ]
     },
     "execution_count": 91,
     "metadata": {},
     "output_type": "execute_result"
    }
   ],
   "source": [
    "args_opt"
   ]
  },
  {
   "cell_type": "code",
   "execution_count": null,
   "id": "423085cd-4961-4da4-9cb1-13b66d2aa659",
   "metadata": {},
   "outputs": [
    {
     "name": "stdout",
     "output_type": "stream",
     "text": [
      "2025-02-01 07:39:01 - starting opt_mc for Al0258Co0750Cr0605Cu0403\n",
      "\n"
     ]
    }
   ],
   "source": [
    "opt_mc(args_opt, ce)"
   ]
  },
  {
   "cell_type": "code",
   "execution_count": null,
   "id": "7d4fb104-fe3d-48fb-b6e3-f8e415fe0c96",
   "metadata": {},
   "outputs": [],
   "source": []
  }
 ],
 "metadata": {
  "kernelspec": {
   "display_name": "Python 3 (ipykernel)",
   "language": "python",
   "name": "python3"
  },
  "language_info": {
   "codemirror_mode": {
    "name": "ipython",
    "version": 3
   },
   "file_extension": ".py",
   "mimetype": "text/x-python",
   "name": "python",
   "nbconvert_exporter": "python",
   "pygments_lexer": "ipython3",
   "version": "3.10.15"
  }
 },
 "nbformat": 4,
 "nbformat_minor": 5
}
