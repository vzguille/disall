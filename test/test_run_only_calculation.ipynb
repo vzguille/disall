{
 "cells": [
  {
   "cell_type": "code",
   "execution_count": 1,
   "id": "3aad1703-4089-49cc-8582-cac39d09ace3",
   "metadata": {},
   "outputs": [],
   "source": [
    "import pickle\n",
    "import os\n",
    "import time\n",
    "import importlib"
   ]
  },
  {
   "cell_type": "code",
   "execution_count": 2,
   "id": "c665dfc7-244c-447b-831f-746fc319e277",
   "metadata": {},
   "outputs": [],
   "source": [
    "with open('AlCoCrCuFeMnNiV_5_10.pkl', 'rb') as f:\n",
    "    structure_DB = pickle.load(f)"
   ]
  },
  {
   "cell_type": "code",
   "execution_count": 3,
   "id": "595332ec-9f8a-43bd-a5b7-15ee6ce5d956",
   "metadata": {},
   "outputs": [
    {
     "data": {
      "text/html": [
       "<div>\n",
       "<style scoped>\n",
       "    .dataframe tbody tr th:only-of-type {\n",
       "        vertical-align: middle;\n",
       "    }\n",
       "\n",
       "    .dataframe tbody tr th {\n",
       "        vertical-align: top;\n",
       "    }\n",
       "\n",
       "    .dataframe thead th {\n",
       "        text-align: right;\n",
       "    }\n",
       "</style>\n",
       "<table border=\"1\" class=\"dataframe\">\n",
       "  <thead>\n",
       "    <tr style=\"text-align: right;\">\n",
       "      <th></th>\n",
       "      <th>init_structure</th>\n",
       "      <th>size</th>\n",
       "    </tr>\n",
       "  </thead>\n",
       "  <tbody>\n",
       "    <tr>\n",
       "      <th>0</th>\n",
       "      <td>(Atom('Al', [0.0, 0.0, 0.0], index=0))</td>\n",
       "      <td>1</td>\n",
       "    </tr>\n",
       "    <tr>\n",
       "      <th>1</th>\n",
       "      <td>(Atom('Co', [0.0, 0.0, 0.0], index=0))</td>\n",
       "      <td>1</td>\n",
       "    </tr>\n",
       "    <tr>\n",
       "      <th>2</th>\n",
       "      <td>(Atom('Cr', [0.0, 0.0, 0.0], index=0))</td>\n",
       "      <td>1</td>\n",
       "    </tr>\n",
       "    <tr>\n",
       "      <th>3</th>\n",
       "      <td>(Atom('Cu', [0.0, 0.0, 0.0], index=0))</td>\n",
       "      <td>1</td>\n",
       "    </tr>\n",
       "    <tr>\n",
       "      <th>4</th>\n",
       "      <td>(Atom('Fe', [0.0, 0.0, 0.0], index=0))</td>\n",
       "      <td>1</td>\n",
       "    </tr>\n",
       "    <tr>\n",
       "      <th>...</th>\n",
       "      <td>...</td>\n",
       "      <td>...</td>\n",
       "    </tr>\n",
       "    <tr>\n",
       "      <th>509933</th>\n",
       "      <td>(Atom('Cu', [0.0, 0.0, 0.0], index=0), Atom('C...</td>\n",
       "      <td>10</td>\n",
       "    </tr>\n",
       "    <tr>\n",
       "      <th>509934</th>\n",
       "      <td>(Atom('Cu', [0.0, 0.0, 0.0], index=0), Atom('C...</td>\n",
       "      <td>10</td>\n",
       "    </tr>\n",
       "    <tr>\n",
       "      <th>509935</th>\n",
       "      <td>(Atom('Cu', [0.0, 0.0, 0.0], index=0), Atom('C...</td>\n",
       "      <td>10</td>\n",
       "    </tr>\n",
       "    <tr>\n",
       "      <th>509936</th>\n",
       "      <td>(Atom('Cu', [0.0, 0.0, 0.0], index=0), Atom('C...</td>\n",
       "      <td>10</td>\n",
       "    </tr>\n",
       "    <tr>\n",
       "      <th>509937</th>\n",
       "      <td>(Atom('Cu', [0.0, 0.0, 0.0], index=0), Atom('C...</td>\n",
       "      <td>10</td>\n",
       "    </tr>\n",
       "  </tbody>\n",
       "</table>\n",
       "<p>509938 rows × 2 columns</p>\n",
       "</div>"
      ],
      "text/plain": [
       "                                           init_structure  size\n",
       "0                  (Atom('Al', [0.0, 0.0, 0.0], index=0))     1\n",
       "1                  (Atom('Co', [0.0, 0.0, 0.0], index=0))     1\n",
       "2                  (Atom('Cr', [0.0, 0.0, 0.0], index=0))     1\n",
       "3                  (Atom('Cu', [0.0, 0.0, 0.0], index=0))     1\n",
       "4                  (Atom('Fe', [0.0, 0.0, 0.0], index=0))     1\n",
       "...                                                   ...   ...\n",
       "509933  (Atom('Cu', [0.0, 0.0, 0.0], index=0), Atom('C...    10\n",
       "509934  (Atom('Cu', [0.0, 0.0, 0.0], index=0), Atom('C...    10\n",
       "509935  (Atom('Cu', [0.0, 0.0, 0.0], index=0), Atom('C...    10\n",
       "509936  (Atom('Cu', [0.0, 0.0, 0.0], index=0), Atom('C...    10\n",
       "509937  (Atom('Cu', [0.0, 0.0, 0.0], index=0), Atom('C...    10\n",
       "\n",
       "[509938 rows x 2 columns]"
      ]
     },
     "execution_count": 3,
     "metadata": {},
     "output_type": "execute_result"
    }
   ],
   "source": [
    "structure_DB"
   ]
  },
  {
   "cell_type": "code",
   "execution_count": 4,
   "id": "ac98c30d-0a4a-4af6-a72f-4685fecadd62",
   "metadata": {},
   "outputs": [],
   "source": [
    "df = structure_DB.copy()"
   ]
  },
  {
   "cell_type": "code",
   "execution_count": null,
   "id": "8bb0c78f-7f44-40a5-a4d7-eb5718c090da",
   "metadata": {},
   "outputs": [],
   "source": []
  },
  {
   "cell_type": "code",
   "execution_count": null,
   "id": "b695f457-5d2e-4aa9-9609-8ce3352ac2e1",
   "metadata": {},
   "outputs": [],
   "source": []
  },
  {
   "cell_type": "code",
   "execution_count": 5,
   "id": "610a7127-93b7-4b4a-9d18-95325b433738",
   "metadata": {},
   "outputs": [],
   "source": [
    "def delete_files(file_list):\n",
    "    \"\"\"Delete multiple files.\"\"\"\n",
    "    for file_path in file_list:\n",
    "        try:\n",
    "            os.remove(file_path)\n",
    "            print(f\"Deleted: {file_path}\")\n",
    "        except FileNotFoundError:\n",
    "            print(f\"File not found: {file_path}\")\n",
    "        except PermissionError:\n",
    "            print(f\"Permission denied: {file_path}\")\n",
    "        except Exception as e:\n",
    "            print(f\"Error deleting {file_path}: {e}\")"
   ]
  },
  {
   "cell_type": "code",
   "execution_count": null,
   "id": "4bc871c1-7f6e-43f2-b87d-4ffdfe96d463",
   "metadata": {},
   "outputs": [],
   "source": []
  },
  {
   "cell_type": "markdown",
   "id": "9f0699f7-927c-4328-b6bb-65412df8ea80",
   "metadata": {},
   "source": [
    "## how to calculate vasp relaxer\n",
    "it needs to be an starter or checker.\n",
    "if not started then it starts it, if running, checks. Maybe different functions"
   ]
  },
  {
   "cell_type": "code",
   "execution_count": 6,
   "id": "92f09519-e629-4375-8ad1-6424964eba8d",
   "metadata": {},
   "outputs": [],
   "source": [
    "test_row = structure_DB.loc[78]\n",
    "atoms_test_78, id_test_78 = test_row['init_structure'].copy(), \\\n",
    "    test_row.name\n",
    "atoms_test_78, id_test_78\n",
    "\n",
    "try_no = 1\n",
    "org_structure = atoms_test_78.copy()\n",
    "new_structure = org_structure.copy()\n",
    "new_structure.set_cell(org_structure.cell.array*(1 + try_no*0.05),\n",
    "                        scale_atoms=True)\n",
    "atoms_test_78 = new_structure.copy()"
   ]
  },
  {
   "cell_type": "code",
   "execution_count": 7,
   "id": "08e7ac23-3a8c-4b0c-8e12-f43d11933a6c",
   "metadata": {},
   "outputs": [],
   "source": [
    "test_row = structure_DB.loc[3]\n",
    "atoms_test_3, id_test_3 = test_row['init_structure'].copy(), \\\n",
    "    test_row.name\n",
    "\n",
    "try_no = 1\n",
    "org_structure = atoms_test_3.copy()\n",
    "new_structure = org_structure.copy()\n",
    "new_structure.set_cell(org_structure.cell.array*(1 + try_no*0.05),\n",
    "                        scale_atoms=True)\n",
    "atoms_test_3 = new_structure.copy()\n"
   ]
  },
  {
   "cell_type": "code",
   "execution_count": 8,
   "id": "ff56ea6f-263c-4cce-8d17-e0dfa8d45ccc",
   "metadata": {},
   "outputs": [],
   "source": [
    "test_row = structure_DB.loc[10]\n",
    "atoms_test_10, id_test_10 = test_row['init_structure'].copy(), \\\n",
    "    test_row.name\n",
    "\n",
    "try_no = 1\n",
    "org_structure = atoms_test_10.copy()\n",
    "new_structure = org_structure.copy()\n",
    "new_structure.set_cell(org_structure.cell.array*(1 + try_no*0.05),\n",
    "                        scale_atoms=True)\n",
    "atoms_test_10 = new_structure.copy()\n"
   ]
  },
  {
   "cell_type": "code",
   "execution_count": 9,
   "id": "44423cba-3d2c-4a77-8f5f-e033b9b5a640",
   "metadata": {},
   "outputs": [],
   "source": [
    "test_row = structure_DB.loc[20]\n",
    "atoms_test_20, id_test_20 = test_row['init_structure'].copy(), \\\n",
    "    test_row.name\n",
    "\n",
    "try_no = 1\n",
    "org_structure = atoms_test_20.copy()\n",
    "new_structure = org_structure.copy()\n",
    "new_structure.set_cell(org_structure.cell.array*(1 + try_no*0.05),\n",
    "                        scale_atoms=True)\n",
    "atoms_test_20 = new_structure.copy()\n"
   ]
  },
  {
   "cell_type": "code",
   "execution_count": 10,
   "id": "90acccdf-1869-4f58-8028-27334f1a707e",
   "metadata": {},
   "outputs": [],
   "source": [
    "test_row = structure_DB.loc[1500]\n",
    "atoms_test_1500, id_test_1500 = test_row['init_structure'].copy(), \\\n",
    "    test_row.name\n",
    "\n",
    "try_no = 1\n",
    "org_structure = atoms_test_1500.copy()\n",
    "new_structure = org_structure.copy()\n",
    "new_structure.set_cell(org_structure.cell.array*(1 + try_no*0.05),\n",
    "                        scale_atoms=True)\n",
    "atoms_test_1500 = new_structure.copy()\n"
   ]
  },
  {
   "cell_type": "code",
   "execution_count": 11,
   "id": "12161806-55d3-4e5f-a4b5-c6c577138938",
   "metadata": {},
   "outputs": [
    {
     "data": {
      "text/plain": [
       "3"
      ]
     },
     "execution_count": 11,
     "metadata": {},
     "output_type": "execute_result"
    }
   ],
   "source": [
    "len(structure_DB.loc[300]['init_structure'])"
   ]
  },
  {
   "cell_type": "code",
   "execution_count": 12,
   "id": "d32a991a-1fe9-4afe-ba57-945e6d15cc6b",
   "metadata": {},
   "outputs": [],
   "source": [
    "test_row = structure_DB.loc[300]\n",
    "atoms_test_300, id_test_300 = test_row['init_structure'].copy(), \\\n",
    "    test_row.name\n",
    "\n",
    "try_no = 1\n",
    "org_structure = atoms_test_300.copy()\n",
    "new_structure = org_structure.copy()\n",
    "new_structure.set_cell(org_structure.cell.array*(1 + try_no*0.05),\n",
    "                        scale_atoms=True)\n",
    "atoms_test_300 = new_structure.copy()\n"
   ]
  },
  {
   "cell_type": "code",
   "execution_count": 13,
   "id": "221e14f0-d690-4a9b-ae29-af44fa4ed085",
   "metadata": {},
   "outputs": [
    {
     "data": {
      "text/plain": [
       "4"
      ]
     },
     "execution_count": 13,
     "metadata": {},
     "output_type": "execute_result"
    }
   ],
   "source": [
    "len(atoms_test_1500)"
   ]
  },
  {
   "cell_type": "code",
   "execution_count": 14,
   "id": "5eaac676-b614-49fd-a2e6-ac0b05147e79",
   "metadata": {},
   "outputs": [],
   "source": [
    "import disall"
   ]
  },
  {
   "cell_type": "code",
   "execution_count": 15,
   "id": "58791dcf-3453-43cd-9c59-810fd0ac1814",
   "metadata": {},
   "outputs": [],
   "source": [
    "%load_ext autoreload\n",
    "%autoreload 2"
   ]
  },
  {
   "cell_type": "code",
   "execution_count": 16,
   "id": "de8ce24e-24b4-42aa-b228-1a9e546e456f",
   "metadata": {},
   "outputs": [
    {
     "data": {
      "text/plain": [
       "<module 'disall' (<_frozen_importlib_external._NamespaceLoader object at 0x148ca5ef2d10>)>"
      ]
     },
     "execution_count": 16,
     "metadata": {},
     "output_type": "execute_result"
    }
   ],
   "source": [
    "\n",
    "importlib.reload(disall)"
   ]
  },
  {
   "cell_type": "code",
   "execution_count": 17,
   "id": "2cf0eb6b-c254-4c93-b451-eb469da63c08",
   "metadata": {},
   "outputs": [],
   "source": [
    "# rm -r test_pyiron/"
   ]
  },
  {
   "cell_type": "code",
   "execution_count": 18,
   "id": "2c11c5f4-faf9-40aa-bd97-db08e608afd7",
   "metadata": {},
   "outputs": [
    {
     "name": "stderr",
     "output_type": "stream",
     "text": [
      "2025-01-29 19:08:27,933 - pyiron_log - WARNING - pyiron found a 'templates' folder in the /scratch/group/arroyave_lab/guillermo.vazquez/pyiron_dirs/pyiron/resources resource directory. These are no longer supported in pyiron_base >=0.7.0. They are replaced by Project.create_job_class() and Project.wrap_python_function().\n"
     ]
    }
   ],
   "source": [
    "from disall.pyiron_calculator import VASP_pyiron_calculator, _get_dft_results_pyiron, read_unfinished_job"
   ]
  },
  {
   "cell_type": "code",
   "execution_count": 19,
   "id": "2b6a1967-1c38-43c0-9ece-6246cb96d5a6",
   "metadata": {},
   "outputs": [],
   "source": [
    "from disall.slurm import squeue_check, squeue_check_av"
   ]
  },
  {
   "cell_type": "code",
   "execution_count": 20,
   "id": "d0ac46ab-6966-456b-ada3-11f40c327da7",
   "metadata": {},
   "outputs": [],
   "source": [
    "from pymatgen.io.vasp import Outcar, Vasprun"
   ]
  },
  {
   "cell_type": "code",
   "execution_count": 21,
   "id": "556fe2d8-615a-4542-bd56-f7c7080dea0a",
   "metadata": {},
   "outputs": [
    {
     "data": {
      "text/plain": [
       "\u001b[0;31mInit signature:\u001b[0m \u001b[0mVASP_pyiron_calculator\u001b[0m\u001b[0;34m(\u001b[0m\u001b[0mproject_pyiron\u001b[0m\u001b[0;34m=\u001b[0m\u001b[0;34m'testing_project'\u001b[0m\u001b[0;34m,\u001b[0m \u001b[0;34m**\u001b[0m\u001b[0mkwargs\u001b[0m\u001b[0;34m)\u001b[0m\u001b[0;34m\u001b[0m\u001b[0;34m\u001b[0m\u001b[0m\n",
       "\u001b[0;31mDocstring:\u001b[0m      <no docstring>\n",
       "\u001b[0;31mFile:\u001b[0m           /scratch/user/guillermo.vazquez/SAVE/octonary/disall/disall/pyiron_calculator.py\n",
       "\u001b[0;31mType:\u001b[0m           type\n",
       "\u001b[0;31mSubclasses:\u001b[0m     "
      ]
     },
     "metadata": {},
     "output_type": "display_data"
    }
   ],
   "source": [
    "VASP_pyiron_calculator?"
   ]
  },
  {
   "cell_type": "code",
   "execution_count": 22,
   "id": "27188f4f-8938-4e75-852f-97aa19e4e8b6",
   "metadata": {},
   "outputs": [],
   "source": [
    "input_data = {'-INCAR-NCORE': 16,\n",
    "    '-INCAR-LORBIT': 1,\n",
    "    '-INCAR-NSW': 200,\n",
    "    '-INCAR-PREC': 'Accurate',\n",
    "    '-INCAR-IBRION': 2,\n",
    "    '-INCAR-ISMEAR': 0,\n",
    "    '-INCAR-SIGMA': 0.02,\n",
    "    '-INCAR-ENCUT': 420,\n",
    "    '-INCAR-EDIFF': 1E-5,\n",
    "    '-INCAR-ISIF': 3,\n",
    "    '-INCAR-ISYM': 0,\n",
    "    'KPPA': 4000,\n",
    "    '-INCAR-ISPIN': 2,\n",
    "    }"
   ]
  },
  {
   "cell_type": "code",
   "execution_count": 24,
   "id": "08df9884-2f05-4736-be76-f0c2b1fcb6fb",
   "metadata": {},
   "outputs": [],
   "source": [
    "first_00 = VASP_pyiron_calculator(project_pyiron= 'first_00')"
   ]
  },
  {
   "cell_type": "code",
   "execution_count": 25,
   "id": "ee81c570-e25b-405f-be47-f9565c5d938e",
   "metadata": {},
   "outputs": [
    {
     "name": "stdout",
     "output_type": "stream",
     "text": [
      "pyiron status: initialized\n",
      "PASS to RUN --> id000000000000485\n",
      "SENDING...\n",
      "The job vasp_000000000000485 was saved and received the ID: 28783\n",
      "Queue system id:  1975284\n"
     ]
    }
   ],
   "source": [
    "res1500 = new_set.vasp_pyiron_calculation(atoms_test_1500, id = 485, return_job= True)"
   ]
  },
  {
   "cell_type": "code",
   "execution_count": null,
   "id": "d789b17f-a8a1-4a3e-adf3-37c10a050102",
   "metadata": {},
   "outputs": [],
   "source": []
  },
  {
   "cell_type": "code",
   "execution_count": null,
   "id": "4f6b46ae-7869-4295-b2aa-dfb0b2e7dd57",
   "metadata": {},
   "outputs": [],
   "source": []
  },
  {
   "cell_type": "code",
   "execution_count": null,
   "id": "c6619b18-5aa1-4c2f-aa06-841eee37ad4c",
   "metadata": {},
   "outputs": [],
   "source": []
  },
  {
   "cell_type": "code",
   "execution_count": 23,
   "id": "baf18c07-2c09-4aa8-a141-77a234107209",
   "metadata": {},
   "outputs": [],
   "source": [
    "new_set = VASP_pyiron_calculator(input_data = input_data , project_pyiron = 'test_pyiron')"
   ]
  },
  {
   "cell_type": "code",
   "execution_count": 24,
   "id": "d156629a-35d4-4342-a19f-61a00880f1e3",
   "metadata": {},
   "outputs": [
    {
     "name": "stderr",
     "output_type": "stream",
     "text": [
      "2025-01-29 08:25:51,065 - pyiron_log - WARNING - Job aborted - please remove it and run again! vasp_000000000001500\n"
     ]
    },
    {
     "name": "stdout",
     "output_type": "stream",
     "text": [
      "pyiron status: aborted\n",
      "reverting aboted to TIMEOUT due to prev error\n",
      "parsing...\n",
      "parsing not succesful\n",
      "TIMEOUT\n",
      "'NoneType' object has no attribute 'copy'\n"
     ]
    }
   ],
   "source": [
    "res1500 = new_set.vasp_pyiron_calculation(atoms_test_1500, id = id_test_1500)"
   ]
  },
  {
   "cell_type": "code",
   "execution_count": 25,
   "id": "dbfb5a40-9edd-47b2-842b-e0d8f0c74ec4",
   "metadata": {},
   "outputs": [
    {
     "name": "stderr",
     "output_type": "stream",
     "text": [
      "2025-01-29 08:26:10,348 - pyiron_log - WARNING - Job aborted - please remove it and run again! vasp_000000000001500\n"
     ]
    },
    {
     "name": "stdout",
     "output_type": "stream",
     "text": [
      "pyiron status: aborted\n",
      "reverting aboted to TIMEOUT due to prev error\n",
      "parsing...\n",
      "parsing not succesful\n",
      "TIMEOUT\n",
      "'NoneType' object has no attribute 'copy'\n"
     ]
    }
   ],
   "source": [
    "res1500 = new_set.vasp_pyiron_calculation(atoms_test_1500, id = id_test_1500)"
   ]
  },
  {
   "cell_type": "code",
   "execution_count": 26,
   "id": "9cbc64cc-d6f7-49ff-b93b-88563e663013",
   "metadata": {},
   "outputs": [
    {
     "name": "stdout",
     "output_type": "stream",
     "text": [
      "reading unfinished...\n",
      "1 steps culminated\n"
     ]
    },
    {
     "data": {
      "text/plain": [
       "{'energy_traj': array([-30.88995169]),\n",
       " 'force_traj': array([[[ 4.3726439e-01, -4.3727172e-01, -2.3300000e-06],\n",
       "         [-4.3731015e-01,  4.3731545e-01, -6.5000000e-07],\n",
       "         [ 4.5730000e-05, -4.3340000e-05,  1.3600000e-06],\n",
       "         [ 3.0000000e-08, -3.8000000e-07,  1.6200000e-06]]]),\n",
       " 'stress_traj': array([[[-3.47655544e+02,  6.38634291e+00, -4.87960000e-04],\n",
       "         [ 6.38634414e+00, -3.47655410e+02, -7.79800000e-05],\n",
       "         [-4.88040000e-04, -7.81800000e-05, -3.34613165e+02]]]),\n",
       " 'structures_traj': [MSONAtoms(symbols='Cr2FeNi', pbc=True, cell=[[1.90378125, 1.90378125, 0.0], [0.0, 0.0, -3.8075625], [-3.8075625, 3.8075625, 0.0]])],\n",
       " 'energy_electronic_step': array([[370.59155456, -7.22607499, -28.96923953, -29.41010615,\n",
       "         -29.42775341, -60.19954385, -40.99185376, -35.63721205,\n",
       "         -31.85547755, -31.21382889, -31.07107344, -30.87765739,\n",
       "         -30.86127387, -30.81208973, -30.80398309, -30.81763855,\n",
       "         -30.8872371, -30.90170687, -30.89717882, -30.89250996,\n",
       "         -30.88641583, -30.88502216, -30.88081434, -30.88617628,\n",
       "         -30.88837503, -30.88912487, -30.88970045, -30.88982558,\n",
       "         -30.88995563, -30.88994027, -30.88995169]], dtype=object),\n",
       " 'ionic_steps': 1}"
      ]
     },
     "execution_count": 26,
     "metadata": {},
     "output_type": "execute_result"
    }
   ],
   "source": [
    "read_unfinished_job('test_pyiron', 1500)"
   ]
  },
  {
   "cell_type": "code",
   "execution_count": null,
   "id": "27e69473-c5a3-4b5e-9b95-20632ce007c9",
   "metadata": {},
   "outputs": [],
   "source": []
  },
  {
   "cell_type": "code",
   "execution_count": 27,
   "id": "63750cf9-fb76-4a45-9421-6f7f4d2375b5",
   "metadata": {},
   "outputs": [
    {
     "name": "stderr",
     "output_type": "stream",
     "text": [
      "2025-01-29 08:26:17,050 - pyiron_log - WARNING - Job aborted - please remove it and run again! vasp_000000000000300\n"
     ]
    },
    {
     "name": "stdout",
     "output_type": "stream",
     "text": [
      "pyiron status: aborted\n",
      "reverting aboted to TIMEOUT due to prev error\n",
      "parsing...\n",
      "parsing not succesful\n",
      "TIMEOUT\n",
      "'NoneType' object has no attribute 'copy'\n"
     ]
    }
   ],
   "source": [
    "res300 = new_set.vasp_pyiron_calculation(atoms_test_300, id = id_test_300)"
   ]
  },
  {
   "cell_type": "code",
   "execution_count": 28,
   "id": "3a4719af-d51a-4267-b04d-cdf29ef84e36",
   "metadata": {},
   "outputs": [
    {
     "name": "stderr",
     "output_type": "stream",
     "text": [
      "2025-01-29 08:26:18,797 - pyiron_log - WARNING - Job aborted - please remove it and run again! vasp_000000000000300\n"
     ]
    },
    {
     "name": "stdout",
     "output_type": "stream",
     "text": [
      "pyiron status: aborted\n",
      "reverting aboted to TIMEOUT due to prev error\n",
      "parsing...\n",
      "parsing not succesful\n",
      "TIMEOUT\n",
      "'NoneType' object has no attribute 'copy'\n"
     ]
    }
   ],
   "source": [
    "res300 = new_set.vasp_pyiron_calculation(atoms_test_300, id = id_test_300)"
   ]
  },
  {
   "cell_type": "code",
   "execution_count": 29,
   "id": "0b96a61e-146d-4696-ab50-ebb2f9797205",
   "metadata": {},
   "outputs": [
    {
     "name": "stdout",
     "output_type": "stream",
     "text": [
      "reading unfinished...\n",
      "8 steps culminated\n"
     ]
    },
    {
     "data": {
      "text/plain": [
       "{'energy_traj': array([-16.56810319, -16.94447508, -17.04200442, -17.08359007,\n",
       "        -17.12828963, -17.1294279 , -17.12926983, -17.12364161]),\n",
       " 'force_traj': array([[[-9.9556000e-04, -1.6900000e-06, -1.5713738e-01],\n",
       "         [ 1.2584900e-03,  1.2300000e-06,  1.8379622e-01],\n",
       "         [-2.6293000e-04,  4.6000000e-07, -2.6658840e-02]],\n",
       " \n",
       "        [[ 8.7401000e-04,  7.9000000e-07,  2.5134155e-01],\n",
       "         [ 3.4258000e-04,  1.3400000e-06, -1.5378312e-01],\n",
       "         [-1.2165900e-03, -2.1300000e-06, -9.7558430e-02]],\n",
       " \n",
       "        [[ 2.8308000e-04,  7.1000000e-07,  5.6350690e-02],\n",
       "         [ 3.9700600e-03, -3.0000000e-07,  4.2118610e-02],\n",
       "         [-4.2531500e-03, -4.0000000e-07, -9.8469310e-02]],\n",
       " \n",
       "        [[-8.0660000e-05,  3.4000000e-07,  8.3858400e-02],\n",
       "         [ 2.8516000e-04, -6.7000000e-07, -8.0142600e-03],\n",
       "         [-2.0450000e-04,  3.2000000e-07, -7.5844140e-02]],\n",
       " \n",
       "        [[-9.4339000e-04, -1.6000000e-07,  5.5806080e-02],\n",
       "         [-3.8799100e-03,  1.8000000e-07, -9.4143890e-02],\n",
       "         [ 4.8233000e-03, -1.0000000e-08,  3.8337810e-02]],\n",
       " \n",
       "        [[-1.5889100e-03, -5.9000000e-07,  3.8061450e-02],\n",
       "         [-6.9012100e-03,  1.2000000e-07, -1.2599782e-01],\n",
       "         [ 8.4901200e-03,  4.7000000e-07,  8.7936370e-02]],\n",
       " \n",
       "        [[-1.9429200e-03, -7.6000000e-07,  3.5602080e-02],\n",
       "         [-1.1012370e-02, -2.4000000e-07, -2.1149196e-01],\n",
       "         [ 1.2955280e-02,  1.0000000e-06,  1.7588987e-01]],\n",
       " \n",
       "        [[ 1.7395500e-03, -2.4000000e-07, -2.3937240e-02],\n",
       "         [ 8.9541000e-04,  1.1000000e-07, -3.2804000e-04],\n",
       "         [-2.6349700e-03,  1.3000000e-07,  2.4265280e-02]]]),\n",
       " 'stress_traj': array([[[-1.63203399e+02, -3.00200000e-05,  7.77113310e-01],\n",
       "         [-3.03400000e-05, -1.62186240e+02,  3.92300000e-05],\n",
       "         [ 7.77113060e-01,  3.94400000e-05, -2.39413293e+02]],\n",
       " \n",
       "        [[ 1.77678982e+02, -1.50650000e-04, -9.36244890e-01],\n",
       "         [-1.50230000e-04,  1.77589335e+02, -6.59700000e-05],\n",
       "         [-9.36245110e-01, -6.63200000e-05,  6.95437441e+01]],\n",
       " \n",
       "        [[ 4.50383501e+01, -5.59200000e-05, -1.22442904e+00],\n",
       "         [-5.57500000e-05,  4.28775130e+01,  1.11000000e-06],\n",
       "         [-1.22442896e+00,  1.42000000e-06, -5.50770632e+01]],\n",
       " \n",
       "        [[ 3.29788342e+01, -4.56100000e-05,  1.18089700e-02],\n",
       "         [-4.52300000e-05,  3.19328448e+01,  2.26200000e-05],\n",
       "         [ 1.18087600e-02,  2.25500000e-05, -3.48689362e+01]],\n",
       " \n",
       "        [[ 1.94094079e+01,  7.40600000e-05,  3.04032989e+00],\n",
       "         [ 7.39500000e-05,  2.21856818e+01, -4.63300000e-05],\n",
       "         [ 3.04032969e+00, -4.56600000e-05,  9.29320094e+00]],\n",
       " \n",
       "        [[ 2.04224953e+01,  1.49360000e-04,  3.72336717e+00],\n",
       "         [ 1.49580000e-04,  2.32781806e+01, -8.74200000e-05],\n",
       "         [ 3.72336694e+00, -8.76800000e-05,  1.34355731e+01]],\n",
       " \n",
       "        [[ 2.18720398e+01,  1.50340000e-04,  4.72959896e+00],\n",
       "         [ 1.50690000e-04,  2.59634461e+01, -9.50000000e-05],\n",
       "         [ 4.72959896e+00, -9.57000000e-05,  2.00688151e+01]],\n",
       " \n",
       "        [[-3.98548580e+01, -3.33000000e-06, -2.25308638e+00],\n",
       "         [-3.01000000e-06, -3.98774776e+01,  8.94700000e-05],\n",
       "         [-2.25308657e+00,  8.90500000e-05, -4.17347845e+01]]]),\n",
       " 'structures_traj': [MSONAtoms(symbols='AlCoNi', pbc=True, cell=[[1.90378125, 1.90378125, 0.0], [1.90378125, -1.90378125, 0.0], [-1.90378125, 0.0, -5.71134375]]),\n",
       "  MSONAtoms(symbols='AlCoNi', pbc=True, cell=[[1.77467476, 1.77547941, 0.00061479], [1.77467481, -1.77547946, 0.00061473], [-1.77651906, -7e-08, -5.14377542]]),\n",
       "  MSONAtoms(symbols='AlCoNi', pbc=True, cell=[[1.81101035, 1.81158854, 0.00044176], [1.81101039, -1.81158858, 0.00044172], [-1.81233559, -5e-08, -5.30351123]]),\n",
       "  MSONAtoms(symbols='AlCoNi', pbc=True, cell=[[1.83172986, 1.83106306, -0.00026997], [1.83172996, -1.83106316, -0.00027002], [-1.83101611, -2e-08, -5.18005681]]),\n",
       "  MSONAtoms(symbols='AlCoNi', pbc=True, cell=[[1.88182545, 1.87814851, -0.00199079], [1.88182572, -1.87814878, -0.00199084], [-1.87618185, 4e-08, -4.88156886]]),\n",
       "  MSONAtoms(symbols='AlCoNi', pbc=True, cell=[[1.89049144, 1.88629378, -0.00228847], [1.89049174, -1.88629408, -0.00228853], [-1.88399503, 5e-08, -4.82993371]]),\n",
       "  MSONAtoms(symbols='AlCoNi', pbc=True, cell=[[1.90556678, 1.90046327, -0.00280632], [1.90556713, -1.90046362, -0.00280638], [-1.89758682, 7e-08, -4.7401093]]),\n",
       "  MSONAtoms(symbols='AlCoNi', pbc=True, cell=[[1.93538533, 1.93414487, 0.00198112], [1.93538539, -1.93414493, 0.00198126], [-1.9392256, 1.8e-07, -4.76469908]])],\n",
       " 'energy_electronic_step': array([array([ 97.21594274, -12.60744883, -16.63785744, -16.7127281 ,\n",
       "               -16.71549699, -26.76624716, -16.59720256, -21.06967308,\n",
       "               -16.49950298, -16.5583141 , -16.57234489, -16.56777888,\n",
       "               -16.56837398, -16.56806888, -16.56812537, -16.56809445,\n",
       "               -16.56810319])                                         ,\n",
       "        array([-41.65745665, -53.38071291, -21.31035401, -17.10415592,\n",
       "               -17.13577918, -17.68351151, -17.02203216, -16.94394309,\n",
       "               -16.94424211, -16.94438977, -16.94444769, -16.94447521,\n",
       "               -16.94447508])                                         ,\n",
       "        array([-19.08602965, -20.46856528, -17.55130663, -17.10764981,\n",
       "               -17.067025  , -17.03976612, -17.04112777, -17.04178616,\n",
       "               -17.04201546, -17.0419962 , -17.04200442])             ,\n",
       "        array([-17.16072079, -17.11499111, -17.15180556, -17.09103495,\n",
       "               -17.08453442, -17.08354072, -17.08357703, -17.08358995,\n",
       "               -17.08359007])                                         ,\n",
       "        array([-17.57119189, -17.29636702, -17.55634023, -17.19220043,\n",
       "               -17.13124083, -17.12797373, -17.12826907, -17.12831053,\n",
       "               -17.12828865, -17.12828963])                           ,\n",
       "        array([-17.14423266, -17.13586911, -17.13959785, -17.13288483,\n",
       "               -17.12948176, -17.12941956, -17.1294279 ])             ,\n",
       "        array([-17.17385691, -17.15081847, -17.16420112, -17.13828708,\n",
       "               -17.12956375, -17.1292389 , -17.12926588, -17.12926983]),\n",
       "        array([-17.68667688, -18.10884147, -17.75959405, -17.14569768,\n",
       "               -17.12790351, -17.12389962, -17.1235817 , -17.1236467 ,\n",
       "               -17.12364161])                                         ],\n",
       "       dtype=object),\n",
       " 'ionic_steps': 8}"
      ]
     },
     "execution_count": 29,
     "metadata": {},
     "output_type": "execute_result"
    }
   ],
   "source": [
    "read_unfinished_job('test_pyiron', 300)"
   ]
  },
  {
   "cell_type": "code",
   "execution_count": null,
   "id": "a00d4eca-4e1e-49db-8e55-37f6bab55974",
   "metadata": {},
   "outputs": [],
   "source": []
  },
  {
   "cell_type": "code",
   "execution_count": null,
   "id": "391859d8-64bf-460b-9fdd-f43a2b9ad07d",
   "metadata": {},
   "outputs": [],
   "source": []
  },
  {
   "cell_type": "code",
   "execution_count": null,
   "id": "3856c43d-7a34-41f3-baa8-d04be151fa7a",
   "metadata": {},
   "outputs": [],
   "source": []
  },
  {
   "cell_type": "code",
   "execution_count": 30,
   "id": "74a0b021-be93-46b4-84ce-92d11958a427",
   "metadata": {},
   "outputs": [
    {
     "name": "stderr",
     "output_type": "stream",
     "text": [
      "2025-01-29 08:26:26,336 - pyiron_log - WARNING - Could not access indices, returning None!\n"
     ]
    },
    {
     "name": "stdout",
     "output_type": "stream",
     "text": [
      "pyiron status: finished\n",
      "parsing...\n"
     ]
    }
   ],
   "source": [
    "res10 = new_set.vasp_pyiron_calculation(atoms_test_10, id = id_test_10)"
   ]
  },
  {
   "cell_type": "code",
   "execution_count": 31,
   "id": "3ccae14e-a499-4e37-84c1-44da372563a0",
   "metadata": {},
   "outputs": [
    {
     "data": {
      "text/plain": [
       "{'master_status': 'FINISHED',\n",
       " 'error': '',\n",
       " 'status_pyiron': 'finished',\n",
       " 'energy_traj': array([-7.63093377, -7.68685634, -7.70265879, -7.70866461, -7.70950089,\n",
       "        -7.70988287, -7.7098807 , -7.70988574]),\n",
       " 'force_traj': array([[[-6.0e-07,  1.1e-07,  5.3e-07],\n",
       "         [ 6.0e-07, -1.1e-07, -5.3e-07]],\n",
       " \n",
       "        [[ 7.0e-08,  4.4e-07, -9.0e-07],\n",
       "         [-7.0e-08, -4.4e-07,  9.0e-07]],\n",
       " \n",
       "        [[ 2.4e-07, -1.8e-07,  2.1e-07],\n",
       "         [-2.4e-07,  1.8e-07, -2.1e-07]],\n",
       " \n",
       "        [[-1.1e-07,  7.0e-08, -4.9e-07],\n",
       "         [ 1.1e-07, -7.0e-08,  4.9e-07]],\n",
       " \n",
       "        [[ 2.0e-07,  1.2e-07, -1.1e-07],\n",
       "         [-2.0e-07, -1.2e-07,  1.1e-07]],\n",
       " \n",
       "        [[-5.9e-07,  9.0e-08, -1.0e-07],\n",
       "         [ 5.9e-07, -9.0e-08,  1.0e-07]],\n",
       " \n",
       "        [[ 2.8e-07,  3.0e-08, -3.3e-07],\n",
       "         [-2.8e-07, -3.0e-08,  3.3e-07]],\n",
       " \n",
       "        [[ 8.0e-08, -4.0e-08, -2.5e-07],\n",
       "         [-8.0e-08,  4.0e-08,  2.5e-07]]]),\n",
       " 'stress_traj': array([[[-6.52904916e-03,  2.38265490e-02, -2.48207652e-02],\n",
       "         [ 2.38265490e-02, -8.21868184e-03,  2.38260746e-02],\n",
       "         [-2.48207652e-02,  2.38260746e-02, -6.52848742e-03]],\n",
       " \n",
       "        [[ 6.32742969e-03,  1.66994758e-02, -1.58567972e-02],\n",
       "         [ 1.66994758e-02,  9.47248866e-03,  1.66990514e-02],\n",
       "         [-1.58567972e-02,  1.66990514e-02,  6.32729237e-03]],\n",
       " \n",
       "        [[ 1.53192410e-02,  1.08777020e-03, -2.53950152e-03],\n",
       "         [ 1.08777020e-03,  2.02494839e-02,  1.08778268e-03],\n",
       "         [-2.53950152e-03,  1.08778268e-03,  1.53186855e-02]],\n",
       " \n",
       "        [[-7.40809081e-03, -2.08743526e-03,  4.74102533e-03],\n",
       "         [-2.08743526e-03, -7.86251636e-03, -2.08718560e-03],\n",
       "         [ 4.74102533e-03, -2.08718560e-03, -7.40797846e-03]],\n",
       " \n",
       "        [[ 6.59446641e-04, -1.38348042e-03,  2.86652539e-03],\n",
       "         [-1.38348042e-03,  1.75355197e-03, -1.38351163e-03],\n",
       "         [ 2.86652539e-03, -1.38351163e-03,  6.59115841e-04]],\n",
       " \n",
       "        [[-5.10159731e-03, -2.44523601e-04,  1.00794130e-03],\n",
       "         [-2.44523601e-04, -3.72256708e-03, -2.44149110e-04],\n",
       "         [ 1.00794130e-03, -2.44149110e-04, -5.10189066e-03]],\n",
       " \n",
       "        [[ 7.94000470e-03,  4.84216274e-05,  2.82815259e-04],\n",
       "         [ 4.84216274e-05,  9.00943734e-03,  4.88210840e-05],\n",
       "         [ 2.82815259e-04,  4.88210840e-05,  7.93984866e-03]],\n",
       " \n",
       "        [[-6.05501902e-03, -1.85029536e-04,  8.79104070e-04],\n",
       "         [-1.85029536e-04, -4.71664599e-03, -1.84586389e-04],\n",
       "         [ 8.79104070e-04, -1.84586389e-04, -6.05528117e-03]]]),\n",
       " 'structures_traj': [Atoms(symbols='AlCu', pbc=True, cell=[[-1.90378125, -1.90378125, 0.0], [0.0, -1.90378125, -1.90378125], [1.90378125, -3.8075625, 1.90378125]], initial_magmoms=...),\n",
       "  Atoms(symbols='AlCu', pbc=True, cell=[[-1.92570488, -1.92356337, 0.00126072], [0.00126011, -1.92356277, -1.92570499], [1.8036494, -3.72633196, 1.80365131]], initial_magmoms=...),\n",
       "  Atoms(symbols='AlCu', pbc=True, cell=[[-1.94289761, -1.9390767, 0.00224938], [0.00224831, -1.93907563, -1.94289781], [1.725125, -3.66263017, 1.72512843]], initial_magmoms=...),\n",
       "  Atoms(symbols='AlCu', pbc=True, cell=[[-1.97371284, -1.97632917, 0.00480601], [0.00480475, -1.97632791, -1.97371226], [1.70943355, -3.6921498, 1.70943685]], initial_magmoms=...),\n",
       "  Atoms(symbols='AlCu', pbc=True, cell=[[-1.96553105, -1.96643822, 0.0041272], [0.00412599, -1.96643701, -1.96553068], [1.7135998, -3.68431201, 1.71360314]], initial_magmoms=...),\n",
       "  Atoms(symbols='AlCu', pbc=True, cell=[[-1.96427116, -1.96671105, 0.0019936], [0.00199235, -1.9667098, -1.96427029], [1.7218059, -3.6922469, 1.7218089]], initial_magmoms=...),\n",
       "  Atoms(symbols='AlCu', pbc=True, cell=[[-1.9643493, -1.96669413, 0.00212593], [0.00212469, -1.96669288, -1.96434846], [1.72129693, -3.69175475, 1.72129995]], initial_magmoms=...),\n",
       "  Atoms(symbols='AlCu', pbc=True, cell=[[-1.96428304, -1.96670848, 0.00201372], [0.00201247, -1.96670722, -1.96428217], [1.72172852, -3.69217208, 1.72173153]], initial_magmoms=...)],\n",
       " 'energy_electronic_step': array([array([ 47.32622414,  -7.71210347,  -9.2929377 ,  -9.32397605,\n",
       "                -9.32501956, -12.02856889,  -7.75226058,  -7.62839101,\n",
       "                -7.6347309 ,  -7.63017627,  -7.63121514,  -7.6308737 ,\n",
       "                -7.63091096,  -7.63093223,  -7.63093377])             ,\n",
       "        array([-7.88140014, -7.80703464, -7.71027143, -7.68567934, -7.68649015,\n",
       "               -7.68676316, -7.68679077, -7.68684986, -7.68685634])            ,\n",
       "        array([-7.83239355, -7.78093255, -7.71809349, -7.70194157, -7.70245115,\n",
       "               -7.70253542, -7.70263308, -7.70265597, -7.70265879])            ,\n",
       "        array([-8.02756096, -7.90791113, -7.7290159 , -7.70933979, -7.7088594 ,\n",
       "               -7.70838979, -7.70862661, -7.70865895, -7.70866461])            ,\n",
       "        array([-7.73352908, -7.73155059, -7.71024108, -7.70952287, -7.7095078 ,\n",
       "               -7.70949088, -7.70949913, -7.70950089])                         ,\n",
       "        array([-7.71210395, -7.71128209, -7.71013348, -7.70987917, -7.70987998,\n",
       "               -7.70988287])                                                   ,\n",
       "        array([-7.70988537, -7.7098807 ]),\n",
       "        array([-7.70988564, -7.70988574])], dtype=object),\n",
       " 'ionic_steps': 8}"
      ]
     },
     "execution_count": 31,
     "metadata": {},
     "output_type": "execute_result"
    }
   ],
   "source": [
    "res10"
   ]
  },
  {
   "cell_type": "code",
   "execution_count": 32,
   "id": "6ed5f47a-201f-40e8-b018-6dfa08cf49e7",
   "metadata": {},
   "outputs": [
    {
     "name": "stdout",
     "output_type": "stream",
     "text": [
      "Atoms(symbols='AlCu', pbc=True, cell=[[-1.90378125, -1.90378125, 0.0], [0.0, -1.90378125, -1.90378125], [1.90378125, -3.8075625, 1.90378125]], initial_magmoms=...)\n",
      "Atoms(symbols='AlCu', pbc=True, cell=[[-1.92570488, -1.92356337, 0.00126072], [0.00126011, -1.92356277, -1.92570499], [1.8036494, -3.72633196, 1.80365131]], initial_magmoms=...)\n",
      "Atoms(symbols='AlCu', pbc=True, cell=[[-1.94289761, -1.9390767, 0.00224938], [0.00224831, -1.93907563, -1.94289781], [1.725125, -3.66263017, 1.72512843]], initial_magmoms=...)\n",
      "Atoms(symbols='AlCu', pbc=True, cell=[[-1.97371284, -1.97632917, 0.00480601], [0.00480475, -1.97632791, -1.97371226], [1.70943355, -3.6921498, 1.70943685]], initial_magmoms=...)\n",
      "Atoms(symbols='AlCu', pbc=True, cell=[[-1.96553105, -1.96643822, 0.0041272], [0.00412599, -1.96643701, -1.96553068], [1.7135998, -3.68431201, 1.71360314]], initial_magmoms=...)\n",
      "Atoms(symbols='AlCu', pbc=True, cell=[[-1.96427116, -1.96671105, 0.0019936], [0.00199235, -1.9667098, -1.96427029], [1.7218059, -3.6922469, 1.7218089]], initial_magmoms=...)\n",
      "Atoms(symbols='AlCu', pbc=True, cell=[[-1.9643493, -1.96669413, 0.00212593], [0.00212469, -1.96669288, -1.96434846], [1.72129693, -3.69175475, 1.72129995]], initial_magmoms=...)\n",
      "Atoms(symbols='AlCu', pbc=True, cell=[[-1.96428304, -1.96670848, 0.00201372], [0.00201247, -1.96670722, -1.96428217], [1.72172852, -3.69217208, 1.72173153]], initial_magmoms=...)\n"
     ]
    }
   ],
   "source": [
    "for i in res10['structures_traj']:\n",
    "    print(i)"
   ]
  },
  {
   "cell_type": "code",
   "execution_count": 33,
   "id": "c7ec42e2-06e4-4b33-9208-13f821da3e1f",
   "metadata": {},
   "outputs": [
    {
     "name": "stderr",
     "output_type": "stream",
     "text": [
      "2025-01-29 08:26:30,783 - pyiron_log - WARNING - Job aborted - please remove it and run again! vasp_000000000000078\n"
     ]
    },
    {
     "name": "stdout",
     "output_type": "stream",
     "text": [
      "pyiron status: aborted\n",
      "parsing...\n",
      "parsing not succesful\n",
      "FAILED\n",
      "'NoneType' object has no attribute 'copy'\n"
     ]
    }
   ],
   "source": [
    "res78 = new_set.vasp_pyiron_calculation(atoms_test_78, id = id_test_78)"
   ]
  },
  {
   "cell_type": "code",
   "execution_count": 34,
   "id": "7d25933f-ae1d-4eda-b995-63df25d0d0be",
   "metadata": {},
   "outputs": [
    {
     "data": {
      "text/plain": [
       "{'master_status': 'FAILED',\n",
       " 'status_pyiron': 'aborted',\n",
       " 'error': AttributeError(\"'NoneType' object has no attribute 'copy'\")}"
      ]
     },
     "execution_count": 34,
     "metadata": {},
     "output_type": "execute_result"
    }
   ],
   "source": [
    "res78"
   ]
  },
  {
   "cell_type": "code",
   "execution_count": 35,
   "id": "671cef1a-4866-45f3-a16c-f8b668920060",
   "metadata": {},
   "outputs": [
    {
     "name": "stdout",
     "output_type": "stream",
     "text": [
      "pyiron status: finished\n",
      "parsing...\n"
     ]
    }
   ],
   "source": [
    "res3 = new_set.vasp_pyiron_calculation(atoms_test_3,id = id_test_3, return_job = True)"
   ]
  },
  {
   "cell_type": "code",
   "execution_count": 36,
   "id": "f7cd43a5-af06-4e1a-b0e0-b3b8decdeb77",
   "metadata": {},
   "outputs": [],
   "source": [
    "vaspxml = Vasprun(res3.working_directory+'/vasprun.xml')"
   ]
  },
  {
   "cell_type": "code",
   "execution_count": 37,
   "id": "f3dd489f-c7d1-4a8a-8e22-896d7431e9c9",
   "metadata": {},
   "outputs": [
    {
     "name": "stderr",
     "output_type": "stream",
     "text": [
      "/tmp/job.1973031/ipykernel_2531115/2547059328.py:1: DeprecationWarning: pyiron_base.jobs.job.core.__getitem__ is deprecated: Use job.output for results, job.files to access files; job.content to access HDF storage and job.child_project to access children of master jobs..\n",
      "  res3['output/generic/dft/magnetization']\n"
     ]
    },
    {
     "data": {
      "text/plain": [
       "array([array([ 1.730000e+00,  1.730000e+00,  1.730000e+00,  1.730000e+00,\n",
       "              -4.815191e-01,  1.059305e-01,  2.355010e-02, -1.312180e-02,\n",
       "              -1.452800e-03,  2.359500e-03,  1.587000e-04,  1.587000e-04]),\n",
       "       array([-4.928e-04,  7.932e-04,  2.580e-05,  4.038e-04,  1.091e-04,\n",
       "              -4.878e-04, -1.391e-04, -2.878e-04, -7.380e-05, -1.890e-04,\n",
       "              -4.820e-05, -7.580e-05,  3.310e-05, -6.000e-06, -6.000e-06]),\n",
       "       array([-2.49000e-05,  9.85000e-05, -3.31962e-02,  5.73510e-03,\n",
       "               6.52550e-03, -7.31060e-03, -7.91490e-03, -4.07520e-03,\n",
       "               1.18667e-02,  3.17003e-02,  2.04038e-02,  1.51682e-02,\n",
       "               7.25540e-03,  6.87600e-03,  5.10570e-03,  4.92820e-03,\n",
       "               4.47920e-03,  3.59590e-03,  3.00030e-03,  2.81300e-03,\n",
       "               2.55160e-03,  2.37670e-03,  2.20260e-03,  2.13990e-03,\n",
       "               2.13620e-03,  2.13770e-03,  2.12280e-03,  2.12280e-03]),\n",
       "       array([-3.338e-04, -1.032e-04,  1.486e-04, -4.000e-07,  7.000e-07,\n",
       "               1.700e-06, -1.220e-05, -2.540e-05,  2.380e-05,  2.380e-05]),\n",
       "       array([-9.80e-06, -2.00e-05,  6.30e-06,  1.31e-05, -7.00e-07, -1.38e-05,\n",
       "              -1.38e-05])                                                      ,\n",
       "       array([ 1.0e-07, -1.6e-06,  2.8e-06,  1.0e-06, -2.4e-06, -2.4e-06]),\n",
       "       array([-1.5e-06,  7.0e-07,  1.6e-06, -7.0e-07, -7.0e-07]),\n",
       "       array([1.e-07, 2.e-07, 0.e+00, 0.e+00]), array([-0., -0., -0.]),\n",
       "       array([0., 0.])], dtype=object)"
      ]
     },
     "execution_count": 37,
     "metadata": {},
     "output_type": "execute_result"
    }
   ],
   "source": [
    "res3['output/generic/dft/magnetization']"
   ]
  },
  {
   "cell_type": "code",
   "execution_count": 46,
   "id": "d8003a0b-2da6-40a3-a60c-9b9400792f68",
   "metadata": {},
   "outputs": [
    {
     "data": {
      "text/plain": [
       "{'groups': ['input', 'output'], 'nodes': ['DICT_VERSION', 'HDF_VERSION', 'NAME', 'OBJECT', 'TYPE', 'VERSION', 'executable', 'job_id', 'server', 'status']}"
      ]
     },
     "execution_count": 46,
     "metadata": {},
     "output_type": "execute_result"
    }
   ],
   "source": [
    "res3"
   ]
  },
  {
   "cell_type": "code",
   "execution_count": 55,
   "id": "1525ff82-cba7-4628-a2e0-70ab11183364",
   "metadata": {},
   "outputs": [
    {
     "name": "stderr",
     "output_type": "stream",
     "text": [
      "/tmp/job.1973031/ipykernel_2531115/598909696.py:1: DeprecationWarning: pyiron_base.jobs.job.core.__getitem__ is deprecated: Use job.output for results, job.files to access files; job.content to access HDF storage and job.child_project to access children of master jobs..\n",
      "  squeue_check_av(res3['server']['qid'])\n"
     ]
    },
    {
     "data": {
      "text/plain": [
       "('COMPLETED', '00:10:33')"
      ]
     },
     "execution_count": 55,
     "metadata": {},
     "output_type": "execute_result"
    }
   ],
   "source": [
    "squeue_check_av(res3['server']['qid'])"
   ]
  },
  {
   "cell_type": "code",
   "execution_count": null,
   "id": "8547fb2f-5286-44fb-9032-566c91d4c555",
   "metadata": {},
   "outputs": [],
   "source": []
  },
  {
   "cell_type": "code",
   "execution_count": null,
   "id": "a4dc4c37-2697-49cc-b674-dc2cab403a07",
   "metadata": {},
   "outputs": [],
   "source": []
  },
  {
   "cell_type": "code",
   "execution_count": 39,
   "id": "ab114fef-388b-4f99-8dab-7b1678fee005",
   "metadata": {
    "scrolled": true
   },
   "outputs": [
    {
     "data": {
      "text/plain": [
       "['REDIRECT',\n",
       " '__class__',\n",
       " '__delattr__',\n",
       " '__dict__',\n",
       " '__dir__',\n",
       " '__doc__',\n",
       " '__eq__',\n",
       " '__format__',\n",
       " '__ge__',\n",
       " '__get_pydantic_core_schema__',\n",
       " '__get_pydantic_json_schema__',\n",
       " '__get_validators__',\n",
       " '__getattribute__',\n",
       " '__gt__',\n",
       " '__hash__',\n",
       " '__init__',\n",
       " '__init_subclass__',\n",
       " '__le__',\n",
       " '__lt__',\n",
       " '__modify_schema__',\n",
       " '__module__',\n",
       " '__ne__',\n",
       " '__new__',\n",
       " '__reduce__',\n",
       " '__reduce_ex__',\n",
       " '__repr__',\n",
       " '__setattr__',\n",
       " '__sizeof__',\n",
       " '__str__',\n",
       " '__subclasshook__',\n",
       " '__weakref__',\n",
       " '_generic_json_schema',\n",
       " '_get_partial_json',\n",
       " '_parse',\n",
       " '_parse_atominfo',\n",
       " '_parse_chemical_shielding',\n",
       " '_parse_diel',\n",
       " '_parse_dos',\n",
       " '_parse_dynmat',\n",
       " '_parse_eigen',\n",
       " '_parse_ionic_step',\n",
       " '_parse_kpoints',\n",
       " '_parse_optical_transition',\n",
       " '_parse_params',\n",
       " '_parse_projected_eigen',\n",
       " '_parse_structure',\n",
       " '_validate_monty',\n",
       " 'actual_kpoints',\n",
       " 'actual_kpoints_weights',\n",
       " 'as_dict',\n",
       " 'atomic_symbols',\n",
       " 'calculate_efermi',\n",
       " 'complete_dos',\n",
       " 'complete_dos_normalized',\n",
       " 'converged',\n",
       " 'converged_electronic',\n",
       " 'converged_ionic',\n",
       " 'dielectric',\n",
       " 'dielectric_data',\n",
       " 'dos_has_errors',\n",
       " 'efermi',\n",
       " 'eigenvalue_band_properties',\n",
       " 'eigenvalues',\n",
       " 'epsilon_ionic',\n",
       " 'epsilon_static',\n",
       " 'epsilon_static_wolfe',\n",
       " 'exception_on_bad_xml',\n",
       " 'filename',\n",
       " 'final_energy',\n",
       " 'final_structure',\n",
       " 'from_dict',\n",
       " 'generator',\n",
       " 'get_band_structure',\n",
       " 'get_computed_entry',\n",
       " 'get_partial_json',\n",
       " 'get_potcars',\n",
       " 'get_trajectory',\n",
       " 'hubbards',\n",
       " 'idos',\n",
       " 'incar',\n",
       " 'initial_structure',\n",
       " 'ionic_step_offset',\n",
       " 'ionic_step_skip',\n",
       " 'ionic_steps',\n",
       " 'is_hubbard',\n",
       " 'is_spin',\n",
       " 'kpoints',\n",
       " 'kpoints_opt_props',\n",
       " 'load',\n",
       " 'md_data',\n",
       " 'md_n_steps',\n",
       " 'nionic_steps',\n",
       " 'occu_tol',\n",
       " 'optical_absorption_coeff',\n",
       " 'parameters',\n",
       " 'pdos',\n",
       " 'potcar_spec',\n",
       " 'potcar_symbols',\n",
       " 'projected_eigenvalues',\n",
       " 'projected_magnetisation',\n",
       " 'run_type',\n",
       " 'save',\n",
       " 'separate_spins',\n",
       " 'structures',\n",
       " 'tdos',\n",
       " 'to_json',\n",
       " 'unsafe_hash',\n",
       " 'update_charge_from_potcar',\n",
       " 'update_potcar_spec',\n",
       " 'validate_monty_v1',\n",
       " 'validate_monty_v2',\n",
       " 'vasp_version']"
      ]
     },
     "execution_count": 39,
     "metadata": {},
     "output_type": "execute_result"
    }
   ],
   "source": [
    "dir(vaspxml)"
   ]
  },
  {
   "cell_type": "code",
   "execution_count": 40,
   "id": "51a47e5d-13e6-49e7-9d51-7ca82d045763",
   "metadata": {},
   "outputs": [
    {
     "name": "stderr",
     "output_type": "stream",
     "text": [
      "/tmp/job.1973031/ipykernel_2531115/2822172813.py:1: DeprecationWarning: pyiron_base.jobs.job.core.__getitem__ is deprecated: Use job.output for results, job.files to access files; job.content to access HDF storage and job.child_project to access children of master jobs..\n",
      "  res3['output/generic/dft/scf_energy_zero']\n"
     ]
    },
    {
     "data": {
      "text/plain": [
       "array([array([31.34010478, -2.08440065, -2.60558468, -2.6082411 , -2.60826371,\n",
       "              -2.33174251, -2.28169183, -2.24854807, -2.24665049, -2.2466335 ,\n",
       "              -2.24663749, -2.24663425])                                      ,\n",
       "       array([-113.63800326,  -23.76506004,  -22.31748645,  -10.05645789,\n",
       "                -3.08130938,   -0.94879707,   -0.69863515,   -0.71478485,\n",
       "                -0.69894039,   -0.70090171,   -0.69662112,   -0.69582401,\n",
       "                -0.695447  ,   -0.695327  ,   -0.69532916])              ,\n",
       "       array([-70.81388293,  -7.76385888,  12.25969548,  -0.57594274,\n",
       "                0.49761524,  -0.28735417,  -0.4555845 ,  -0.58153624,\n",
       "               -0.57902822,  -0.59595905,  -0.65875177,  -0.48923423,\n",
       "               -0.43468706,  -0.43725116,  -0.43878872,  -0.43967631,\n",
       "               -0.43961557,  -0.43967857,  -0.43987417,  -0.44020297,\n",
       "               -0.4403367 ,  -0.44044062,  -0.44047797,  -0.44052693,\n",
       "               -0.44056029,  -0.44058569,  -0.44060392,  -0.44061357]),\n",
       "       array([-4.20819333, -3.74394148, -3.60523993, -3.58191908, -3.57755314,\n",
       "              -3.57822071, -3.57828407, -3.57834859, -3.57824065, -3.57825074]),\n",
       "       array([-3.70526832, -3.65038998, -3.61182727, -3.6106653 , -3.60985275,\n",
       "              -3.60988643, -3.60988166])                                      ,\n",
       "       array([-3.62552301, -3.62091252, -3.61819583, -3.6180624 , -3.61800113,\n",
       "              -3.6180034 ])                                                   ,\n",
       "       array([-3.62176345, -3.62117671, -3.62081486, -3.62079544, -3.62078962]),\n",
       "       array([-3.62208019, -3.62198708, -3.62193054, -3.62192724]),\n",
       "       array([-3.62237668, -3.62236245, -3.62235425]),\n",
       "       array([-3.62254081, -3.62253874])], dtype=object)"
      ]
     },
     "execution_count": 40,
     "metadata": {},
     "output_type": "execute_result"
    }
   ],
   "source": [
    "res3['output/generic/dft/scf_energy_zero']"
   ]
  },
  {
   "cell_type": "code",
   "execution_count": 41,
   "id": "7f8aae0b-af37-4a21-9ca2-bb38405619f1",
   "metadata": {
    "scrolled": true
   },
   "outputs": [
    {
     "name": "stdout",
     "output_type": "stream",
     "text": [
      "##################################################\n",
      "31.34010478\n",
      "-2.08440065\n",
      "-2.60558468\n",
      "-2.6082411\n",
      "-2.60826371\n",
      "-2.33174251\n",
      "-2.28169183\n",
      "-2.24854807\n",
      "-2.24665049\n",
      "-2.2466335\n",
      "-2.24663749\n",
      "-2.24663425\n",
      "##################################################\n",
      "-113.63800326\n",
      "-23.76506004\n",
      "-22.31748645\n",
      "-10.05645789\n",
      "-3.08130938\n",
      "-0.94879707\n",
      "-0.69863515\n",
      "-0.71478485\n",
      "-0.69894039\n",
      "-0.70090171\n",
      "-0.69662112\n",
      "-0.69582401\n",
      "-0.695447\n",
      "-0.695327\n",
      "-0.69532916\n",
      "##################################################\n",
      "-70.81388293\n",
      "-7.76385888\n",
      "12.25969548\n",
      "-0.57594274\n",
      "0.49761524\n",
      "-0.28735417\n",
      "-0.4555845\n",
      "-0.58153624\n",
      "-0.57902822\n",
      "-0.59595905\n",
      "-0.65875177\n",
      "-0.48923423\n",
      "-0.43468706\n",
      "-0.43725116\n",
      "-0.43878872\n",
      "-0.43967631\n",
      "-0.43961557\n",
      "-0.43967857\n",
      "-0.43987417\n",
      "-0.44020297\n",
      "-0.4403367\n",
      "-0.44044062\n",
      "-0.44047797\n",
      "-0.44052693\n",
      "-0.44056029\n",
      "-0.44058569\n",
      "-0.44060392\n",
      "-0.44061357\n",
      "##################################################\n",
      "-4.20819333\n",
      "-3.74394148\n",
      "-3.60523993\n",
      "-3.58191908\n",
      "-3.57755314\n",
      "-3.57822071\n",
      "-3.57828407\n",
      "-3.57834859\n",
      "-3.57824065\n",
      "-3.57825074\n",
      "##################################################\n",
      "-3.70526832\n",
      "-3.65038998\n",
      "-3.61182727\n",
      "-3.6106653\n",
      "-3.60985275\n",
      "-3.60988643\n",
      "-3.60988166\n",
      "##################################################\n",
      "-3.62552301\n",
      "-3.62091252\n",
      "-3.61819583\n",
      "-3.6180624\n",
      "-3.61800113\n",
      "-3.6180034\n",
      "##################################################\n",
      "-3.62176345\n",
      "-3.62117671\n",
      "-3.62081486\n",
      "-3.62079544\n",
      "-3.62078962\n",
      "##################################################\n",
      "-3.62208019\n",
      "-3.62198708\n",
      "-3.62193054\n",
      "-3.62192724\n",
      "##################################################\n",
      "-3.62237668\n",
      "-3.62236245\n",
      "-3.62235425\n",
      "##################################################\n",
      "-3.62254081\n",
      "-3.62253874\n"
     ]
    }
   ],
   "source": [
    "for i in vaspxml.ionic_steps:\n",
    "    print('#'*50)\n",
    "    for j in i['electronic_steps']:\n",
    "        print(j['e_0_energy'])"
   ]
  },
  {
   "cell_type": "code",
   "execution_count": 42,
   "id": "f266ef06-4d7e-43b9-b9ff-edd5a45b5ff1",
   "metadata": {},
   "outputs": [
    {
     "name": "stderr",
     "output_type": "stream",
     "text": [
      "/tmp/job.1973031/ipykernel_2531115/2812845174.py:1: DeprecationWarning: pyiron_base.jobs.job.core.__getitem__ is deprecated: Use job.output for results, job.files to access files; job.content to access HDF storage and job.child_project to access children of master jobs..\n",
      "  res3['output/generic/dft/energy_zero']\n"
     ]
    },
    {
     "data": {
      "text/plain": [
       "array([-2.24663425, -0.69532916, -0.44061357, -3.57825074, -3.60988166,\n",
       "       -3.6180034 , -3.62078962, -3.62192724, -3.62235425, -3.62253874])"
      ]
     },
     "execution_count": 42,
     "metadata": {},
     "output_type": "execute_result"
    }
   ],
   "source": [
    "res3['output/generic/dft/energy_zero']"
   ]
  },
  {
   "cell_type": "code",
   "execution_count": 26,
   "id": "9c60ce19-1648-4d54-adc6-12fd8b7e8f3f",
   "metadata": {},
   "outputs": [
    {
     "name": "stdout",
     "output_type": "stream",
     "text": [
      "-2.24663425\n",
      "-0.69532916\n",
      "-0.44061357\n",
      "-3.57825074\n",
      "-3.60988166\n",
      "-3.6180034\n",
      "-3.62078962\n",
      "-3.62192724\n",
      "-3.62235425\n",
      "-3.62253874\n"
     ]
    }
   ],
   "source": [
    "for i in vaspxml.ionic_steps:\n",
    "    # print(i)\n",
    "    print(i['e_0_energy'])"
   ]
  },
  {
   "cell_type": "code",
   "execution_count": 27,
   "id": "40d0df70-c415-48d5-a0b1-b1eb745cf1aa",
   "metadata": {},
   "outputs": [
    {
     "name": "stderr",
     "output_type": "stream",
     "text": [
      "/tmp/job.1945612/ipykernel_3102597/1665215559.py:1: DeprecationWarning: pyiron_base.jobs.job.core.__getitem__ is deprecated: Use job.output for results, job.files to access files; job.content to access HDF storage and job.child_project to access children of master jobs..\n",
      "  res3['output/generic/forces']\n"
     ]
    },
    {
     "data": {
      "text/plain": [
       "array([[[-1.300e-06, -5.760e-06,  3.550e-06]],\n",
       "\n",
       "       [[-1.220e-06, -3.000e-08,  8.900e-07]],\n",
       "\n",
       "       [[ 2.170e-06, -3.720e-06, -7.700e-06]],\n",
       "\n",
       "       [[-1.370e-05, -2.650e-06,  1.682e-05]],\n",
       "\n",
       "       [[ 4.220e-06, -2.850e-06,  1.730e-06]],\n",
       "\n",
       "       [[-1.010e-06, -2.460e-06,  1.420e-06]],\n",
       "\n",
       "       [[-1.710e-06, -3.800e-07,  7.500e-07]],\n",
       "\n",
       "       [[ 4.200e-07, -1.480e-06, -1.320e-06]],\n",
       "\n",
       "       [[ 6.300e-07, -6.800e-07, -2.500e-07]],\n",
       "\n",
       "       [[ 2.000e-07, -1.800e-07, -1.900e-07]]])"
      ]
     },
     "execution_count": 27,
     "metadata": {},
     "output_type": "execute_result"
    }
   ],
   "source": [
    "res3['output/generic/forces']"
   ]
  },
  {
   "cell_type": "code",
   "execution_count": 28,
   "id": "cefbf249-547f-44c0-9ee3-fa8c59c743ee",
   "metadata": {},
   "outputs": [
    {
     "name": "stdout",
     "output_type": "stream",
     "text": [
      "[[-1.3e-06, -5.76e-06, 3.55e-06]]\n",
      "[[-1.22e-06, -3e-08, 8.9e-07]]\n",
      "[[2.17e-06, -3.72e-06, -7.7e-06]]\n",
      "[[-1.37e-05, -2.65e-06, 1.682e-05]]\n",
      "[[4.22e-06, -2.85e-06, 1.73e-06]]\n",
      "[[-1.01e-06, -2.46e-06, 1.42e-06]]\n",
      "[[-1.71e-06, -3.8e-07, 7.5e-07]]\n",
      "[[4.2e-07, -1.48e-06, -1.32e-06]]\n",
      "[[6.3e-07, -6.8e-07, -2.5e-07]]\n",
      "[[2e-07, -1.8e-07, -1.9e-07]]\n"
     ]
    }
   ],
   "source": [
    "for i in vaspxml.ionic_steps:\n",
    "    # print(i)\n",
    "    print(i['forces'])"
   ]
  },
  {
   "cell_type": "code",
   "execution_count": 29,
   "id": "008baa62-7d6a-4294-9bbc-ba5d69043870",
   "metadata": {},
   "outputs": [
    {
     "name": "stderr",
     "output_type": "stream",
     "text": [
      "/tmp/job.1945612/ipykernel_3102597/65121652.py:1: DeprecationWarning: pyiron_base.jobs.job.core.__getitem__ is deprecated: Use job.output for results, job.files to access files; job.content to access HDF storage and job.child_project to access children of master jobs..\n",
      "  res3['output/generic/stresses']\n"
     ]
    },
    {
     "data": {
      "text/plain": [
       "array([[[ 1.07551385e+00, -4.00704883e-06, -2.76498852e-06],\n",
       "        [-4.00704883e-06,  1.07551427e+00, -2.62767532e-06],\n",
       "        [-2.76498852e-06, -2.62767532e-06,  1.07551560e+00]],\n",
       "\n",
       "       [[-7.17243296e-01,  2.78808210e-05,  2.69383532e-05],\n",
       "        [ 2.78808210e-05, -7.17243752e-01,  2.68072815e-05],\n",
       "        [ 2.69383532e-05,  2.68072815e-05, -7.17244956e-01]],\n",
       "\n",
       "       [[ 6.80315876e-02,  2.27665285e-04, -1.08970507e-04],\n",
       "        [ 2.27665285e-04,  6.79147840e-02, -2.68759381e-05],\n",
       "        [-1.08970507e-04, -2.68759381e-05,  6.78446357e-02]],\n",
       "\n",
       "       [[-1.47790047e-01,  6.42875435e-06,  1.04233202e-06],\n",
       "        [ 6.42875435e-06, -1.47783131e-01,  3.23934321e-06],\n",
       "        [ 1.04233202e-06,  3.23934321e-06, -1.47758246e-01]],\n",
       "\n",
       "       [[-1.13666294e-01,  1.74138103e-06,  1.84748669e-06],\n",
       "        [ 1.74138103e-06, -1.13665395e-01,  3.12075454e-06],\n",
       "        [ 1.84748669e-06,  3.12075454e-06, -1.13666032e-01]],\n",
       "\n",
       "       [[-9.98632714e-02,  2.81492059e-06,  1.79131310e-06],\n",
       "        [ 2.81492059e-06, -9.98640516e-02,  1.67272443e-06],\n",
       "        [ 1.79131310e-06,  1.67272443e-06, -9.98636084e-02]],\n",
       "\n",
       "       [[-1.05221800e-01,  3.62631677e-06,  3.38913943e-06],\n",
       "        [ 3.62631677e-06, -1.05222000e-01,  2.87733568e-06],\n",
       "        [ 3.38913943e-06,  2.87733568e-06, -1.05221644e-01]],\n",
       "\n",
       "       [[-9.58904323e-02,  9.67433906e-06,  9.53702587e-06],\n",
       "        [ 9.67433906e-06, -9.58901951e-02,  9.73051265e-06],\n",
       "        [ 9.53702587e-06,  9.73051265e-06, -9.58906570e-02]],\n",
       "\n",
       "       [[-1.05883837e-01,  9.56199190e-06,  9.53078436e-06],\n",
       "        [ 9.56199190e-06, -1.05883862e-01,  9.47461077e-06],\n",
       "        [ 9.53078436e-06,  9.47461077e-06, -1.05884056e-01]],\n",
       "\n",
       "       [[-9.37072273e-02,  7.37122222e-06,  7.34625618e-06],\n",
       "        [ 7.37122222e-06, -9.37072522e-02,  7.31504863e-06],\n",
       "        [ 7.34625618e-06,  7.31504863e-06, -9.37073584e-02]]])"
      ]
     },
     "execution_count": 29,
     "metadata": {},
     "output_type": "execute_result"
    }
   ],
   "source": [
    "res3['output/generic/stresses']"
   ]
  },
  {
   "cell_type": "code",
   "execution_count": 30,
   "id": "537656e5-e9aa-4db0-ae05-c06bd07e6ff8",
   "metadata": {
    "scrolled": true
   },
   "outputs": [
    {
     "data": {
      "text/plain": [
       "['__abstractmethods__',\n",
       " '__class__',\n",
       " '__del__',\n",
       " '__delattr__',\n",
       " '__delitem__',\n",
       " '__dict__',\n",
       " '__dict_version__',\n",
       " '__dir__',\n",
       " '__doc__',\n",
       " '__eq__',\n",
       " '__format__',\n",
       " '__ge__',\n",
       " '__getattribute__',\n",
       " '__getitem__',\n",
       " '__gt__',\n",
       " '__hash__',\n",
       " '__hdf_version__',\n",
       " '__init__',\n",
       " '__init_subclass__',\n",
       " '__le__',\n",
       " '__lt__',\n",
       " '__module__',\n",
       " '__name__',\n",
       " '__ne__',\n",
       " '__new__',\n",
       " '__obj_type__',\n",
       " '__reduce__',\n",
       " '__reduce_ex__',\n",
       " '__repr__',\n",
       " '__setattr__',\n",
       " '__setitem__',\n",
       " '__sizeof__',\n",
       " '__slots__',\n",
       " '__str__',\n",
       " '__subclasshook__',\n",
       " '__version__',\n",
       " '__weakref__',\n",
       " '_abc_impl',\n",
       " '_after_generic_copy_to',\n",
       " '_before_successor_calc',\n",
       " '_check_if_input_should_be_written',\n",
       " '_check_incar_parameter',\n",
       " '_collect_output_funct',\n",
       " '_compress_by_default',\n",
       " '_create_job_structure',\n",
       " '_create_working_directory',\n",
       " '_database_property',\n",
       " '_db_server_entry',\n",
       " '_decompress_files_in_directory',\n",
       " '_exclude_groups_hdf',\n",
       " '_exclude_nodes_hdf',\n",
       " '_executable',\n",
       " '_executable_activate',\n",
       " '_executable_activate_mpi',\n",
       " '_executor_type',\n",
       " '_extend_hdf',\n",
       " '_extend_species_elements',\n",
       " '_files_to_compress',\n",
       " '_files_to_remove',\n",
       " '_from_dict',\n",
       " '_generic_input',\n",
       " '_get_executor',\n",
       " '_get_path_for_kpoints',\n",
       " '_get_structure',\n",
       " '_hdf5',\n",
       " '_hdf5_content',\n",
       " '_import_directory',\n",
       " '_include_last_step',\n",
       " '_init_child_job',\n",
       " '_interactive_check_output',\n",
       " '_interactive_enforce_structure_reset',\n",
       " '_interactive_fetch_completed',\n",
       " '_interactive_flush_frequency',\n",
       " '_interactive_grand_canonical',\n",
       " '_interactive_library',\n",
       " '_interactive_species_lst',\n",
       " '_interactive_vasprun',\n",
       " '_interactive_write_frequency',\n",
       " '_interactive_write_input_files',\n",
       " '_internal_copy_to',\n",
       " '_job_id',\n",
       " '_job_with_calculate_function',\n",
       " '_list_all',\n",
       " '_list_ext_childs',\n",
       " '_list_groups',\n",
       " '_list_nodes',\n",
       " '_logger',\n",
       " '_master_id',\n",
       " '_name',\n",
       " '_number_of_structures',\n",
       " '_output_parser',\n",
       " '_parent_id',\n",
       " '_periodic_table',\n",
       " '_potential',\n",
       " '_process',\n",
       " '_reinit_potential_setter',\n",
       " '_reload_update_master',\n",
       " '_restart_file_dict',\n",
       " '_restart_file_list',\n",
       " '_run_if_busy',\n",
       " '_run_if_collect',\n",
       " '_run_if_created',\n",
       " '_run_if_new',\n",
       " '_run_if_repair',\n",
       " '_run_if_running',\n",
       " '_run_if_suspended',\n",
       " '_runtime',\n",
       " '_server',\n",
       " '_set_hdf',\n",
       " '_set_kpoints',\n",
       " '_sorted_indices',\n",
       " '_status',\n",
       " '_structure',\n",
       " '_structure_current',\n",
       " '_structure_from_dict',\n",
       " '_structure_from_hdf',\n",
       " '_structure_previous',\n",
       " '_structure_to_dict',\n",
       " '_structure_to_hdf',\n",
       " '_to_dict',\n",
       " '_translate_frame',\n",
       " '_type_from_dict',\n",
       " '_type_from_hdf',\n",
       " '_type_to_dict',\n",
       " '_update_previous_structure',\n",
       " '_write_chemical_formular_to_database',\n",
       " '_write_work_dir_warnings',\n",
       " 'animate_structure',\n",
       " 'animate_structures',\n",
       " 'append_charge_density',\n",
       " 'append_wave_function',\n",
       " 'calc_md',\n",
       " 'calc_minimize',\n",
       " 'calc_static',\n",
       " 'calculate_kwargs',\n",
       " 'check_if_job_exists',\n",
       " 'check_setup',\n",
       " 'child_ids',\n",
       " 'cleanup',\n",
       " 'clear_job',\n",
       " 'collect_errors',\n",
       " 'collect_logfiles',\n",
       " 'collect_output',\n",
       " 'collect_structures',\n",
       " 'collect_warnings',\n",
       " 'compress',\n",
       " 'content',\n",
       " 'continue_with_final_structure',\n",
       " 'continue_with_restart_files',\n",
       " 'convergence_check',\n",
       " 'copy',\n",
       " 'copy_file_to_working_directory',\n",
       " 'copy_hamiltonian',\n",
       " 'copy_template',\n",
       " 'copy_to',\n",
       " 'create_job',\n",
       " 'create_pipeline',\n",
       " 'current_structure',\n",
       " 'database_entry',\n",
       " 'db_entry',\n",
       " 'decompress',\n",
       " 'drop_status_to_aborted',\n",
       " 'encut',\n",
       " 'error',\n",
       " 'exchange_correlation_functional',\n",
       " 'exclude_groups_hdf',\n",
       " 'exclude_nodes_hdf',\n",
       " 'executable',\n",
       " 'executor_type',\n",
       " 'files',\n",
       " 'files_to_compress',\n",
       " 'files_to_remove',\n",
       " 'fix_spin_constraint',\n",
       " 'fix_symmetry',\n",
       " 'from_dict',\n",
       " 'from_directory',\n",
       " 'from_hdf',\n",
       " 'from_hdf_args',\n",
       " 'get',\n",
       " 'get_bader_charges',\n",
       " 'get_bader_volumes',\n",
       " 'get_calculate_function',\n",
       " 'get_charge_density',\n",
       " 'get_density_of_states',\n",
       " 'get_eddrmm_handling',\n",
       " 'get_electronic_structure',\n",
       " 'get_electrostatic_potential',\n",
       " 'get_encut',\n",
       " 'get_enmax_among_species',\n",
       " 'get_final_structure',\n",
       " 'get_final_structure_from_file',\n",
       " 'get_from_table',\n",
       " 'get_icharg_value',\n",
       " 'get_input_parameter_dict',\n",
       " 'get_job_id',\n",
       " 'get_k_mesh_by_cell',\n",
       " 'get_kpoints',\n",
       " 'get_magnetic_moments',\n",
       " 'get_neighbors',\n",
       " 'get_neighbors_snapshots',\n",
       " 'get_nelect',\n",
       " 'get_output_parameter_dict',\n",
       " 'get_rwigs',\n",
       " 'get_structure',\n",
       " 'get_valence_and_total_charge_density',\n",
       " 'get_workdir_file',\n",
       " 'gui',\n",
       " 'id',\n",
       " 'initial_structure',\n",
       " 'input',\n",
       " 'inspect',\n",
       " 'instantiate',\n",
       " 'interactive_atom_spin_constraints_getter',\n",
       " 'interactive_atom_spins_getter',\n",
       " 'interactive_cache',\n",
       " 'interactive_cell_organizer',\n",
       " 'interactive_cells_getter',\n",
       " 'interactive_cells_setter',\n",
       " 'interactive_close',\n",
       " 'interactive_collect',\n",
       " 'interactive_computation_time_getter',\n",
       " 'interactive_energy_pot_getter',\n",
       " 'interactive_energy_tot_getter',\n",
       " 'interactive_enforce_structure_reset',\n",
       " 'interactive_fetch',\n",
       " 'interactive_flush',\n",
       " 'interactive_flush_frequency',\n",
       " 'interactive_forces_getter',\n",
       " 'interactive_index_organizer',\n",
       " 'interactive_indices_getter',\n",
       " 'interactive_indices_setter',\n",
       " 'interactive_initialize_interface',\n",
       " 'interactive_input_functions',\n",
       " 'interactive_is_activated',\n",
       " 'interactive_magmom_organizer',\n",
       " 'interactive_magnetic_forces_getter',\n",
       " 'interactive_open',\n",
       " 'interactive_output_functions',\n",
       " 'interactive_positions_getter',\n",
       " 'interactive_positions_organizer',\n",
       " 'interactive_positions_setter',\n",
       " 'interactive_prepare',\n",
       " 'interactive_pressures_getter',\n",
       " 'interactive_spin_constraints_getter',\n",
       " 'interactive_spin_constraints_setter',\n",
       " 'interactive_spins_getter',\n",
       " 'interactive_steps_getter',\n",
       " 'interactive_store_in_cache',\n",
       " 'interactive_stress_getter',\n",
       " 'interactive_structure_setter',\n",
       " 'interactive_temperatures_getter',\n",
       " 'interactive_time_getter',\n",
       " 'interactive_unwrapped_positions_getter',\n",
       " 'interactive_volume_getter',\n",
       " 'interactive_write_frequency',\n",
       " 'is_compressed',\n",
       " 'is_master_id',\n",
       " 'is_self_archived',\n",
       " 'iter_structures',\n",
       " 'job_file_name',\n",
       " 'job_id',\n",
       " 'job_info_str',\n",
       " 'job_name',\n",
       " 'job_type',\n",
       " 'k_mesh_center_shift',\n",
       " 'k_mesh_spacing',\n",
       " 'kill',\n",
       " 'kpoint_mesh',\n",
       " 'list_all',\n",
       " 'list_childs',\n",
       " 'list_files',\n",
       " 'list_groups',\n",
       " 'list_nodes',\n",
       " 'list_potentials',\n",
       " 'load',\n",
       " 'logger',\n",
       " 'map',\n",
       " 'map_functions',\n",
       " 'master_id',\n",
       " 'modify_kpoints',\n",
       " 'move_to',\n",
       " 'name',\n",
       " 'nbands_convergence_check',\n",
       " 'number_of_structures',\n",
       " 'output',\n",
       " 'parent_id',\n",
       " 'path',\n",
       " 'plane_wave_cutoff',\n",
       " 'potential',\n",
       " 'potential_available',\n",
       " 'potential_list',\n",
       " 'potential_view',\n",
       " 'project',\n",
       " 'project_hdf5',\n",
       " 'publication',\n",
       " 'queue_id',\n",
       " 'reduce_kpoint_symmetry',\n",
       " 'refresh_job_status',\n",
       " 'relocate_hdf5',\n",
       " 'remove',\n",
       " 'remove_and_reset_id',\n",
       " 'remove_child',\n",
       " 'rename',\n",
       " 'reset_job_id',\n",
       " 'reset_output',\n",
       " 'restart',\n",
       " 'restart_file_dict',\n",
       " 'restart_file_list',\n",
       " 'restart_for_band_structure_calculations',\n",
       " 'restart_from_charge_density',\n",
       " 'restart_from_wave_and_charge',\n",
       " 'restart_from_wave_functions',\n",
       " 'run',\n",
       " 'run_if_interactive',\n",
       " 'run_if_interactive_non_modal',\n",
       " 'run_if_modal',\n",
       " 'run_if_refresh',\n",
       " 'run_if_scheduler',\n",
       " 'run_static',\n",
       " 'run_time_to_db',\n",
       " 'save',\n",
       " 'save_output',\n",
       " 'self_archive',\n",
       " 'self_unarchive',\n",
       " 'server',\n",
       " 'set_algorithm',\n",
       " 'set_convergence_precision',\n",
       " 'set_coulomb_interactions',\n",
       " 'set_dipole_correction',\n",
       " 'set_eddrmm_handling',\n",
       " 'set_electric_field',\n",
       " 'set_empty_states',\n",
       " 'set_encut',\n",
       " 'set_exchange_correlation_functional',\n",
       " 'set_fft_mesh',\n",
       " 'set_for_band_structure_calc',\n",
       " 'set_input_to_read_only',\n",
       " 'set_kpoints',\n",
       " 'set_mixing_parameters',\n",
       " 'set_occupancy_smearing',\n",
       " 'set_rwigs',\n",
       " 'set_spin_constraint',\n",
       " 'show_hdf',\n",
       " 'signal_intercept',\n",
       " 'sorted_indices',\n",
       " 'species_from_hdf',\n",
       " 'spin_constraints',\n",
       " 'status',\n",
       " 'stop_calculation',\n",
       " 'store_structure',\n",
       " 'structure',\n",
       " 'suspend',\n",
       " 'to_dict',\n",
       " 'to_hdf',\n",
       " 'to_object',\n",
       " 'trajectory',\n",
       " 'transfer_from_remote',\n",
       " 'transform_structures',\n",
       " 'update_master',\n",
       " 'validate_ready_to_run',\n",
       " 'version',\n",
       " 'view_structure',\n",
       " 'working_directory',\n",
       " 'write_charge_density',\n",
       " 'write_electrostatic_potential',\n",
       " 'write_input',\n",
       " 'write_magmoms',\n",
       " 'write_resolved_dos',\n",
       " 'write_traj',\n",
       " 'write_wave_funct',\n",
       " 'xc']"
      ]
     },
     "execution_count": 30,
     "metadata": {},
     "output_type": "execute_result"
    }
   ],
   "source": [
    "dir(res3)"
   ]
  },
  {
   "cell_type": "code",
   "execution_count": 32,
   "id": "a5966e89-0408-4137-8cee-eb80cb3e16a8",
   "metadata": {
    "scrolled": true
   },
   "outputs": [
    {
     "data": {
      "text/plain": [
       "{'status': 'finished',\n",
       " 'input/generic_dict': {'restart_file_list': ['/scratch/user/guillermo.vazquez/SAVE/octonary/disall/test/KPOINTS'],\n",
       "  'restart_file_dict': {},\n",
       "  'exclude_nodes_hdf': [],\n",
       "  'exclude_groups_hdf': []},\n",
       " 'server': {'user': 'pyiron',\n",
       "  'host': 'fc001',\n",
       "  'run_mode': 'queue',\n",
       "  'cores': 1,\n",
       "  'threads': 1,\n",
       "  'new_hdf': True,\n",
       "  'accept_crash': False,\n",
       "  'additional_arguments': {},\n",
       "  'gpus': None,\n",
       "  'run_time': None,\n",
       "  'memory_limit': None,\n",
       "  'queue': 'slurm_01',\n",
       "  'qid': 1891664,\n",
       "  'conda_environment_name': None,\n",
       "  'conda_environment_path': None,\n",
       "  'NAME': 'Server',\n",
       "  'TYPE': \"<class 'pyiron_base.jobs.job.extension.server.generic.Server'>\",\n",
       "  'OBJECT': 'Server',\n",
       "  'DICT_VERSION': '0.1.0'},\n",
       " 'executable': {'name': 'vasp',\n",
       "  'operation_system_nt': False,\n",
       "  'mpi': False,\n",
       "  'accepted_return_codes': [0],\n",
       "  'version': '6.3.2',\n",
       "  'executable': None,\n",
       "  'NAME': 'Executable',\n",
       "  'TYPE': \"<class 'pyiron_base.jobs.job.extension.executable.Executable'>\",\n",
       "  'OBJECT': 'Executable',\n",
       "  'DICT_VERSION': '0.1.0'},\n",
       " 'files_to_compress': ['job.e1891664',\n",
       "  'XDATCAR',\n",
       "  'pyiron.log',\n",
       "  'POTCAR',\n",
       "  'error.out',\n",
       "  'OSZICAR',\n",
       "  'EIGENVAL',\n",
       "  'INCAR',\n",
       "  'KPOINTS',\n",
       "  'vasprun.xml',\n",
       "  'job.l1891664',\n",
       "  'CHG',\n",
       "  '.ipynb_checkpoints',\n",
       "  'run_queue.sh',\n",
       "  'POSCAR',\n",
       "  'REPORT',\n",
       "  'IBZKPT',\n",
       "  'OUTCAR',\n",
       "  'DOSCAR',\n",
       "  'CHGCAR',\n",
       "  'PCDAT',\n",
       "  'job.o1891664',\n",
       "  'CONTCAR',\n",
       "  'job.e1891664',\n",
       "  'XDATCAR',\n",
       "  'pyiron.log',\n",
       "  'POTCAR',\n",
       "  'error.out',\n",
       "  'OSZICAR',\n",
       "  'EIGENVAL',\n",
       "  'INCAR',\n",
       "  'KPOINTS',\n",
       "  'vasprun.xml',\n",
       "  'job.l1891664',\n",
       "  'CHG',\n",
       "  'run_queue.sh',\n",
       "  'POSCAR',\n",
       "  'REPORT',\n",
       "  'IBZKPT',\n",
       "  'OUTCAR',\n",
       "  'DOSCAR',\n",
       "  'PCDAT',\n",
       "  'job.o1891664'],\n",
       " 'HDF_VERSION': '0.2.0',\n",
       " 'NAME': 'Vasp',\n",
       " 'TYPE': \"<class 'pyiron_atomistics.vasp.vasp.Vasp'>\",\n",
       " 'OBJECT': 'Vasp',\n",
       " 'DICT_VERSION': '0.1.0',\n",
       " 'VERSION': '6.3.2',\n",
       " 'input/generic/data_dict': {'Parameter': ['calc_mode',\n",
       "   'structure',\n",
       "   'fix_symmetry',\n",
       "   'k_mesh_spacing',\n",
       "   'k_mesh_center_shift',\n",
       "   'reduce_kpoint_symmetry'],\n",
       "  'Value': ['static', 'atoms', True, None, None, True],\n",
       "  'Comment': ['static, minimize, md',\n",
       "   'atoms, continue_final',\n",
       "   '',\n",
       "   '',\n",
       "   '',\n",
       "   '']},\n",
       " 'input/generic/NAME': 'GenericInput',\n",
       " 'input/generic/TYPE': \"<class 'pyiron_atomistics.atomistics.job.atomistic.GenericInput'>\",\n",
       " 'input/generic/OBJECT': 'GenericInput',\n",
       " 'input/generic/DICT_VERSION': '0.1.0',\n",
       " 'input/generic/VERSION': '0.1',\n",
       " 'input/structure/TYPE': \"<class 'pyiron_atomistics.atomistics.structure.atoms.Atoms'>\",\n",
       " 'input/structure/units': {'length': 'A', 'mass': 'u'},\n",
       " 'input/structure/dimension': 3,\n",
       " 'input/structure/positions': array([[0., 0., 0.]]),\n",
       " 'input/structure/info': {},\n",
       " 'input/structure/species': ['Cu'],\n",
       " 'input/structure/indices': array([0]),\n",
       " 'input/structure/tags/initial_magmoms': [1.73],\n",
       " 'input/structure/tags/spin': [1.73],\n",
       " 'input/structure/cell/cell': array([[1.575, 1.575, 0.   ],\n",
       "        [0.   , 1.575, 1.575],\n",
       "        [1.575, 0.   , 1.575]]),\n",
       " 'input/structure/cell/pbc': array([ True,  True,  True]),\n",
       " 'input/structure/spins': array([1.73]),\n",
       " 'input/vasp_dict/eddrmm_handling': 'ignore',\n",
       " 'input/incar/data_dict': {'Parameter': ['SYSTEM',\n",
       "   'PREC',\n",
       "   'ALGO',\n",
       "   'LREAL',\n",
       "   'LWAVE',\n",
       "   'LORBIT',\n",
       "   'NCORE',\n",
       "   'NSW',\n",
       "   'IBRION',\n",
       "   'ISMEAR',\n",
       "   'SIGMA',\n",
       "   'ENCUT',\n",
       "   'EDIFF',\n",
       "   'ISIF',\n",
       "   'ISYM',\n",
       "   'ISPIN'],\n",
       "  'Value': ['vasp_000000000000003',\n",
       "   'Accurate',\n",
       "   'Fast',\n",
       "   False,\n",
       "   False,\n",
       "   '1',\n",
       "   '1',\n",
       "   200,\n",
       "   2,\n",
       "   0,\n",
       "   0.02,\n",
       "   420,\n",
       "   1e-05,\n",
       "   3,\n",
       "   0,\n",
       "   2],\n",
       "  'Comment': ['jobname',\n",
       "   '',\n",
       "   '',\n",
       "   '',\n",
       "   '',\n",
       "   '',\n",
       "   '',\n",
       "   '',\n",
       "   '',\n",
       "   '',\n",
       "   '',\n",
       "   '',\n",
       "   '',\n",
       "   '',\n",
       "   '',\n",
       "   '']},\n",
       " 'input/incar/NAME': 'Incar',\n",
       " 'input/incar/TYPE': \"<class 'pyiron_atomistics.vasp.base.Incar'>\",\n",
       " 'input/incar/OBJECT': 'Incar',\n",
       " 'input/incar/DICT_VERSION': '0.1.0',\n",
       " 'input/incar/VERSION': '0.1',\n",
       " 'input/kpoints/data_dict': {'Parameter': ['', '', '', '', ''],\n",
       "  'Value': ['Kpoints file generated with pyiron_atomistics',\n",
       "   '0',\n",
       "   'Monkhorst_Pack',\n",
       "   '4 4 4',\n",
       "   '0 0 0'],\n",
       "  'Comment': ['', '', '', '', '']},\n",
       " 'input/kpoints/NAME': 'Kpoints',\n",
       " 'input/kpoints/TYPE': \"<class 'pyiron_atomistics.vasp.base.Kpoints'>\",\n",
       " 'input/kpoints/OBJECT': 'Kpoints',\n",
       " 'input/kpoints/DICT_VERSION': '0.1.0',\n",
       " 'input/kpoints/VERSION': '0.1',\n",
       " 'input/potcar/data_dict': {'Parameter': ['xc'],\n",
       "  'Value': ['GGA'],\n",
       "  'Comment': ['LDA, GGA']},\n",
       " 'input/potcar/NAME': 'Potcar',\n",
       " 'input/potcar/TYPE': \"<class 'pyiron_atomistics.vasp.potential.Potcar'>\",\n",
       " 'input/potcar/OBJECT': 'Potcar',\n",
       " 'input/potcar/DICT_VERSION': '0.1.0',\n",
       " 'input/potcar/VERSION': '0.1',\n",
       " 'input/potential_dict': {'Cu': None}}"
      ]
     },
     "execution_count": 32,
     "metadata": {},
     "output_type": "execute_result"
    }
   ],
   "source": [
    "res3.to_dict()"
   ]
  },
  {
   "cell_type": "code",
   "execution_count": 31,
   "id": "7adcf3aa-2979-4865-ad6e-ec7b5a04dd0a",
   "metadata": {},
   "outputs": [
    {
     "data": {
      "text/plain": [
       "{'groups': ['input', 'output'], 'nodes': ['DICT_VERSION', 'HDF_VERSION', 'NAME', 'OBJECT', 'TYPE', 'VERSION', 'executable', 'job_id', 'server', 'status']}"
      ]
     },
     "execution_count": 31,
     "metadata": {},
     "output_type": "execute_result"
    }
   ],
   "source": [
    "res3"
   ]
  },
  {
   "cell_type": "code",
   "execution_count": 35,
   "id": "67e92e40-546a-4cc5-8d92-c7ccda00cf76",
   "metadata": {},
   "outputs": [
    {
     "name": "stdout",
     "output_type": "stream",
     "text": [
      "[[1723.16316016, -0.0064237, -0.00442697], [-0.00642433, 1723.16383187, -0.0042092], [-0.00442649, -0.00420874, 1723.16596951]]\n",
      "[[-1149.15045236, 0.04467033, 0.04315745], [0.04467029, -1149.15118254, 0.04294725], [0.043158, 0.04294646, -1149.15311333]]\n",
      "[[108.99862425, 0.3647619, -0.17458911], [0.36476228, 108.81148044, -0.04306482], [-0.17458942, -0.04306473, 108.6990941]]\n",
      "[[-236.78575876, 0.0102962, 0.00167492], [0.01029623, -236.77467816, 0.00519051], [0.00167519, 0.00519184, -236.73480792]]\n",
      "[[-182.113475, 0.00279099, 0.0029562], [0.00279147, -182.1120409, 0.00500249], [0.0029567, 0.00500227, -182.11306247]]\n",
      "[[-159.99859697, 0.0045073, 0.00287004], [0.00450712, -159.9998485, 0.00268143], [0.00286955, 0.00268117, -159.99914164]]\n",
      "[[-168.58390809, 0.00580973, 0.00542732], [0.0058097, -168.58422837, 0.00461459], [0.00542926, 0.00461435, -168.58365909]]\n",
      "[[-153.63340656, 0.01550486, 0.01528295], [0.01550492, -153.63303288, 0.01558973], [0.01528349, 0.01558891, -153.63377351]]\n",
      "[[-169.64460752, 0.01532429, 0.0152706], [0.01532441, -169.64464754, 0.01517346], [0.01527038, 0.0151751, -169.64496375]]\n",
      "[[-150.1355284, 0.01181229, 0.01177345], [0.01181173, -150.13557279, 0.01171892], [0.01177402, 0.01171937, -150.13573951]]\n"
     ]
    }
   ],
   "source": [
    "for i in vaspxml.ionic_steps:\n",
    "    # print(i)\n",
    "    print(i['stress'])"
   ]
  },
  {
   "cell_type": "code",
   "execution_count": 36,
   "id": "45b2b5c9-1eb5-4f49-8fe1-5aa9e865ea6e",
   "metadata": {},
   "outputs": [
    {
     "data": {
      "text/plain": [
       "1602.1766341363245"
      ]
     },
     "execution_count": 36,
     "metadata": {},
     "output_type": "execute_result"
    }
   ],
   "source": [
    "1723.16316016/1.07551385"
   ]
  },
  {
   "cell_type": "code",
   "execution_count": null,
   "id": "98bd7f2f-36a5-4cc4-81e3-2d349bb9e78d",
   "metadata": {},
   "outputs": [],
   "source": []
  },
  {
   "cell_type": "code",
   "execution_count": 44,
   "id": "0734ea82-b511-442a-abbd-3aaaba6c52d3",
   "metadata": {},
   "outputs": [
    {
     "name": "stderr",
     "output_type": "stream",
     "text": [
      "2025-01-17 03:46:38,457 - pyiron_log - WARNING - Job aborted - please remove it and run again! vasp_000000000000020\n"
     ]
    },
    {
     "name": "stdout",
     "output_type": "stream",
     "text": [
      "aborted\n",
      "trying\n",
      "'NoneType' object has no attribute 'copy'\n"
     ]
    },
    {
     "ename": "NameError",
     "evalue": "name 'no_try' is not defined",
     "output_type": "error",
     "traceback": [
      "\u001b[0;31m---------------------------------------------------------------------------\u001b[0m",
      "\u001b[0;31mAttributeError\u001b[0m                            Traceback (most recent call last)",
      "File \u001b[0;32m/scratch/user/guillermo.vazquez/SAVE/octonary/disall/disall/pyiron_calculator.py:142\u001b[0m, in \u001b[0;36mVASP_pyiron_calculator.vasp_pyiron_calculation\u001b[0;34m(self, structure, id, log_file, RE, return_job, **kwargs)\u001b[0m\n\u001b[1;32m    141\u001b[0m     \u001b[38;5;28;01melse\u001b[39;00m:\n\u001b[0;32m--> 142\u001b[0m         \u001b[38;5;28;01mreturn\u001b[39;00m \u001b[43m_get_dft_results_pyiron\u001b[49m\u001b[43m(\u001b[49m\u001b[43mjob_function\u001b[49m\u001b[43m)\u001b[49m\n\u001b[1;32m    143\u001b[0m \u001b[38;5;28;01mexcept\u001b[39;00m \u001b[38;5;167;01mException\u001b[39;00m \u001b[38;5;28;01mas\u001b[39;00m e:\n",
      "File \u001b[0;32m/scratch/user/guillermo.vazquez/SAVE/octonary/disall/disall/pyiron_calculator.py:235\u001b[0m, in \u001b[0;36m_get_dft_results_pyiron\u001b[0;34m(job_func, return_job)\u001b[0m\n\u001b[1;32m    230\u001b[0m status_pyiron \u001b[38;5;241m=\u001b[39m job_func\u001b[38;5;241m.\u001b[39mstatus\u001b[38;5;241m.\u001b[39mstring\n\u001b[1;32m    232\u001b[0m \u001b[38;5;28;01mreturn\u001b[39;00m {\u001b[38;5;124m'\u001b[39m\u001b[38;5;124mjob_name\u001b[39m\u001b[38;5;124m'\u001b[39m: job_func\u001b[38;5;241m.\u001b[39mjob_name,\n\u001b[1;32m    233\u001b[0m         \u001b[38;5;124m'\u001b[39m\u001b[38;5;124mstatus\u001b[39m\u001b[38;5;124m'\u001b[39m: \u001b[38;5;124m'\u001b[39m\u001b[38;5;124mfinalized\u001b[39m\u001b[38;5;124m'\u001b[39m,\n\u001b[1;32m    234\u001b[0m         \u001b[38;5;124m'\u001b[39m\u001b[38;5;124mstatus_pyiron\u001b[39m\u001b[38;5;124m'\u001b[39m: job_func\u001b[38;5;241m.\u001b[39mstatus\u001b[38;5;241m.\u001b[39mstring,\n\u001b[0;32m--> 235\u001b[0m         \u001b[38;5;124m'\u001b[39m\u001b[38;5;124menergy_traj\u001b[39m\u001b[38;5;124m'\u001b[39m: \u001b[43mjob_func\u001b[49m\u001b[43m[\u001b[49m\u001b[38;5;124;43m'\u001b[39;49m\u001b[38;5;124;43moutput/generic/energy_pot\u001b[39;49m\u001b[38;5;124;43m'\u001b[39;49m\u001b[43m]\u001b[49m\u001b[38;5;241;43m.\u001b[39;49m\u001b[43mcopy\u001b[49m(), \u001b[38;5;66;03m# in eV\u001b[39;00m\n\u001b[1;32m    236\u001b[0m         \u001b[38;5;124m'\u001b[39m\u001b[38;5;124mforce_traj\u001b[39m\u001b[38;5;124m'\u001b[39m: job_func[\u001b[38;5;124m'\u001b[39m\u001b[38;5;124moutput/generic/forces\u001b[39m\u001b[38;5;124m'\u001b[39m]\u001b[38;5;241m.\u001b[39mcopy(), \u001b[38;5;66;03m# in eV/A\u001b[39;00m\n\u001b[1;32m    237\u001b[0m         \u001b[38;5;124m'\u001b[39m\u001b[38;5;124mstress_traj\u001b[39m\u001b[38;5;124m'\u001b[39m: job_func[\u001b[38;5;124m'\u001b[39m\u001b[38;5;124moutput/generic/stresses\u001b[39m\u001b[38;5;124m'\u001b[39m]\u001b[38;5;241m.\u001b[39mcopy(), \u001b[38;5;66;03m# in eV/A2, MatGL uses GPa\u001b[39;00m\n\u001b[1;32m    238\u001b[0m         \n\u001b[1;32m    239\u001b[0m         \u001b[38;5;124m'\u001b[39m\u001b[38;5;124mstructures_traj\u001b[39m\u001b[38;5;124m'\u001b[39m: [\n\u001b[1;32m    240\u001b[0m             j\u001b[38;5;241m.\u001b[39mto_ase()\u001b[38;5;241m.\u001b[39mcopy() \u001b[38;5;28;01mfor\u001b[39;00m j \u001b[38;5;129;01min\u001b[39;00m job_func\u001b[38;5;241m.\u001b[39mtrajectory()],\n\u001b[1;32m    241\u001b[0m         \u001b[38;5;124m'\u001b[39m\u001b[38;5;124menergy_electronic_step\u001b[39m\u001b[38;5;124m'\u001b[39m: job_func[\n\u001b[1;32m    242\u001b[0m             \u001b[38;5;124m'\u001b[39m\u001b[38;5;124moutput/generic/dft/scf_energy_int\u001b[39m\u001b[38;5;124m'\u001b[39m]\u001b[38;5;241m.\u001b[39mcopy()}\n",
      "\u001b[0;31mAttributeError\u001b[0m: 'NoneType' object has no attribute 'copy'",
      "\nDuring handling of the above exception, another exception occurred:\n",
      "\u001b[0;31mNameError\u001b[0m                                 Traceback (most recent call last)",
      "Cell \u001b[0;32mIn[44], line 1\u001b[0m\n\u001b[0;32m----> 1\u001b[0m res20 \u001b[38;5;241m=\u001b[39m \u001b[43mnew_set\u001b[49m\u001b[38;5;241;43m.\u001b[39;49m\u001b[43mvasp_pyiron_calculation\u001b[49m\u001b[43m(\u001b[49m\u001b[43matoms_test_20\u001b[49m\u001b[43m,\u001b[49m\u001b[43m \u001b[49m\u001b[38;5;28;43mid\u001b[39;49m\u001b[43m \u001b[49m\u001b[38;5;241;43m=\u001b[39;49m\u001b[43m \u001b[49m\u001b[43mid_test_20\u001b[49m\u001b[43m)\u001b[49m\n",
      "File \u001b[0;32m/scratch/user/guillermo.vazquez/SAVE/octonary/disall/disall/pyiron_calculator.py:152\u001b[0m, in \u001b[0;36mVASP_pyiron_calculator.vasp_pyiron_calculation\u001b[0;34m(self, structure, id, log_file, RE, return_job, **kwargs)\u001b[0m\n\u001b[1;32m    144\u001b[0m \u001b[38;5;250m    \u001b[39m\u001b[38;5;124;03m\"\"\" when it fails it returns a False (this is important for the standalone relaxer),\u001b[39;00m\n\u001b[1;32m    145\u001b[0m \u001b[38;5;124;03m    any other automatic updating has to be done outside in the loop\u001b[39;00m\n\u001b[1;32m    146\u001b[0m \u001b[38;5;124;03m    \"\"\"\u001b[39;00m\n\u001b[1;32m    148\u001b[0m     \u001b[38;5;28mprint\u001b[39m(e)\n\u001b[1;32m    149\u001b[0m     \u001b[38;5;28;01mreturn\u001b[39;00m {\u001b[38;5;124m'\u001b[39m\u001b[38;5;124mstatus\u001b[39m\u001b[38;5;124m'\u001b[39m:\u001b[38;5;124m'\u001b[39m\u001b[38;5;124mfailed\u001b[39m\u001b[38;5;124m'\u001b[39m,\n\u001b[1;32m    150\u001b[0m             \u001b[38;5;124m'\u001b[39m\u001b[38;5;124mstatus_pyiron\u001b[39m\u001b[38;5;124m'\u001b[39m: job_function\u001b[38;5;241m.\u001b[39mstatus\u001b[38;5;241m.\u001b[39mstring,\n\u001b[1;32m    151\u001b[0m             \u001b[38;5;124m'\u001b[39m\u001b[38;5;124merror\u001b[39m\u001b[38;5;124m'\u001b[39m: e,\n\u001b[0;32m--> 152\u001b[0m             \u001b[38;5;124m'\u001b[39m\u001b[38;5;124mno_try\u001b[39m\u001b[38;5;124m'\u001b[39m: \u001b[43mno_try\u001b[49m,\n\u001b[1;32m    153\u001b[0m             \u001b[38;5;124m'\u001b[39m\u001b[38;5;124merror_\u001b[39m\u001b[38;5;132;01m{}\u001b[39;00m\u001b[38;5;124m'\u001b[39m\u001b[38;5;241m.\u001b[39mformat(): e,\n\u001b[1;32m    154\u001b[0m             }\n\u001b[1;32m    155\u001b[0m \u001b[38;5;28;01mif\u001b[39;00m return_job:\n\u001b[1;32m    156\u001b[0m     \u001b[38;5;28;01mreturn\u001b[39;00m job_function\n",
      "\u001b[0;31mNameError\u001b[0m: name 'no_try' is not defined"
     ]
    }
   ],
   "source": [
    "res20 = new_set.vasp_pyiron_calculation(atoms_test_20, id = id_test_20)"
   ]
  },
  {
   "cell_type": "code",
   "execution_count": 45,
   "id": "f790b749-0ba8-47ce-9cc2-36002c6a2882",
   "metadata": {},
   "outputs": [
    {
     "data": {
      "text/plain": [
       "{'groups': ['input', 'output'], 'nodes': ['DICT_VERSION', 'HDF_VERSION', 'NAME', 'OBJECT', 'TYPE', 'VERSION', 'executable', 'job_id', 'server', 'status']}"
      ]
     },
     "execution_count": 45,
     "metadata": {},
     "output_type": "execute_result"
    }
   ],
   "source": [
    "res20"
   ]
  },
  {
   "cell_type": "code",
   "execution_count": 25,
   "id": "4ab1d959-2d6d-4e8e-9b58-ef095af46f0c",
   "metadata": {},
   "outputs": [
    {
     "name": "stderr",
     "output_type": "stream",
     "text": [
      "/tmp/job.1905467/ipykernel_2112397/2156508620.py:1: DeprecationWarning: pyiron_base.jobs.job.core.__getitem__ is deprecated: Use job.output for results, job.files to access files; job.content to access HDF storage and job.child_project to access children of master jobs..\n",
      "  res78['server']['qid']\n"
     ]
    },
    {
     "data": {
      "text/plain": [
       "1891440"
      ]
     },
     "execution_count": 25,
     "metadata": {},
     "output_type": "execute_result"
    }
   ],
   "source": [
    "res78['server']['qid']"
   ]
  },
  {
   "cell_type": "code",
   "execution_count": 26,
   "id": "b8879b5b-4b61-4769-82a2-c17f66cd3dfc",
   "metadata": {},
   "outputs": [
    {
     "ename": "NameError",
     "evalue": "name 'res3' is not defined",
     "output_type": "error",
     "traceback": [
      "\u001b[0;31m---------------------------------------------------------------------------\u001b[0m",
      "\u001b[0;31mNameError\u001b[0m                                 Traceback (most recent call last)",
      "Cell \u001b[0;32mIn[26], line 1\u001b[0m\n\u001b[0;32m----> 1\u001b[0m \u001b[43mres3\u001b[49m\n",
      "\u001b[0;31mNameError\u001b[0m: name 'res3' is not defined"
     ]
    }
   ],
   "source": [
    "res3"
   ]
  },
  {
   "cell_type": "code",
   "execution_count": null,
   "id": "0f4ed7b3-7b83-4447-8005-4fa12819f9ed",
   "metadata": {},
   "outputs": [],
   "source": [
    "res3.status"
   ]
  },
  {
   "cell_type": "code",
   "execution_count": null,
   "id": "83663a19-da08-412a-8305-91294160206f",
   "metadata": {},
   "outputs": [],
   "source": [
    "# res.drop_status_to_aborted()"
   ]
  },
  {
   "cell_type": "code",
   "execution_count": 27,
   "id": "2951c6e2-43df-485b-9787-4db0d92d6dc2",
   "metadata": {},
   "outputs": [
    {
     "ename": "NameError",
     "evalue": "name 'res' is not defined",
     "output_type": "error",
     "traceback": [
      "\u001b[0;31m---------------------------------------------------------------------------\u001b[0m",
      "\u001b[0;31mNameError\u001b[0m                                 Traceback (most recent call last)",
      "Cell \u001b[0;32mIn[27], line 1\u001b[0m\n\u001b[0;32m----> 1\u001b[0m \u001b[43mres\u001b[49m\u001b[38;5;241m.\u001b[39mstatus\n",
      "\u001b[0;31mNameError\u001b[0m: name 'res' is not defined"
     ]
    }
   ],
   "source": [
    "res.status"
   ]
  },
  {
   "cell_type": "code",
   "execution_count": 28,
   "id": "39173997-f114-498c-b2fa-38884c91d724",
   "metadata": {},
   "outputs": [
    {
     "ename": "AttributeError",
     "evalue": "'NoneType' object has no attribute 'copy'",
     "output_type": "error",
     "traceback": [
      "\u001b[0;31m---------------------------------------------------------------------------\u001b[0m",
      "\u001b[0;31mAttributeError\u001b[0m                            Traceback (most recent call last)",
      "Cell \u001b[0;32mIn[28], line 1\u001b[0m\n\u001b[0;32m----> 1\u001b[0m \u001b[43m_get_dft_results_pyiron\u001b[49m\u001b[43m(\u001b[49m\u001b[43mres78\u001b[49m\u001b[43m)\u001b[49m\n",
      "File \u001b[0;32m/scratch/user/guillermo.vazquez/SAVE/octonary/disall/disall/pyiron_calculator.py:240\u001b[0m, in \u001b[0;36m_get_dft_results_pyiron\u001b[0;34m(job_func, return_job)\u001b[0m\n\u001b[1;32m    234\u001b[0m \u001b[38;5;28;01melse\u001b[39;00m:\n\u001b[1;32m    235\u001b[0m     status_pyiron \u001b[38;5;241m=\u001b[39m job_func\u001b[38;5;241m.\u001b[39mstatus\u001b[38;5;241m.\u001b[39mstring\n\u001b[1;32m    237\u001b[0m     \u001b[38;5;28;01mreturn\u001b[39;00m {\u001b[38;5;124m'\u001b[39m\u001b[38;5;124mjob_name\u001b[39m\u001b[38;5;124m'\u001b[39m: job_func\u001b[38;5;241m.\u001b[39mjob_name,\n\u001b[1;32m    238\u001b[0m             \u001b[38;5;124m'\u001b[39m\u001b[38;5;124mstatus\u001b[39m\u001b[38;5;124m'\u001b[39m: \u001b[38;5;124m'\u001b[39m\u001b[38;5;124mfinalized\u001b[39m\u001b[38;5;124m'\u001b[39m,\n\u001b[1;32m    239\u001b[0m             \u001b[38;5;124m'\u001b[39m\u001b[38;5;124mstatus_pyiron\u001b[39m\u001b[38;5;124m'\u001b[39m: job_func\u001b[38;5;241m.\u001b[39mstatus\u001b[38;5;241m.\u001b[39mstring,\n\u001b[0;32m--> 240\u001b[0m             \u001b[38;5;124m'\u001b[39m\u001b[38;5;124menergy_traj\u001b[39m\u001b[38;5;124m'\u001b[39m: \u001b[43mjob_func\u001b[49m\u001b[43m[\u001b[49m\u001b[38;5;124;43m'\u001b[39;49m\u001b[38;5;124;43moutput/generic/energy_pot\u001b[39;49m\u001b[38;5;124;43m'\u001b[39;49m\u001b[43m]\u001b[49m\u001b[38;5;241;43m.\u001b[39;49m\u001b[43mcopy\u001b[49m(), \u001b[38;5;66;03m# in eV\u001b[39;00m\n\u001b[1;32m    241\u001b[0m             \u001b[38;5;124m'\u001b[39m\u001b[38;5;124mforce_traj\u001b[39m\u001b[38;5;124m'\u001b[39m: job_func[\u001b[38;5;124m'\u001b[39m\u001b[38;5;124moutput/generic/forces\u001b[39m\u001b[38;5;124m'\u001b[39m]\u001b[38;5;241m.\u001b[39mcopy(), \u001b[38;5;66;03m# in eV/A\u001b[39;00m\n\u001b[1;32m    242\u001b[0m             \u001b[38;5;124m'\u001b[39m\u001b[38;5;124mstress_traj\u001b[39m\u001b[38;5;124m'\u001b[39m: job_func[\u001b[38;5;124m'\u001b[39m\u001b[38;5;124moutput/generic/stresses\u001b[39m\u001b[38;5;124m'\u001b[39m]\u001b[38;5;241m.\u001b[39mcopy(), \u001b[38;5;66;03m# in eV/A2, MatGL uses GPa\u001b[39;00m\n\u001b[1;32m    243\u001b[0m             \n\u001b[1;32m    244\u001b[0m             \u001b[38;5;124m'\u001b[39m\u001b[38;5;124mstructures_traj\u001b[39m\u001b[38;5;124m'\u001b[39m: [\n\u001b[1;32m    245\u001b[0m                 j\u001b[38;5;241m.\u001b[39mto_ase()\u001b[38;5;241m.\u001b[39mcopy() \u001b[38;5;28;01mfor\u001b[39;00m j \u001b[38;5;129;01min\u001b[39;00m job_func\u001b[38;5;241m.\u001b[39mtrajectory()],\n\u001b[1;32m    246\u001b[0m             \u001b[38;5;124m'\u001b[39m\u001b[38;5;124menergy_electronic_step\u001b[39m\u001b[38;5;124m'\u001b[39m: job_func[\n\u001b[1;32m    247\u001b[0m                 \u001b[38;5;124m'\u001b[39m\u001b[38;5;124moutput/generic/dft/scf_energy_int\u001b[39m\u001b[38;5;124m'\u001b[39m]\u001b[38;5;241m.\u001b[39mcopy()}\n",
      "\u001b[0;31mAttributeError\u001b[0m: 'NoneType' object has no attribute 'copy'"
     ]
    }
   ],
   "source": [
    "_get_dft_results_pyiron(res78)"
   ]
  },
  {
   "cell_type": "code",
   "execution_count": 77,
   "id": "6caeb3ab-7ec5-49f3-9ab5-0ffa61cfd6bd",
   "metadata": {},
   "outputs": [
    {
     "ename": "AttributeError",
     "evalue": "'NoneType' object has no attribute 'copy'",
     "output_type": "error",
     "traceback": [
      "\u001b[0;31m---------------------------------------------------------------------------\u001b[0m",
      "\u001b[0;31mAttributeError\u001b[0m                            Traceback (most recent call last)",
      "Cell \u001b[0;32mIn[77], line 1\u001b[0m\n\u001b[0;32m----> 1\u001b[0m \u001b[43m_get_dft_results_pyiron\u001b[49m\u001b[43m(\u001b[49m\u001b[43mres78\u001b[49m\u001b[43m)\u001b[49m\n",
      "File \u001b[0;32m/scratch/user/guillermo.vazquez/SAVE/octonary/disall/disall/pyiron_calculator.py:240\u001b[0m, in \u001b[0;36m_get_dft_results_pyiron\u001b[0;34m(job_func, return_job)\u001b[0m\n\u001b[1;32m    234\u001b[0m \u001b[38;5;28;01melse\u001b[39;00m:\n\u001b[1;32m    235\u001b[0m     status_pyiron \u001b[38;5;241m=\u001b[39m job_func\u001b[38;5;241m.\u001b[39mstatus\u001b[38;5;241m.\u001b[39mstring\n\u001b[1;32m    237\u001b[0m     \u001b[38;5;28;01mreturn\u001b[39;00m {\u001b[38;5;124m'\u001b[39m\u001b[38;5;124mjob_name\u001b[39m\u001b[38;5;124m'\u001b[39m: job_func\u001b[38;5;241m.\u001b[39mjob_name,\n\u001b[1;32m    238\u001b[0m             \u001b[38;5;124m'\u001b[39m\u001b[38;5;124mstatus\u001b[39m\u001b[38;5;124m'\u001b[39m: \u001b[38;5;124m'\u001b[39m\u001b[38;5;124mfinalized\u001b[39m\u001b[38;5;124m'\u001b[39m,\n\u001b[1;32m    239\u001b[0m             \u001b[38;5;124m'\u001b[39m\u001b[38;5;124mstatus_pyiron\u001b[39m\u001b[38;5;124m'\u001b[39m: job_func\u001b[38;5;241m.\u001b[39mstatus\u001b[38;5;241m.\u001b[39mstring,\n\u001b[0;32m--> 240\u001b[0m             \u001b[38;5;124m'\u001b[39m\u001b[38;5;124menergy_traj\u001b[39m\u001b[38;5;124m'\u001b[39m: \u001b[43mjob_func\u001b[49m\u001b[43m[\u001b[49m\u001b[38;5;124;43m'\u001b[39;49m\u001b[38;5;124;43moutput/generic/energy_pot\u001b[39;49m\u001b[38;5;124;43m'\u001b[39;49m\u001b[43m]\u001b[49m\u001b[38;5;241;43m.\u001b[39;49m\u001b[43mcopy\u001b[49m(),\n\u001b[1;32m    241\u001b[0m             \u001b[38;5;124m'\u001b[39m\u001b[38;5;124mforce_traj\u001b[39m\u001b[38;5;124m'\u001b[39m: job_func[\u001b[38;5;124m'\u001b[39m\u001b[38;5;124moutput/generic/forces\u001b[39m\u001b[38;5;124m'\u001b[39m]\u001b[38;5;241m.\u001b[39mcopy(),\n\u001b[1;32m    242\u001b[0m             \u001b[38;5;124m'\u001b[39m\u001b[38;5;124mstress_traj\u001b[39m\u001b[38;5;124m'\u001b[39m: job_func[\u001b[38;5;124m'\u001b[39m\u001b[38;5;124moutput/generic/stresses\u001b[39m\u001b[38;5;124m'\u001b[39m]\u001b[38;5;241m.\u001b[39mcopy(),\n\u001b[1;32m    243\u001b[0m             \n\u001b[1;32m    244\u001b[0m             \u001b[38;5;124m'\u001b[39m\u001b[38;5;124mstructures_traj\u001b[39m\u001b[38;5;124m'\u001b[39m: [\n\u001b[1;32m    245\u001b[0m                 j\u001b[38;5;241m.\u001b[39mto_ase()\u001b[38;5;241m.\u001b[39mcopy() \u001b[38;5;28;01mfor\u001b[39;00m j \u001b[38;5;129;01min\u001b[39;00m job_func\u001b[38;5;241m.\u001b[39mtrajectory()],\n\u001b[1;32m    246\u001b[0m             \u001b[38;5;124m'\u001b[39m\u001b[38;5;124menergy_electronic_step\u001b[39m\u001b[38;5;124m'\u001b[39m: job_func[\n\u001b[1;32m    247\u001b[0m                 \u001b[38;5;124m'\u001b[39m\u001b[38;5;124moutput/generic/dft/scf_energy_int\u001b[39m\u001b[38;5;124m'\u001b[39m]\u001b[38;5;241m.\u001b[39mcopy()}\n",
      "\u001b[0;31mAttributeError\u001b[0m: 'NoneType' object has no attribute 'copy'"
     ]
    }
   ],
   "source": [
    "_get_dft_results_pyiron(res78)"
   ]
  },
  {
   "cell_type": "code",
   "execution_count": 29,
   "id": "55d2e518-8a2b-4430-a751-d288282f7146",
   "metadata": {},
   "outputs": [
    {
     "name": "stderr",
     "output_type": "stream",
     "text": [
      "/tmp/job.1905467/ipykernel_2112397/3837802815.py:1: DeprecationWarning: pyiron_base.jobs.job.core.__getitem__ is deprecated: Use job.output for results, job.files to access files; job.content to access HDF storage and job.child_project to access children of master jobs..\n",
      "  res78['OUTCAR'][-20:]\n"
     ]
    },
    {
     "data": {
      "text/plain": [
       "['  eigenvalues    EBANDS =      -444.21362290\\n',\n",
       " '  atomic energy  EATOM  =      3349.33378691\\n',\n",
       " '  Solvation  Ediel_sol  =         0.00000000\\n',\n",
       " '  ---------------------------------------------------\\n',\n",
       " '  free energy    TOTEN  =         3.73454192 eV\\n',\n",
       " '\\n',\n",
       " '  energy without entropy =        3.73533184  energy(sigma->0) =        3.73493688\\n',\n",
       " '\\n',\n",
       " '\\n',\n",
       " '--------------------------------------------------------------------------------------------------------\\n',\n",
       " '\\n',\n",
       " '\\n',\n",
       " '\\n',\n",
       " '\\n',\n",
       " '--------------------------------------- Iteration      2(  55)  ---------------------------------------\\n',\n",
       " '\\n',\n",
       " '\\n',\n",
       " '    POTLOK:  cpu time      0.0842: real time      0.0851\\n',\n",
       " '    SETDIJ:  cpu time      0.0031: real time      0.0031\\n',\n",
       " '    EDDIAG:  cpu time      1.7857: real time      1.7922\\n']"
      ]
     },
     "execution_count": 29,
     "metadata": {},
     "output_type": "execute_result"
    }
   ],
   "source": [
    "res78['OUTCAR'][-20:]\n",
    "# this updates automatically, every time you call the dict, it updates it"
   ]
  },
  {
   "cell_type": "code",
   "execution_count": null,
   "id": "a519ae71-9b50-4005-9f50-5bd805f3518d",
   "metadata": {},
   "outputs": [],
   "source": []
  },
  {
   "cell_type": "code",
   "execution_count": 43,
   "id": "87063c34-d9ac-4bc6-a72b-78fa4c040b34",
   "metadata": {},
   "outputs": [],
   "source": [
    "outcar = Outcar(res.working_directory+'/OUTCAR')"
   ]
  },
  {
   "cell_type": "code",
   "execution_count": null,
   "id": "cbf975a2-01b9-41c7-8404-74017f1796e5",
   "metadata": {},
   "outputs": [],
   "source": []
  },
  {
   "cell_type": "code",
   "execution_count": 44,
   "id": "1fc4e649-8187-479d-ada2-7816c36ec50e",
   "metadata": {},
   "outputs": [],
   "source": [
    "from pymatgen.io.vasp import Vasprun"
   ]
  },
  {
   "cell_type": "code",
   "execution_count": 97,
   "id": "3cdfb185-5781-41ed-af3b-13a0cc1d757e",
   "metadata": {},
   "outputs": [],
   "source": [
    "vasprun78 = Vasprun(res78.working_directory+'/vasprun.xml')"
   ]
  },
  {
   "cell_type": "code",
   "execution_count": 100,
   "id": "7bf5c25c-8cac-471d-ad51-453f42f742d1",
   "metadata": {},
   "outputs": [
    {
     "data": {
      "text/plain": [
       "{'@module': 'pymatgen.core.trajectory',\n",
       " '@class': 'Trajectory',\n",
       " 'species': [Element Al, Element Cr, Element Cr],\n",
       " 'coords': [[[0.0, 0.0, 0.0],\n",
       "   [0.33333333, 0.66666667, 0.66666667],\n",
       "   [0.66666667, 0.33333333, 0.33333333]]],\n",
       " 'charge': None,\n",
       " 'spin_multiplicity': None,\n",
       " 'lattice': [[[1.575, 1.575, 0.0],\n",
       "   [0.0, -1.575, -1.575],\n",
       "   [-3.15, 3.15, -3.15]]],\n",
       " 'site_properties': [{'forces': [[0.0001567, -0.00015855, 0.00015191],\n",
       "    [0.23078916, -0.23078979, 0.23079525],\n",
       "    [-0.23094586, 0.23094834, -0.23094716]]}],\n",
       " 'frame_properties': None,\n",
       " 'constant_lattice': False,\n",
       " 'time_step': None,\n",
       " 'coords_are_displacement': False,\n",
       " 'base_positions': array([[0.        , 0.        , 0.        ],\n",
       "        [0.33333333, 0.66666667, 0.66666667],\n",
       "        [0.66666667, 0.33333333, 0.33333333]])}"
      ]
     },
     "execution_count": 100,
     "metadata": {},
     "output_type": "execute_result"
    }
   ],
   "source": [
    "vasprun78.get_trajectory().as_dict()"
   ]
  },
  {
   "cell_type": "code",
   "execution_count": 82,
   "id": "5112ed54-9359-46fd-8b05-b8e64491a04b",
   "metadata": {},
   "outputs": [],
   "source": [
    "vasprun3 = Vasprun(res3.working_directory+'/vasprun.xml')"
   ]
  },
  {
   "cell_type": "code",
   "execution_count": 88,
   "id": "305f6ec8-bdf3-457a-8a61-a287d183fe4f",
   "metadata": {},
   "outputs": [],
   "source": [
    "traj3 = vasprun3.get_trajectory()"
   ]
  },
  {
   "cell_type": "code",
   "execution_count": 122,
   "id": "94470c0d-5a8e-4ccd-8161-cd417c567c18",
   "metadata": {},
   "outputs": [
    {
     "data": {
      "text/plain": [
       "['__add__',\n",
       " '__class__',\n",
       " '__class_getitem__',\n",
       " '__contains__',\n",
       " '__delattr__',\n",
       " '__delitem__',\n",
       " '__dir__',\n",
       " '__doc__',\n",
       " '__eq__',\n",
       " '__format__',\n",
       " '__ge__',\n",
       " '__getattribute__',\n",
       " '__getitem__',\n",
       " '__gt__',\n",
       " '__hash__',\n",
       " '__iadd__',\n",
       " '__imul__',\n",
       " '__init__',\n",
       " '__init_subclass__',\n",
       " '__iter__',\n",
       " '__le__',\n",
       " '__len__',\n",
       " '__lt__',\n",
       " '__mul__',\n",
       " '__ne__',\n",
       " '__new__',\n",
       " '__reduce__',\n",
       " '__reduce_ex__',\n",
       " '__repr__',\n",
       " '__reversed__',\n",
       " '__rmul__',\n",
       " '__setattr__',\n",
       " '__setitem__',\n",
       " '__sizeof__',\n",
       " '__str__',\n",
       " '__subclasshook__',\n",
       " 'append',\n",
       " 'clear',\n",
       " 'copy',\n",
       " 'count',\n",
       " 'extend',\n",
       " 'index',\n",
       " 'insert',\n",
       " 'pop',\n",
       " 'remove',\n",
       " 'reverse',\n",
       " 'sort']"
      ]
     },
     "execution_count": 122,
     "metadata": {},
     "output_type": "execute_result"
    }
   ],
   "source": [
    "dir(vasprun3.ionic_steps)"
   ]
  },
  {
   "cell_type": "code",
   "execution_count": 123,
   "id": "9d0e7d6f-836c-4ed1-b055-093322d4d0df",
   "metadata": {
    "scrolled": true
   },
   "outputs": [
    {
     "data": {
      "text/plain": [
       "[{'e_fr_energy': -2.24666177,\n",
       "  'e_wo_entrp': -2.24660673,\n",
       "  'e_0_energy': -2.24663425,\n",
       "  'forces': [[-1.3e-06, -5.76e-06, 3.55e-06]],\n",
       "  'stress': [[1723.16316016, -0.0064237, -0.00442697],\n",
       "   [-0.00642433, 1723.16383187, -0.0042092],\n",
       "   [-0.00442649, -0.00420874, 1723.16596951]],\n",
       "  'electronic_steps': [{'alphaZ': 93.59239337,\n",
       "    'ewald': -1268.0231117,\n",
       "    'hartreedc': -281.64216442,\n",
       "    'XCdc': 47.57277286,\n",
       "    'pawpsdc': 1227.87936334,\n",
       "    'pawaedc': -1333.66637027,\n",
       "    'eentropy': -8.583e-05,\n",
       "    'bandstr': 154.66334534,\n",
       "    'atom': 1390.96391918,\n",
       "    'e_fr_energy': 31.34006187,\n",
       "    'e_wo_entrp': 31.3401477,\n",
       "    'e_0_energy': 31.34010478},\n",
       "   {'e_fr_energy': -2.08443638,\n",
       "    'e_wo_entrp': -2.08436491,\n",
       "    'e_0_energy': -2.08440065},\n",
       "   {'e_fr_energy': -2.60561177,\n",
       "    'e_wo_entrp': -2.6055576,\n",
       "    'e_0_energy': -2.60558468},\n",
       "   {'e_fr_energy': -2.60826818,\n",
       "    'e_wo_entrp': -2.60821401,\n",
       "    'e_0_energy': -2.6082411},\n",
       "   {'e_fr_energy': -2.6082908,\n",
       "    'e_wo_entrp': -2.60823662,\n",
       "    'e_0_energy': -2.60826371},\n",
       "   {'e_fr_energy': -2.33175312,\n",
       "    'e_wo_entrp': -2.3317319,\n",
       "    'e_0_energy': -2.33174251},\n",
       "   {'e_fr_energy': -2.28172255,\n",
       "    'e_wo_entrp': -2.28166111,\n",
       "    'e_0_energy': -2.28169183},\n",
       "   {'e_fr_energy': -2.24858833,\n",
       "    'e_wo_entrp': -2.24850781,\n",
       "    'e_0_energy': -2.24854807},\n",
       "   {'e_fr_energy': -2.24668458,\n",
       "    'e_wo_entrp': -2.24661641,\n",
       "    'e_0_energy': -2.24665049},\n",
       "   {'e_fr_energy': -2.24666111,\n",
       "    'e_wo_entrp': -2.24660589,\n",
       "    'e_0_energy': -2.2466335},\n",
       "   {'e_fr_energy': -2.24666493,\n",
       "    'e_wo_entrp': -2.24661004,\n",
       "    'e_0_energy': -2.24663749},\n",
       "   {'alphaZ': 93.59239337,\n",
       "    'ewald': -1268.0231117,\n",
       "    'hartreedc': -255.42553348,\n",
       "    'XCdc': 45.86476221,\n",
       "    'pawpsdc': 1565.04710384,\n",
       "    'pawaedc': -1677.50146659,\n",
       "    'eentropy': -5.504e-05,\n",
       "    'bandstr': 103.23532646,\n",
       "    'atom': 1390.96391918,\n",
       "    'e_fr_energy': -2.24666177,\n",
       "    'e_wo_entrp': -2.24660673,\n",
       "    'e_0_energy': -2.24663425}],\n",
       "  'structure': Structure Summary\n",
       "  Lattice\n",
       "      abc : 2.2273863607376247 2.2273863607376247 2.2273863607376247\n",
       "   angles : 60.00000000000001 60.00000000000001 60.00000000000001\n",
       "   volume : 7.813968749999999\n",
       "        A : 1.575 1.575 0.0\n",
       "        B : 0.0 1.575 1.575\n",
       "        C : 1.575 0.0 1.575\n",
       "      pbc : True True True\n",
       "  PeriodicSite: Cu (0.0, 0.0, 0.0) [0.0, 0.0, 0.0]},\n",
       " {'e_fr_energy': -0.69540438,\n",
       "  'e_wo_entrp': -0.69525394,\n",
       "  'e_0_energy': -0.69532916,\n",
       "  'forces': [[-1.22e-06, -3e-08, 8.9e-07]],\n",
       "  'stress': [[-1149.15045236, 0.04467033, 0.04315745],\n",
       "   [0.04467029, -1149.15118254, 0.04294725],\n",
       "   [0.043158, 0.04294646, -1149.15311333]],\n",
       "  'electronic_steps': [{'alphaZ': 33.71399498,\n",
       "    'ewald': -902.22957158,\n",
       "    'hartreedc': -181.73890637,\n",
       "    'XCdc': 29.9290576,\n",
       "    'pawpsdc': 1565.02848191,\n",
       "    'pawaedc': -1677.48679,\n",
       "    'eentropy': -9.795e-05,\n",
       "    'bandstr': -371.81814,\n",
       "    'atom': 1390.96391918,\n",
       "    'e_fr_energy': -113.63805224,\n",
       "    'e_wo_entrp': -113.63795429,\n",
       "    'e_0_energy': -113.63800326},\n",
       "   {'e_fr_energy': -23.76506534,\n",
       "    'e_wo_entrp': -23.76505473,\n",
       "    'e_0_energy': -23.76506004},\n",
       "   {'e_fr_energy': -22.31807335,\n",
       "    'e_wo_entrp': -22.31689955,\n",
       "    'e_0_energy': -22.31748645},\n",
       "   {'e_fr_energy': -10.05669378,\n",
       "    'e_wo_entrp': -10.056222,\n",
       "    'e_0_energy': -10.05645789},\n",
       "   {'e_fr_energy': -3.08143615,\n",
       "    'e_wo_entrp': -3.0811826,\n",
       "    'e_0_energy': -3.08130938},\n",
       "   {'e_fr_energy': -0.94887932,\n",
       "    'e_wo_entrp': -0.94871482,\n",
       "    'e_0_energy': -0.94879707},\n",
       "   {'e_fr_energy': -0.69870993,\n",
       "    'e_wo_entrp': -0.69856037,\n",
       "    'e_0_energy': -0.69863515},\n",
       "   {'e_fr_energy': -0.71484226,\n",
       "    'e_wo_entrp': -0.71472743,\n",
       "    'e_0_energy': -0.71478485},\n",
       "   {'e_fr_energy': -0.69900941,\n",
       "    'e_wo_entrp': -0.69887137,\n",
       "    'e_0_energy': -0.69894039},\n",
       "   {'e_fr_energy': -0.70096842,\n",
       "    'e_wo_entrp': -0.700835,\n",
       "    'e_0_energy': -0.70090171},\n",
       "   {'e_fr_energy': -0.69669256,\n",
       "    'e_wo_entrp': -0.69654969,\n",
       "    'e_0_energy': -0.69662112},\n",
       "   {'e_fr_energy': -0.69589692,\n",
       "    'e_wo_entrp': -0.69575111,\n",
       "    'e_0_energy': -0.69582401},\n",
       "   {'e_fr_energy': -0.69552099,\n",
       "    'e_wo_entrp': -0.69537302,\n",
       "    'e_0_energy': -0.695447},\n",
       "   {'e_fr_energy': -0.69540221,\n",
       "    'e_wo_entrp': -0.69525179,\n",
       "    'e_0_energy': -0.695327},\n",
       "   {'alphaZ': 33.71399498,\n",
       "    'ewald': -902.22957158,\n",
       "    'hartreedc': -467.46205484,\n",
       "    'XCdc': 43.85238045,\n",
       "    'pawpsdc': 1245.62574445,\n",
       "    'pawaedc': -1348.06535362,\n",
       "    'eentropy': -0.00015044,\n",
       "    'bandstr': 2.90568705,\n",
       "    'atom': 1390.96391918,\n",
       "    'e_fr_energy': -0.69540438,\n",
       "    'e_wo_entrp': -0.69525394,\n",
       "    'e_0_energy': -0.69532916}],\n",
       "  'structure': Structure Summary\n",
       "  Lattice\n",
       "      abc : 3.130438250481414 3.130440145528578 3.130439855614733\n",
       "   angles : 60.000105281606764 60.000116340336284 60.000111931796845\n",
       "   volume : 21.692120441179796\n",
       "        A : 2.21355399 2.21355424 -3.2e-06\n",
       "        B : -4.02e-06 2.21355506 2.21355585\n",
       "        C : 2.21355473 -3.94e-06 2.21355577\n",
       "      pbc : True True True\n",
       "  PeriodicSite: Cu (-8.854e-08, -3.763e-07, 2.435e-07) [-1.6e-07, -1e-08, 1.2e-07]},\n",
       " {'e_fr_energy': -0.44065462,\n",
       "  'e_wo_entrp': -0.44057252,\n",
       "  'e_0_energy': -0.44061357,\n",
       "  'forces': [[2.17e-06, -3.72e-06, -7.7e-06]],\n",
       "  'stress': [[108.99862425, 0.3647619, -0.17458911],\n",
       "   [0.36476228, 108.81148044, -0.04306482],\n",
       "   [-0.17458942, -0.04306473, 108.6990941]],\n",
       "  'electronic_steps': [{'alphaZ': 54.08052472,\n",
       "    'ewald': -1056.15408654,\n",
       "    'hartreedc': -547.24315565,\n",
       "    'XCdc': 53.58156757,\n",
       "    'pawpsdc': 1245.75030708,\n",
       "    'pawaedc': -1348.19342005,\n",
       "    'eentropy': -0.00044574,\n",
       "    'bandstr': 136.40068364,\n",
       "    'atom': 1390.96391918,\n",
       "    'e_fr_energy': -70.8141058,\n",
       "    'e_wo_entrp': -70.81366006,\n",
       "    'e_0_energy': -70.81388293},\n",
       "   {'e_fr_energy': -7.76393768,\n",
       "    'e_wo_entrp': -7.76378007,\n",
       "    'e_0_energy': -7.76385888},\n",
       "   {'e_fr_energy': 12.25965606,\n",
       "    'e_wo_entrp': 12.25973489,\n",
       "    'e_0_energy': 12.25969548},\n",
       "   {'e_fr_energy': -0.57603654,\n",
       "    'e_wo_entrp': -0.57584894,\n",
       "    'e_0_energy': -0.57594274},\n",
       "   {'e_fr_energy': 0.497566,\n",
       "    'e_wo_entrp': 0.49766447,\n",
       "    'e_0_energy': 0.49761524},\n",
       "   {'e_fr_energy': -0.28748441,\n",
       "    'e_wo_entrp': -0.28722393,\n",
       "    'e_0_energy': -0.28735417},\n",
       "   {'e_fr_energy': -0.45561096,\n",
       "    'e_wo_entrp': -0.45555804,\n",
       "    'e_0_energy': -0.4555845},\n",
       "   {'e_fr_energy': -0.58156943,\n",
       "    'e_wo_entrp': -0.58150306,\n",
       "    'e_0_energy': -0.58153624},\n",
       "   {'e_fr_energy': -0.5790672,\n",
       "    'e_wo_entrp': -0.57898923,\n",
       "    'e_0_energy': -0.57902822},\n",
       "   {'e_fr_energy': -0.5960569,\n",
       "    'e_wo_entrp': -0.5958612,\n",
       "    'e_0_energy': -0.59595905},\n",
       "   {'e_fr_energy': -0.65884163,\n",
       "    'e_wo_entrp': -0.6586619,\n",
       "    'e_0_energy': -0.65875177},\n",
       "   {'e_fr_energy': -0.48933831,\n",
       "    'e_wo_entrp': -0.48913015,\n",
       "    'e_0_energy': -0.48923423},\n",
       "   {'e_fr_energy': -0.43473212,\n",
       "    'e_wo_entrp': -0.43464201,\n",
       "    'e_0_energy': -0.43468706},\n",
       "   {'e_fr_energy': -0.43729169,\n",
       "    'e_wo_entrp': -0.43721063,\n",
       "    'e_0_energy': -0.43725116},\n",
       "   {'e_fr_energy': -0.43882924,\n",
       "    'e_wo_entrp': -0.43874821,\n",
       "    'e_0_energy': -0.43878872},\n",
       "   {'e_fr_energy': -0.43971735,\n",
       "    'e_wo_entrp': -0.43963527,\n",
       "    'e_0_energy': -0.43967631},\n",
       "   {'e_fr_energy': -0.43965593,\n",
       "    'e_wo_entrp': -0.43957521,\n",
       "    'e_0_energy': -0.43961557},\n",
       "   {'e_fr_energy': -0.43971881,\n",
       "    'e_wo_entrp': -0.43963832,\n",
       "    'e_0_energy': -0.43967857},\n",
       "   {'e_fr_energy': -0.43991528,\n",
       "    'e_wo_entrp': -0.43983305,\n",
       "    'e_0_energy': -0.43987417},\n",
       "   {'e_fr_energy': -0.44024426,\n",
       "    'e_wo_entrp': -0.44016168,\n",
       "    'e_0_energy': -0.44020297},\n",
       "   {'e_fr_energy': -0.44037799,\n",
       "    'e_wo_entrp': -0.4402954,\n",
       "    'e_0_energy': -0.4403367},\n",
       "   {'e_fr_energy': -0.44048184,\n",
       "    'e_wo_entrp': -0.4403994,\n",
       "    'e_0_energy': -0.44044062},\n",
       "   {'e_fr_energy': -0.44051906,\n",
       "    'e_wo_entrp': -0.44043689,\n",
       "    'e_0_energy': -0.44047797},\n",
       "   {'e_fr_energy': -0.44056797,\n",
       "    'e_wo_entrp': -0.4404859,\n",
       "    'e_0_energy': -0.44052693},\n",
       "   {'e_fr_energy': -0.44060133,\n",
       "    'e_wo_entrp': -0.44051924,\n",
       "    'e_0_energy': -0.44056029},\n",
       "   {'e_fr_energy': -0.44062673,\n",
       "    'e_wo_entrp': -0.44054465,\n",
       "    'e_0_energy': -0.44058569},\n",
       "   {'e_fr_energy': -0.44064497,\n",
       "    'e_wo_entrp': -0.44056287,\n",
       "    'e_0_energy': -0.44060392},\n",
       "   {'alphaZ': 54.08052472,\n",
       "    'ewald': -1056.15408654,\n",
       "    'hartreedc': -353.0384779,\n",
       "    'XCdc': 43.7751647,\n",
       "    'pawpsdc': 1246.14192468,\n",
       "    'pawaedc': -1355.45962942,\n",
       "    'eentropy': -8.21e-05,\n",
       "    'bandstr': 29.25008808,\n",
       "    'atom': 1390.96391918,\n",
       "    'e_fr_energy': -0.44065462,\n",
       "    'e_wo_entrp': -0.44057252,\n",
       "    'e_0_energy': -0.44061357}],\n",
       "  'structure': Structure Summary\n",
       "  Lattice\n",
       "      abc : 2.674207708526365 2.6742086419076023 2.6742085004862273\n",
       "   angles : 60.00006105301123 60.00006735076014 60.00006472670106\n",
       "   volume : 13.52294635752739\n",
       "        A : 1.89095034 1.89095047 -1.58e-06\n",
       "        B : -1.99e-06 1.89095087 1.89095126\n",
       "        C : 1.89095071 -1.95e-06 1.89095122\n",
       "      pbc : True True True\n",
       "  PeriodicSite: Cu (-3.782e-08, -2.08e-07, 1.324e-07) [-1e-07, -1e-08, 8e-08]},\n",
       " {'e_fr_energy': -3.5783331,\n",
       "  'e_wo_entrp': -3.57816838,\n",
       "  'e_0_energy': -3.57825074,\n",
       "  'forces': [[-1.37e-05, -2.65e-06, 1.682e-05]],\n",
       "  'stress': [[-236.78575876, 0.0102962, 0.00167492],\n",
       "   [0.01029623, -236.77467816, 0.00519051],\n",
       "   [0.00167519, 0.00519184, -236.73480792]],\n",
       "  'electronic_steps': [{'alphaZ': 52.56627981,\n",
       "    'ewald': -1046.20325214,\n",
       "    'hartreedc': -349.71229257,\n",
       "    'XCdc': 43.24781684,\n",
       "    'pawpsdc': 1246.14130768,\n",
       "    'pawaedc': -1355.45898518,\n",
       "    'eentropy': -0.00010498,\n",
       "    'bandstr': 14.24706554,\n",
       "    'atom': 1390.96391918,\n",
       "    'e_fr_energy': -4.20824582,\n",
       "    'e_wo_entrp': -4.20814084,\n",
       "    'e_0_energy': -4.20819333},\n",
       "   {'e_fr_energy': -3.74404435,\n",
       "    'e_wo_entrp': -3.74383861,\n",
       "    'e_0_energy': -3.74394148},\n",
       "   {'e_fr_energy': -3.60533719,\n",
       "    'e_wo_entrp': -3.60514266,\n",
       "    'e_0_energy': -3.60523993},\n",
       "   {'e_fr_energy': -3.58199417,\n",
       "    'e_wo_entrp': -3.58184398,\n",
       "    'e_0_energy': -3.58191908},\n",
       "   {'e_fr_energy': -3.5776357,\n",
       "    'e_wo_entrp': -3.57747058,\n",
       "    'e_0_energy': -3.57755314},\n",
       "   {'e_fr_energy': -3.57830261,\n",
       "    'e_wo_entrp': -3.5781388,\n",
       "    'e_0_energy': -3.57822071},\n",
       "   {'e_fr_energy': -3.57836606,\n",
       "    'e_wo_entrp': -3.57820209,\n",
       "    'e_0_energy': -3.57828407},\n",
       "   {'e_fr_energy': -3.57843165,\n",
       "    'e_wo_entrp': -3.57826554,\n",
       "    'e_0_energy': -3.57834859},\n",
       "   {'e_fr_energy': -3.57832313,\n",
       "    'e_wo_entrp': -3.57815817,\n",
       "    'e_0_energy': -3.57824065},\n",
       "   {'alphaZ': 52.56627981,\n",
       "    'ewald': -1046.20325214,\n",
       "    'hartreedc': -372.75176879,\n",
       "    'XCdc': 44.37027992,\n",
       "    'pawpsdc': 1273.3662312,\n",
       "    'pawaedc': -1380.28821426,\n",
       "    'eentropy': -0.00016472,\n",
       "    'bandstr': 34.39835671,\n",
       "    'atom': 1390.96391918,\n",
       "    'e_fr_energy': -3.5783331,\n",
       "    'e_wo_entrp': -3.57816838,\n",
       "    'e_0_energy': -3.57825074}],\n",
       "  'structure': Structure Summary\n",
       "  Lattice\n",
       "      abc : 2.699643018268205 2.699644008218013 2.6996438597255694\n",
       "   angles : 60.00006385691602 60.000070441908434 60.00006775592787\n",
       "   volume : 13.912493669421846\n",
       "        A : 1.90893582 1.90893595 -1.67e-06\n",
       "        B : -2.1e-06 1.90893638 1.90893679\n",
       "        C : 1.90893621 -2.06e-06 1.90893675\n",
       "      pbc : True True True\n",
       "  PeriodicSite: Cu (-5.727e-08, -2.291e-07, 1.336e-07) [-1.1e-07, -1e-08, 8e-08]},\n",
       " {'e_fr_energy': -3.60995817,\n",
       "  'e_wo_entrp': -3.60980516,\n",
       "  'e_0_energy': -3.60988166,\n",
       "  'forces': [[4.22e-06, -2.85e-06, 1.73e-06]],\n",
       "  'stress': [[-182.113475, 0.00279099, 0.0029562],\n",
       "   [0.00279147, -182.1120409, 0.00500249],\n",
       "   [0.0029567, 0.00500227, -182.11306247]],\n",
       "  'electronic_steps': [{'alphaZ': 53.60675141,\n",
       "    'ewald': -1053.06088457,\n",
       "    'hartreedc': -375.21525806,\n",
       "    'XCdc': 44.74236734,\n",
       "    'pawpsdc': 1272.30498483,\n",
       "    'pawaedc': -1379.19732679,\n",
       "    'eentropy': -0.00017066,\n",
       "    'bandstr': 42.15026368,\n",
       "    'atom': 1390.96391918,\n",
       "    'e_fr_energy': -3.70535365,\n",
       "    'e_wo_entrp': -3.70518299,\n",
       "    'e_0_energy': -3.70526832},\n",
       "   {'e_fr_energy': -3.65049742,\n",
       "    'e_wo_entrp': -3.65028253,\n",
       "    'e_0_energy': -3.65038998},\n",
       "   {'e_fr_energy': -3.61190043,\n",
       "    'e_wo_entrp': -3.6117541,\n",
       "    'e_0_energy': -3.61182727},\n",
       "   {'e_fr_energy': -3.61074357,\n",
       "    'e_wo_entrp': -3.61058703,\n",
       "    'e_0_energy': -3.6106653},\n",
       "   {'e_fr_energy': -3.60992941,\n",
       "    'e_wo_entrp': -3.60977609,\n",
       "    'e_0_energy': -3.60985275},\n",
       "   {'e_fr_energy': -3.6099632,\n",
       "    'e_wo_entrp': -3.60980965,\n",
       "    'e_0_energy': -3.60988643},\n",
       "   {'alphaZ': 53.60675141,\n",
       "    'ewald': -1053.06088457,\n",
       "    'hartreedc': -368.64195872,\n",
       "    'XCdc': 44.40280783,\n",
       "    'pawpsdc': 1275.77531678,\n",
       "    'pawaedc': -1382.76466211,\n",
       "    'eentropy': -0.00015302,\n",
       "    'bandstr': 36.10890505,\n",
       "    'atom': 1390.96391918,\n",
       "    'e_fr_energy': -3.60995817,\n",
       "    'e_wo_entrp': -3.60980516,\n",
       "    'e_0_energy': -3.60988166}],\n",
       "  'structure': Structure Summary\n",
       "  Lattice\n",
       "      abc : 2.6820627456265487 2.682063700220994 2.6820635587996184\n",
       "   angles : 60.00006174632613 60.00006828726818 60.000065670894216\n",
       "   volume : 13.642461348200552\n",
       "        A : 1.89650469 1.89650482 -1.61e-06\n",
       "        B : -2.02e-06 1.89650523 1.89650563\n",
       "        C : 1.89650507 -1.98e-06 1.89650559\n",
       "      pbc : True True True\n",
       "  PeriodicSite: Cu (-5.69e-08, -2.276e-07, 1.328e-07) [-1.1e-07, -1e-08, 8e-08]},\n",
       " {'e_fr_energy': -3.61807776,\n",
       "  'e_wo_entrp': -3.61792904,\n",
       "  'e_0_energy': -3.6180034,\n",
       "  'forces': [[-1.01e-06, -2.46e-06, 1.42e-06]],\n",
       "  'stress': [[-159.99859697, 0.0045073, 0.00287004],\n",
       "   [0.00450712, -159.9998485, 0.00268143],\n",
       "   [0.00286955, 0.00268117, -159.99914164]],\n",
       "  'electronic_steps': [{'alphaZ': 53.90362402,\n",
       "    'ewald': -1055.0012471,\n",
       "    'hartreedc': -369.31961123,\n",
       "    'XCdc': 44.50714573,\n",
       "    'pawpsdc': 1275.71924564,\n",
       "    'pawaedc': -1382.70333866,\n",
       "    'eentropy': -0.00013905,\n",
       "    'bandstr': 38.30480895,\n",
       "    'atom': 1390.96391918,\n",
       "    'e_fr_energy': -3.62559254,\n",
       "    'e_wo_entrp': -3.62545349,\n",
       "    'e_0_energy': -3.62552301},\n",
       "   {'e_fr_energy': -3.62099042,\n",
       "    'e_wo_entrp': -3.62083462,\n",
       "    'e_0_energy': -3.62091252},\n",
       "   {'e_fr_energy': -3.61826872,\n",
       "    'e_wo_entrp': -3.61812293,\n",
       "    'e_0_energy': -3.61819583},\n",
       "   {'e_fr_energy': -3.61813774,\n",
       "    'e_wo_entrp': -3.61798706,\n",
       "    'e_0_energy': -3.6180624},\n",
       "   {'e_fr_energy': -3.61807545,\n",
       "    'e_wo_entrp': -3.61792681,\n",
       "    'e_0_energy': -3.61800113},\n",
       "   {'alphaZ': 53.90362402,\n",
       "    'ewald': -1055.0012471,\n",
       "    'hartreedc': -367.45041357,\n",
       "    'XCdc': 44.41076151,\n",
       "    'pawpsdc': 1276.90734236,\n",
       "    'pawaedc': -1383.92997962,\n",
       "    'eentropy': -0.00014872,\n",
       "    'bandstr': 36.57806419,\n",
       "    'atom': 1390.96391918,\n",
       "    'e_fr_energy': -3.61807776,\n",
       "    'e_wo_entrp': -3.61792904,\n",
       "    'e_0_energy': -3.6180034}],\n",
       "  'structure': Structure Summary\n",
       "  Lattice\n",
       "      abc : 2.6771299050813697 2.677130852604745 2.677130704112301\n",
       "   angles : 60.00006124848816 60.00006753936302 60.000065180287336\n",
       "   volume : 13.56732593354645\n",
       "        A : 1.89301665 1.89301677 -1.59e-06\n",
       "        B : -2e-06 1.89301718 1.89301758\n",
       "        C : 1.89301702 -1.96e-06 1.89301753\n",
       "      pbc : True True True\n",
       "  PeriodicSite: Cu (-3.786e-08, -2.082e-07, 1.325e-07) [-1e-07, -1e-08, 8e-08]},\n",
       " {'e_fr_energy': -3.62086293,\n",
       "  'e_wo_entrp': -3.62071631,\n",
       "  'e_0_energy': -3.62078962,\n",
       "  'forces': [[-1.71e-06, -3.8e-07, 7.5e-07]],\n",
       "  'stress': [[-168.58390809, 0.00580973, 0.00542732],\n",
       "   [0.0058097, -168.58422837, 0.00461459],\n",
       "   [0.00542926, 0.00461435, -168.58365909]],\n",
       "  'electronic_steps': [{'alphaZ': 54.00895413,\n",
       "    'ewald': -1055.68797336,\n",
       "    'hartreedc': -367.71742758,\n",
       "    'XCdc': 44.44899412,\n",
       "    'pawpsdc': 1276.86929764,\n",
       "    'pawaedc': -1383.88861677,\n",
       "    'eentropy': -0.00013597,\n",
       "    'bandstr': 37.38115718,\n",
       "    'atom': 1390.96391918,\n",
       "    'e_fr_energy': -3.62183143,\n",
       "    'e_wo_entrp': -3.62169546,\n",
       "    'e_0_energy': -3.62176345},\n",
       "   {'e_fr_energy': -3.62125254,\n",
       "    'e_wo_entrp': -3.62110087,\n",
       "    'e_0_energy': -3.62117671},\n",
       "   {'e_fr_energy': -3.62088766,\n",
       "    'e_wo_entrp': -3.62074207,\n",
       "    'e_0_energy': -3.62081486},\n",
       "   {'e_fr_energy': -3.62086913,\n",
       "    'e_wo_entrp': -3.62072176,\n",
       "    'e_0_energy': -3.62079544},\n",
       "   {'alphaZ': 54.00895413,\n",
       "    'ewald': -1055.68797336,\n",
       "    'hartreedc': -367.05197902,\n",
       "    'XCdc': 44.4147314,\n",
       "    'pawpsdc': 1277.30713331,\n",
       "    'pawaedc': -1384.34432598,\n",
       "    'eentropy': -0.00014663,\n",
       "    'bandstr': 36.76882402,\n",
       "    'atom': 1390.96391918,\n",
       "    'e_fr_energy': -3.62086293,\n",
       "    'e_wo_entrp': -3.62071631,\n",
       "    'e_0_energy': -3.62078962}],\n",
       "  'structure': Structure Summary\n",
       "  Lattice\n",
       "      abc : 2.675388435429596 2.6753893758818963 2.675389234460521\n",
       "   angles : 60.00006085120671 60.000067583325965 60.00006496042498\n",
       "   volume : 13.540866478498202\n",
       "        A : 1.89178524 1.89178537 -1.59e-06\n",
       "        B : -1.99e-06 1.89178577 1.89178617\n",
       "        C : 1.89178561 -1.95e-06 1.89178613\n",
       "      pbc : True True True\n",
       "  PeriodicSite: Cu (-3.784e-08, -2.081e-07, 1.324e-07) [-1e-07, -1e-08, 8e-08]},\n",
       " {'e_fr_energy': -3.62200027,\n",
       "  'e_wo_entrp': -3.62185422,\n",
       "  'e_0_energy': -3.62192724,\n",
       "  'forces': [[4.2e-07, -1.48e-06, -1.32e-06]],\n",
       "  'stress': [[-153.63340656, 0.01550486, 0.01528295],\n",
       "   [0.01550492, -153.63303288, 0.01558973],\n",
       "   [0.01528349, 0.01558891, -153.63377351]],\n",
       "  'electronic_steps': [{'alphaZ': 54.05245397,\n",
       "    'ewald': -1055.97132104,\n",
       "    'hartreedc': -367.15340991,\n",
       "    'XCdc': 44.43002707,\n",
       "    'pawpsdc': 1277.28297217,\n",
       "    'pawaedc': -1384.31358669,\n",
       "    'eentropy': -0.00014148,\n",
       "    'bandstr': 37.08693579,\n",
       "    'atom': 1390.96391918,\n",
       "    'e_fr_energy': -3.62215093,\n",
       "    'e_wo_entrp': -3.62200945,\n",
       "    'e_0_energy': -3.62208019},\n",
       "   {'e_fr_energy': -3.62206116,\n",
       "    'e_wo_entrp': -3.621913,\n",
       "    'e_0_energy': -3.62198708},\n",
       "   {'e_fr_energy': -3.6220032,\n",
       "    'e_wo_entrp': -3.62185787,\n",
       "    'e_0_energy': -3.62193054},\n",
       "   {'alphaZ': 54.05245397,\n",
       "    'ewald': -1055.97132104,\n",
       "    'hartreedc': -366.87797912,\n",
       "    'XCdc': 44.4158663,\n",
       "    'pawpsdc': 1277.44192784,\n",
       "    'pawaedc': -1384.47388523,\n",
       "    'eentropy': -0.00014604,\n",
       "    'bandstr': 36.82716388,\n",
       "    'atom': 1390.96391918,\n",
       "    'e_fr_energy': -3.62200027,\n",
       "    'e_wo_entrp': -3.62185422,\n",
       "    'e_0_energy': -3.62192724}],\n",
       "  'structure': Structure Summary\n",
       "  Lattice\n",
       "      abc : 2.6746705523410648 2.674671492793365 2.674671351371989\n",
       "   angles : 60.00006086753921 60.00006760146536 60.0000649778604\n",
       "   volume : 13.529969207704752\n",
       "        A : 1.89127762 1.89127775 -1.59e-06\n",
       "        B : -1.99e-06 1.89127815 1.89127855\n",
       "        C : 1.89127799 -1.95e-06 1.89127851\n",
       "      pbc : True True True\n",
       "  PeriodicSite: Cu (-3.783e-08, -2.08e-07, 1.324e-07) [-1e-07, -1e-08, 8e-08]},\n",
       " {'e_fr_energy': -3.62242688,\n",
       "  'e_wo_entrp': -3.62228163,\n",
       "  'e_0_energy': -3.62235425,\n",
       "  'forces': [[6.3e-07, -6.8e-07, -2.5e-07]],\n",
       "  'stress': [[-169.64460752, 0.01532429, 0.0152706],\n",
       "   [0.01532441, -169.64464754, 0.01517346],\n",
       "   [0.01527038, 0.0151751, -169.64496375]],\n",
       "  'electronic_steps': [{'alphaZ': 54.06888601,\n",
       "    'ewald': -1056.07831589,\n",
       "    'hartreedc': -366.92890367,\n",
       "    'XCdc': 44.42225944,\n",
       "    'pawpsdc': 1277.46378228,\n",
       "    'pawaedc': -1384.50180077,\n",
       "    'eentropy': -0.0001438,\n",
       "    'bandstr': 36.96786863,\n",
       "    'atom': 1390.96391918,\n",
       "    'e_fr_energy': -3.62244858,\n",
       "    'e_wo_entrp': -3.62230478,\n",
       "    'e_0_energy': -3.62237668},\n",
       "   {'e_fr_energy': -3.62243565,\n",
       "    'e_wo_entrp': -3.62228925,\n",
       "    'e_0_energy': -3.62236245},\n",
       "   {'alphaZ': 54.06888601,\n",
       "    'ewald': -1056.07831589,\n",
       "    'hartreedc': -366.84964838,\n",
       "    'XCdc': 44.41824342,\n",
       "    'pawpsdc': 1277.47681574,\n",
       "    'pawaedc': -1384.505351,\n",
       "    'eentropy': -0.00014525,\n",
       "    'bandstr': 36.88316929,\n",
       "    'atom': 1390.96391918,\n",
       "    'e_fr_energy': -3.62242688,\n",
       "    'e_wo_entrp': -3.62228163,\n",
       "    'e_0_energy': -3.62235425}],\n",
       "  'structure': Structure Summary\n",
       "  Lattice\n",
       "      abc : 2.6743995748803724 2.6744005082616096 2.674400366840234\n",
       "   angles : 60.000061048631174 60.000067345928265 60.00006472205745\n",
       "   volume : 13.525857256418972\n",
       "        A : 1.89108601 1.89108614 -1.58e-06\n",
       "        B : -1.99e-06 1.89108654 1.89108693\n",
       "        C : 1.89108638 -1.95e-06 1.89108689\n",
       "      pbc : True True True\n",
       "  PeriodicSite: Cu (-3.782e-08, -2.08e-07, 1.324e-07) [-1e-07, -1e-08, 8e-08]},\n",
       " {'e_fr_energy': -3.62261154,\n",
       "  'e_wo_entrp': -3.62246594,\n",
       "  'e_0_energy': -3.62253874,\n",
       "  'forces': [[2e-07, -1.8e-07, -1.9e-07]],\n",
       "  'stress': [[-150.1355284, 0.01181229, 0.01177345],\n",
       "   [0.01181173, -150.13557279, 0.01171892],\n",
       "   [0.01177402, 0.01171937, -150.13573951]],\n",
       "  'electronic_steps': [{'alphaZ': 54.07597626,\n",
       "    'ewald': -1056.12447634,\n",
       "    'hartreedc': -366.84139568,\n",
       "    'XCdc': 44.41938097,\n",
       "    'pawpsdc': 1277.51182765,\n",
       "    'pawaedc': -1384.54731664,\n",
       "    'eentropy': -0.00014471,\n",
       "    'bandstr': 36.91961614,\n",
       "    'atom': 1390.96391918,\n",
       "    'e_fr_energy': -3.62261317,\n",
       "    'e_wo_entrp': -3.62246846,\n",
       "    'e_0_energy': -3.62254081},\n",
       "   {'alphaZ': 54.07597626,\n",
       "    'ewald': -1056.12447634,\n",
       "    'hartreedc': -366.79510026,\n",
       "    'XCdc': 44.4170493,\n",
       "    'pawpsdc': 1277.4898393,\n",
       "    'pawaedc': -1384.51545042,\n",
       "    'eentropy': -0.00014561,\n",
       "    'bandstr': 36.86577704,\n",
       "    'atom': 1390.96391918,\n",
       "    'e_fr_energy': -3.62261154,\n",
       "    'e_wo_entrp': -3.62246594,\n",
       "    'e_0_energy': -3.62253874}],\n",
       "  'structure': Structure Summary\n",
       "  Lattice\n",
       "      abc : 2.674282683058374 2.6742836235106795 2.674283482089304\n",
       "   angles : 60.00006105129942 60.000067261405725 60.00006481235244\n",
       "   volume : 13.524083854854235\n",
       "        A : 1.89100336 1.89100348 -1.58e-06\n",
       "        B : -1.99e-06 1.89100389 1.89100428\n",
       "        C : 1.89100373 -1.95e-06 1.89100424\n",
       "      pbc : True True True\n",
       "  PeriodicSite: Cu (-3.782e-08, -2.08e-07, 1.324e-07) [-1e-07, -1e-08, 8e-08]}]"
      ]
     },
     "execution_count": 123,
     "metadata": {},
     "output_type": "execute_result"
    }
   ],
   "source": [
    "vasprun3.ionic_steps"
   ]
  },
  {
   "cell_type": "code",
   "execution_count": 125,
   "id": "3d379203-5a14-4b35-8c18-8864518ce0dc",
   "metadata": {},
   "outputs": [
    {
     "name": "stdout",
     "output_type": "stream",
     "text": [
      "-2.24663425\n",
      "-0.69532916\n",
      "-0.44061357\n",
      "-3.57825074\n",
      "-3.60988166\n",
      "-3.6180034\n",
      "-3.62078962\n",
      "-3.62192724\n",
      "-3.62235425\n",
      "-3.62253874\n"
     ]
    }
   ],
   "source": [
    "for i in vasprun3.ionic_steps:\n",
    "    # print(i)\n",
    "    print(i['e_0_energy'])"
   ]
  },
  {
   "cell_type": "code",
   "execution_count": 127,
   "id": "5f173a5a-db8a-436f-946b-7269a5b501af",
   "metadata": {},
   "outputs": [
    {
     "name": "stdout",
     "output_type": "stream",
     "text": [
      "[[-1.3e-06, -5.76e-06, 3.55e-06]]\n",
      "[[-1.22e-06, -3e-08, 8.9e-07]]\n",
      "[[2.17e-06, -3.72e-06, -7.7e-06]]\n",
      "[[-1.37e-05, -2.65e-06, 1.682e-05]]\n",
      "[[4.22e-06, -2.85e-06, 1.73e-06]]\n",
      "[[-1.01e-06, -2.46e-06, 1.42e-06]]\n",
      "[[-1.71e-06, -3.8e-07, 7.5e-07]]\n",
      "[[4.2e-07, -1.48e-06, -1.32e-06]]\n",
      "[[6.3e-07, -6.8e-07, -2.5e-07]]\n",
      "[[2e-07, -1.8e-07, -1.9e-07]]\n"
     ]
    }
   ],
   "source": [
    "for i in vasprun3.ionic_steps:\n",
    "    # print(i)\n",
    "    print(i['forces'])"
   ]
  },
  {
   "cell_type": "code",
   "execution_count": 128,
   "id": "2efbf8e4-0a5b-4944-954b-7d0508199553",
   "metadata": {},
   "outputs": [
    {
     "name": "stdout",
     "output_type": "stream",
     "text": [
      "[[1723.16316016, -0.0064237, -0.00442697], [-0.00642433, 1723.16383187, -0.0042092], [-0.00442649, -0.00420874, 1723.16596951]]\n",
      "[[-1149.15045236, 0.04467033, 0.04315745], [0.04467029, -1149.15118254, 0.04294725], [0.043158, 0.04294646, -1149.15311333]]\n",
      "[[108.99862425, 0.3647619, -0.17458911], [0.36476228, 108.81148044, -0.04306482], [-0.17458942, -0.04306473, 108.6990941]]\n",
      "[[-236.78575876, 0.0102962, 0.00167492], [0.01029623, -236.77467816, 0.00519051], [0.00167519, 0.00519184, -236.73480792]]\n",
      "[[-182.113475, 0.00279099, 0.0029562], [0.00279147, -182.1120409, 0.00500249], [0.0029567, 0.00500227, -182.11306247]]\n",
      "[[-159.99859697, 0.0045073, 0.00287004], [0.00450712, -159.9998485, 0.00268143], [0.00286955, 0.00268117, -159.99914164]]\n",
      "[[-168.58390809, 0.00580973, 0.00542732], [0.0058097, -168.58422837, 0.00461459], [0.00542926, 0.00461435, -168.58365909]]\n",
      "[[-153.63340656, 0.01550486, 0.01528295], [0.01550492, -153.63303288, 0.01558973], [0.01528349, 0.01558891, -153.63377351]]\n",
      "[[-169.64460752, 0.01532429, 0.0152706], [0.01532441, -169.64464754, 0.01517346], [0.01527038, 0.0151751, -169.64496375]]\n",
      "[[-150.1355284, 0.01181229, 0.01177345], [0.01181173, -150.13557279, 0.01171892], [0.01177402, 0.01171937, -150.13573951]]\n"
     ]
    }
   ],
   "source": [
    "for i in vasprun3.ionic_steps:\n",
    "    # print(i)\n",
    "    print(i['stress']) #in GPa"
   ]
  },
  {
   "cell_type": "code",
   "execution_count": null,
   "id": "7df884f3-3652-450f-9005-4fc02769337b",
   "metadata": {},
   "outputs": [],
   "source": [
    "1723.16316016/"
   ]
  },
  {
   "cell_type": "code",
   "execution_count": 117,
   "id": "ba6e9879-f5b9-4d08-8c59-2051d9fd2db4",
   "metadata": {},
   "outputs": [
    {
     "name": "stdout",
     "output_type": "stream",
     "text": [
      "finished\n",
      "trying\n"
     ]
    }
   ],
   "source": [
    "res3 = new_set.vasp_pyiron_calculation(atoms_test_3,id = id_test_3, return_job=True)"
   ]
  },
  {
   "cell_type": "code",
   "execution_count": null,
   "id": "5cc9af96-b47c-45dc-944d-1b86ee28a81b",
   "metadata": {},
   "outputs": [],
   "source": [
    "res"
   ]
  },
  {
   "cell_type": "code",
   "execution_count": 121,
   "id": "89f3905b-754e-4666-8111-c18a157dc01f",
   "metadata": {},
   "outputs": [
    {
     "name": "stderr",
     "output_type": "stream",
     "text": [
      "/tmp/job.1891438/ipykernel_2209748/2812845174.py:1: DeprecationWarning: pyiron_base.jobs.job.core.__getitem__ is deprecated: Use job.output for results, job.files to access files; job.content to access HDF storage and job.child_project to access children of master jobs..\n",
      "  res3['output/generic/dft/energy_zero']\n"
     ]
    },
    {
     "data": {
      "text/plain": [
       "array([-2.24663425, -0.69532916, -0.44061357, -3.57825074, -3.60988166,\n",
       "       -3.6180034 , -3.62078962, -3.62192724, -3.62235425, -3.62253874])"
      ]
     },
     "execution_count": 121,
     "metadata": {},
     "output_type": "execute_result"
    }
   ],
   "source": [
    "res3['output/generic/dft/energy_zero']"
   ]
  },
  {
   "cell_type": "code",
   "execution_count": 126,
   "id": "effd26d4-fa7c-47c1-a07b-71f72bdeaece",
   "metadata": {},
   "outputs": [
    {
     "name": "stderr",
     "output_type": "stream",
     "text": [
      "/tmp/job.1891438/ipykernel_2209748/1665215559.py:1: DeprecationWarning: pyiron_base.jobs.job.core.__getitem__ is deprecated: Use job.output for results, job.files to access files; job.content to access HDF storage and job.child_project to access children of master jobs..\n",
      "  res3['output/generic/forces']\n"
     ]
    },
    {
     "data": {
      "text/plain": [
       "array([[[-1.300e-06, -5.760e-06,  3.550e-06]],\n",
       "\n",
       "       [[-1.220e-06, -3.000e-08,  8.900e-07]],\n",
       "\n",
       "       [[ 2.170e-06, -3.720e-06, -7.700e-06]],\n",
       "\n",
       "       [[-1.370e-05, -2.650e-06,  1.682e-05]],\n",
       "\n",
       "       [[ 4.220e-06, -2.850e-06,  1.730e-06]],\n",
       "\n",
       "       [[-1.010e-06, -2.460e-06,  1.420e-06]],\n",
       "\n",
       "       [[-1.710e-06, -3.800e-07,  7.500e-07]],\n",
       "\n",
       "       [[ 4.200e-07, -1.480e-06, -1.320e-06]],\n",
       "\n",
       "       [[ 6.300e-07, -6.800e-07, -2.500e-07]],\n",
       "\n",
       "       [[ 2.000e-07, -1.800e-07, -1.900e-07]]])"
      ]
     },
     "execution_count": 126,
     "metadata": {},
     "output_type": "execute_result"
    }
   ],
   "source": [
    "res3['output/generic/forces']"
   ]
  },
  {
   "cell_type": "code",
   "execution_count": 129,
   "id": "14d41946-bdc9-4615-94ea-2b7eb4308b29",
   "metadata": {},
   "outputs": [
    {
     "name": "stderr",
     "output_type": "stream",
     "text": [
      "/tmp/job.1891438/ipykernel_2209748/65121652.py:1: DeprecationWarning: pyiron_base.jobs.job.core.__getitem__ is deprecated: Use job.output for results, job.files to access files; job.content to access HDF storage and job.child_project to access children of master jobs..\n",
      "  res3['output/generic/stresses']\n"
     ]
    },
    {
     "data": {
      "text/plain": [
       "array([[[ 1.07551385e+00, -4.00704883e-06, -2.76498852e-06],\n",
       "        [-4.00704883e-06,  1.07551427e+00, -2.62767532e-06],\n",
       "        [-2.76498852e-06, -2.62767532e-06,  1.07551560e+00]],\n",
       "\n",
       "       [[-7.17243296e-01,  2.78808210e-05,  2.69383532e-05],\n",
       "        [ 2.78808210e-05, -7.17243752e-01,  2.68072815e-05],\n",
       "        [ 2.69383532e-05,  2.68072815e-05, -7.17244956e-01]],\n",
       "\n",
       "       [[ 6.80315876e-02,  2.27665285e-04, -1.08970507e-04],\n",
       "        [ 2.27665285e-04,  6.79147840e-02, -2.68759381e-05],\n",
       "        [-1.08970507e-04, -2.68759381e-05,  6.78446357e-02]],\n",
       "\n",
       "       [[-1.47790047e-01,  6.42875435e-06,  1.04233202e-06],\n",
       "        [ 6.42875435e-06, -1.47783131e-01,  3.23934321e-06],\n",
       "        [ 1.04233202e-06,  3.23934321e-06, -1.47758246e-01]],\n",
       "\n",
       "       [[-1.13666294e-01,  1.74138103e-06,  1.84748669e-06],\n",
       "        [ 1.74138103e-06, -1.13665395e-01,  3.12075454e-06],\n",
       "        [ 1.84748669e-06,  3.12075454e-06, -1.13666032e-01]],\n",
       "\n",
       "       [[-9.98632714e-02,  2.81492059e-06,  1.79131310e-06],\n",
       "        [ 2.81492059e-06, -9.98640516e-02,  1.67272443e-06],\n",
       "        [ 1.79131310e-06,  1.67272443e-06, -9.98636084e-02]],\n",
       "\n",
       "       [[-1.05221800e-01,  3.62631677e-06,  3.38913943e-06],\n",
       "        [ 3.62631677e-06, -1.05222000e-01,  2.87733568e-06],\n",
       "        [ 3.38913943e-06,  2.87733568e-06, -1.05221644e-01]],\n",
       "\n",
       "       [[-9.58904323e-02,  9.67433906e-06,  9.53702587e-06],\n",
       "        [ 9.67433906e-06, -9.58901951e-02,  9.73051265e-06],\n",
       "        [ 9.53702587e-06,  9.73051265e-06, -9.58906570e-02]],\n",
       "\n",
       "       [[-1.05883837e-01,  9.56199190e-06,  9.53078436e-06],\n",
       "        [ 9.56199190e-06, -1.05883862e-01,  9.47461077e-06],\n",
       "        [ 9.53078436e-06,  9.47461077e-06, -1.05884056e-01]],\n",
       "\n",
       "       [[-9.37072273e-02,  7.37122222e-06,  7.34625618e-06],\n",
       "        [ 7.37122222e-06, -9.37072522e-02,  7.31504863e-06],\n",
       "        [ 7.34625618e-06,  7.31504863e-06, -9.37073584e-02]]])"
      ]
     },
     "execution_count": 129,
     "metadata": {},
     "output_type": "execute_result"
    }
   ],
   "source": [
    "res3['output/generic/stresses'] #in ev/A2"
   ]
  },
  {
   "cell_type": "code",
   "execution_count": 101,
   "id": "22da75c0-109d-4abe-b2ec-588b8acf2853",
   "metadata": {},
   "outputs": [
    {
     "data": {
      "text/plain": [
       "['REDIRECT',\n",
       " '__class__',\n",
       " '__delattr__',\n",
       " '__dict__',\n",
       " '__dir__',\n",
       " '__doc__',\n",
       " '__eq__',\n",
       " '__format__',\n",
       " '__ge__',\n",
       " '__get_pydantic_core_schema__',\n",
       " '__get_pydantic_json_schema__',\n",
       " '__get_validators__',\n",
       " '__getattribute__',\n",
       " '__getitem__',\n",
       " '__gt__',\n",
       " '__hash__',\n",
       " '__init__',\n",
       " '__init_subclass__',\n",
       " '__iter__',\n",
       " '__le__',\n",
       " '__len__',\n",
       " '__lt__',\n",
       " '__modify_schema__',\n",
       " '__module__',\n",
       " '__ne__',\n",
       " '__new__',\n",
       " '__reduce__',\n",
       " '__reduce_ex__',\n",
       " '__repr__',\n",
       " '__setattr__',\n",
       " '__sizeof__',\n",
       " '__str__',\n",
       " '__subclasshook__',\n",
       " '__weakref__',\n",
       " '_check_frame_props',\n",
       " '_check_site_props',\n",
       " '_combine_frame_props',\n",
       " '_combine_lattice',\n",
       " '_combine_site_props',\n",
       " '_generic_json_schema',\n",
       " '_get_partial_json',\n",
       " '_get_site_props',\n",
       " '_validate_monty',\n",
       " 'as_dict',\n",
       " 'base_positions',\n",
       " 'charge',\n",
       " 'constant_lattice',\n",
       " 'coords',\n",
       " 'coords_are_displacement',\n",
       " 'extend',\n",
       " 'frame_properties',\n",
       " 'from_dict',\n",
       " 'from_file',\n",
       " 'from_molecules',\n",
       " 'from_structures',\n",
       " 'get_molecule',\n",
       " 'get_partial_json',\n",
       " 'get_structure',\n",
       " 'lattice',\n",
       " 'load',\n",
       " 'save',\n",
       " 'site_properties',\n",
       " 'species',\n",
       " 'spin_multiplicity',\n",
       " 'time_step',\n",
       " 'to_displacements',\n",
       " 'to_json',\n",
       " 'to_positions',\n",
       " 'unsafe_hash',\n",
       " 'validate_monty_v1',\n",
       " 'validate_monty_v2',\n",
       " 'write_Xdatcar']"
      ]
     },
     "execution_count": 101,
     "metadata": {},
     "output_type": "execute_result"
    }
   ],
   "source": [
    "dir(traj3)"
   ]
  },
  {
   "cell_type": "code",
   "execution_count": 93,
   "id": "9138a455-87b6-4045-9f42-6fc2f2b9c5b5",
   "metadata": {},
   "outputs": [
    {
     "data": {
      "text/plain": [
       "10"
      ]
     },
     "execution_count": 93,
     "metadata": {},
     "output_type": "execute_result"
    }
   ],
   "source": [
    "vasprun3.nionic_steps"
   ]
  },
  {
   "cell_type": "code",
   "execution_count": null,
   "id": "5340c0a2-edf1-4a9e-bf8a-07d9f0349a90",
   "metadata": {},
   "outputs": [],
   "source": [
    "vasprun3."
   ]
  },
  {
   "cell_type": "code",
   "execution_count": 46,
   "id": "20347b0c-480a-4605-8837-be77fc1cdce6",
   "metadata": {},
   "outputs": [],
   "source": [
    "from ase.io import read"
   ]
  },
  {
   "cell_type": "code",
   "execution_count": 47,
   "id": "7105f138-ba34-4dba-bda7-42a993251840",
   "metadata": {},
   "outputs": [],
   "source": [
    "res_ase = read(res.working_directory+'/vasprun.xml')"
   ]
  },
  {
   "cell_type": "code",
   "execution_count": 48,
   "id": "2a65d3a7-1068-4b32-9794-0848f993f365",
   "metadata": {},
   "outputs": [
    {
     "data": {
      "text/plain": [
       "['__add__',\n",
       " '__ase_optimizable__',\n",
       " '__class__',\n",
       " '__delattr__',\n",
       " '__delitem__',\n",
       " '__dict__',\n",
       " '__dir__',\n",
       " '__doc__',\n",
       " '__eq__',\n",
       " '__format__',\n",
       " '__ge__',\n",
       " '__getattribute__',\n",
       " '__getitem__',\n",
       " '__gt__',\n",
       " '__hash__',\n",
       " '__iadd__',\n",
       " '__imul__',\n",
       " '__init__',\n",
       " '__init_subclass__',\n",
       " '__iter__',\n",
       " '__le__',\n",
       " '__len__',\n",
       " '__lt__',\n",
       " '__module__',\n",
       " '__mul__',\n",
       " '__ne__',\n",
       " '__new__',\n",
       " '__reduce__',\n",
       " '__reduce_ex__',\n",
       " '__repr__',\n",
       " '__setattr__',\n",
       " '__sizeof__',\n",
       " '__str__',\n",
       " '__subclasshook__',\n",
       " '__weakref__',\n",
       " '_ase_handles_dynamic_stress',\n",
       " '_calc',\n",
       " '_celldisp',\n",
       " '_cellobj',\n",
       " '_centering_as_array',\n",
       " '_constraints',\n",
       " '_del_constraints',\n",
       " '_get_atomic_numbers',\n",
       " '_get_constraints',\n",
       " '_get_positions',\n",
       " '_masked_rotate',\n",
       " '_pbc',\n",
       " '_set_positions',\n",
       " 'append',\n",
       " 'arrays',\n",
       " 'ase_objtype',\n",
       " 'calc',\n",
       " 'cell',\n",
       " 'center',\n",
       " 'constraints',\n",
       " 'copy',\n",
       " 'edit',\n",
       " 'euler_rotate',\n",
       " 'extend',\n",
       " 'fromdict',\n",
       " 'get_all_distances',\n",
       " 'get_angle',\n",
       " 'get_angles',\n",
       " 'get_angular_momentum',\n",
       " 'get_array',\n",
       " 'get_atomic_numbers',\n",
       " 'get_calculator',\n",
       " 'get_cell',\n",
       " 'get_cell_lengths_and_angles',\n",
       " 'get_celldisp',\n",
       " 'get_center_of_mass',\n",
       " 'get_charges',\n",
       " 'get_chemical_formula',\n",
       " 'get_chemical_symbols',\n",
       " 'get_dihedral',\n",
       " 'get_dihedrals',\n",
       " 'get_dipole_moment',\n",
       " 'get_distance',\n",
       " 'get_distances',\n",
       " 'get_forces',\n",
       " 'get_global_number_of_atoms',\n",
       " 'get_initial_charges',\n",
       " 'get_initial_magnetic_moments',\n",
       " 'get_kinetic_energy',\n",
       " 'get_magnetic_moment',\n",
       " 'get_magnetic_moments',\n",
       " 'get_masses',\n",
       " 'get_momenta',\n",
       " 'get_moments_of_inertia',\n",
       " 'get_number_of_atoms',\n",
       " 'get_pbc',\n",
       " 'get_positions',\n",
       " 'get_potential_energies',\n",
       " 'get_potential_energy',\n",
       " 'get_properties',\n",
       " 'get_reciprocal_cell',\n",
       " 'get_scaled_positions',\n",
       " 'get_stress',\n",
       " 'get_stresses',\n",
       " 'get_tags',\n",
       " 'get_temperature',\n",
       " 'get_total_energy',\n",
       " 'get_velocities',\n",
       " 'get_volume',\n",
       " 'has',\n",
       " 'info',\n",
       " 'iterimages',\n",
       " 'new_array',\n",
       " 'number_of_lattice_vectors',\n",
       " 'numbers',\n",
       " 'pbc',\n",
       " 'pop',\n",
       " 'positions',\n",
       " 'rattle',\n",
       " 'repeat',\n",
       " 'rotate',\n",
       " 'rotate_dihedral',\n",
       " 'set_angle',\n",
       " 'set_array',\n",
       " 'set_atomic_numbers',\n",
       " 'set_calculator',\n",
       " 'set_cell',\n",
       " 'set_celldisp',\n",
       " 'set_center_of_mass',\n",
       " 'set_chemical_symbols',\n",
       " 'set_constraint',\n",
       " 'set_dihedral',\n",
       " 'set_distance',\n",
       " 'set_initial_charges',\n",
       " 'set_initial_magnetic_moments',\n",
       " 'set_masses',\n",
       " 'set_momenta',\n",
       " 'set_pbc',\n",
       " 'set_positions',\n",
       " 'set_scaled_positions',\n",
       " 'set_tags',\n",
       " 'set_velocities',\n",
       " 'symbols',\n",
       " 'todict',\n",
       " 'translate',\n",
       " 'wrap',\n",
       " 'write']"
      ]
     },
     "execution_count": 48,
     "metadata": {},
     "output_type": "execute_result"
    }
   ],
   "source": [
    "dir(res_ase)"
   ]
  },
  {
   "cell_type": "code",
   "execution_count": 49,
   "id": "e981f239-572f-4972-b4d6-7216268cf30d",
   "metadata": {},
   "outputs": [
    {
     "data": {
      "text/plain": [
       "array([[ 1.5670000e-04, -1.5855000e-04,  1.5191000e-04],\n",
       "       [ 2.3078916e-01, -2.3078979e-01,  2.3079525e-01],\n",
       "       [-2.3094586e-01,  2.3094834e-01, -2.3094716e-01]])"
      ]
     },
     "execution_count": 49,
     "metadata": {},
     "output_type": "execute_result"
    }
   ],
   "source": [
    "res_ase.get_forces()"
   ]
  },
  {
   "cell_type": "code",
   "execution_count": 50,
   "id": "05da5f10-8b4a-4386-b11f-1ba0c718fd83",
   "metadata": {},
   "outputs": [
    {
     "data": {
      "text/plain": [
       "array([-1.48791392, -1.48791789, -1.48791408, -0.0113332 ,  0.0113314 ,\n",
       "       -0.01133298])"
      ]
     },
     "execution_count": 50,
     "metadata": {},
     "output_type": "execute_result"
    }
   ],
   "source": [
    "res_ase.get_stress()"
   ]
  },
  {
   "cell_type": "code",
   "execution_count": null,
   "id": "4028cb44-2065-4183-a7d2-d93ff30596c9",
   "metadata": {},
   "outputs": [],
   "source": []
  },
  {
   "cell_type": "code",
   "execution_count": 51,
   "id": "dc83e1eb-10dc-4916-9dba-aa3a1bfd6a40",
   "metadata": {},
   "outputs": [],
   "source": [
    "res_ase = read(res.working_directory+'/OUTCAR')"
   ]
  },
  {
   "cell_type": "code",
   "execution_count": 52,
   "id": "238c1dc4-2748-4711-a1ed-5cf896545643",
   "metadata": {},
   "outputs": [
    {
     "data": {
      "text/plain": [
       "Atoms(symbols='AlCr2', pbc=True, cell=[[1.575, 1.575, 0.0], [0.0, -1.575, -1.575], [-3.15, 3.15, -3.15]], calculator=SinglePointDFTCalculator(...))"
      ]
     },
     "execution_count": 52,
     "metadata": {},
     "output_type": "execute_result"
    }
   ],
   "source": [
    "res_ase"
   ]
  },
  {
   "cell_type": "code",
   "execution_count": 53,
   "id": "b2a26da6-5434-47ef-a776-3db052e19019",
   "metadata": {},
   "outputs": [
    {
     "data": {
      "text/plain": [
       "array([[ 1.57000e-04, -1.59000e-04,  1.52000e-04],\n",
       "       [ 2.30789e-01, -2.30790e-01,  2.30795e-01],\n",
       "       [-2.30946e-01,  2.30948e-01, -2.30947e-01]])"
      ]
     },
     "execution_count": 53,
     "metadata": {},
     "output_type": "execute_result"
    }
   ],
   "source": [
    "res_ase.get_forces()"
   ]
  },
  {
   "cell_type": "code",
   "execution_count": 54,
   "id": "5ec2202d-6606-4ed7-930f-65efd7119d0a",
   "metadata": {},
   "outputs": [
    {
     "data": {
      "text/plain": [
       "array([-1.48791392, -1.48791789, -1.48791408, -0.01133319,  0.0113314 ,\n",
       "       -0.01133298])"
      ]
     },
     "execution_count": 54,
     "metadata": {},
     "output_type": "execute_result"
    }
   ],
   "source": [
    "res_ase.get_stress()"
   ]
  },
  {
   "cell_type": "code",
   "execution_count": null,
   "id": "29dde7e5-24a0-4e40-9a04-dc64ff0101ee",
   "metadata": {},
   "outputs": [],
   "source": []
  },
  {
   "cell_type": "code",
   "execution_count": 95,
   "id": "06f51242-d972-4b2b-8c39-94c78a798170",
   "metadata": {},
   "outputs": [
    {
     "data": {
      "text/plain": [
       "['__class__',\n",
       " '__delattr__',\n",
       " '__dict__',\n",
       " '__dir__',\n",
       " '__doc__',\n",
       " '__eq__',\n",
       " '__format__',\n",
       " '__ge__',\n",
       " '__getattribute__',\n",
       " '__gt__',\n",
       " '__hash__',\n",
       " '__init__',\n",
       " '__init_subclass__',\n",
       " '__le__',\n",
       " '__lt__',\n",
       " '__module__',\n",
       " '__ne__',\n",
       " '__new__',\n",
       " '__reduce__',\n",
       " '__reduce_ex__',\n",
       " '__repr__',\n",
       " '__setattr__',\n",
       " '__sizeof__',\n",
       " '__str__',\n",
       " '__subclasshook__',\n",
       " '__weakref__',\n",
       " '_parse_sci_notation',\n",
       " 'as_dict',\n",
       " 'charge',\n",
       " 'data',\n",
       " 'dfpt',\n",
       " 'drift',\n",
       " 'efermi',\n",
       " 'electrostatic_potential',\n",
       " 'filename',\n",
       " 'final_energy',\n",
       " 'final_energy_contribs',\n",
       " 'final_energy_wo_entrp',\n",
       " 'final_fr_energy',\n",
       " 'has_onsite_density_matrices',\n",
       " 'is_stopped',\n",
       " 'lcalcpol',\n",
       " 'lepsilon',\n",
       " 'magnetization',\n",
       " 'nelect',\n",
       " 'ngf',\n",
       " 'nmr_cs',\n",
       " 'nmr_efg',\n",
       " 'noncollinear',\n",
       " 'read_avg_core_poten',\n",
       " 'read_chemical_shielding',\n",
       " 'read_core_state_eigen',\n",
       " 'read_corrections',\n",
       " 'read_cs_core_contribution',\n",
       " 'read_cs_g0_contribution',\n",
       " 'read_cs_raw_symmetrized_tensors',\n",
       " 'read_elastic_tensor',\n",
       " 'read_electrostatic_potential',\n",
       " 'read_fermi_contact_shift',\n",
       " 'read_freq_dielectric',\n",
       " 'read_igpar',\n",
       " 'read_internal_strain_tensor',\n",
       " 'read_lcalcpol',\n",
       " 'read_lepsilon',\n",
       " 'read_lepsilon_ionic',\n",
       " 'read_neb',\n",
       " 'read_nmr_efg',\n",
       " 'read_nmr_efg_tensor',\n",
       " 'read_onsite_density_matrices',\n",
       " 'read_pattern',\n",
       " 'read_piezo_tensor',\n",
       " 'read_pseudo_zval',\n",
       " 'read_table_pattern',\n",
       " 'run_stats',\n",
       " 'sampling_radii',\n",
       " 'spin',\n",
       " 'total_mag']"
      ]
     },
     "execution_count": 95,
     "metadata": {},
     "output_type": "execute_result"
    }
   ],
   "source": [
    "dir(outcar)"
   ]
  },
  {
   "cell_type": "code",
   "execution_count": 96,
   "id": "c850b1e0-5dc4-4721-a383-644f3b0ea5fc",
   "metadata": {},
   "outputs": [
    {
     "data": {
      "text/plain": [
       "'/scratch/user/guillermo.vazquez/SAVE/octonary/disall/test/test_pyiron/vasp_000000000000078_hdf5/vasp_000000000000078/OUTCAR'"
      ]
     },
     "execution_count": 96,
     "metadata": {},
     "output_type": "execute_result"
    }
   ],
   "source": []
  },
  {
   "cell_type": "code",
   "execution_count": 78,
   "id": "caae127d-e5f8-4f32-8ee6-509361fbe9ed",
   "metadata": {},
   "outputs": [
    {
     "data": {
      "text/plain": [
       "{'@module': 'pymatgen.io.vasp.outputs',\n",
       " '@class': 'Outcar',\n",
       " 'efermi': 17.3876,\n",
       " 'run_stats': {'cores': 64},\n",
       " 'magnetization': (),\n",
       " 'charge': (),\n",
       " 'total_magnetization': 10.0,\n",
       " 'nelect': 27.0,\n",
       " 'is_stopped': False,\n",
       " 'drift': [[-0.000524, 0.00053, -0.000509], [-2.3e-05, 0.00014, -1.7e-05]],\n",
       " 'ngf': [32, 32, 72],\n",
       " 'sampling_radii': [1.0406, 1.0025],\n",
       " 'electrostatic_potential': [-79.2343, -73.6894, -73.6857],\n",
       " 'onsite_density_matrices': []}"
      ]
     },
     "execution_count": 78,
     "metadata": {},
     "output_type": "execute_result"
    }
   ],
   "source": [
    "outcar.as_dict()"
   ]
  },
  {
   "cell_type": "code",
   "execution_count": null,
   "id": "d01d27e2-c577-435d-9187-0868e260ab22",
   "metadata": {},
   "outputs": [],
   "source": []
  },
  {
   "cell_type": "code",
   "execution_count": 44,
   "id": "db25eabc-2adf-420a-8a8f-0a343d54d1f5",
   "metadata": {},
   "outputs": [
    {
     "data": {
      "text/plain": [
       "{'groups': ['input', 'output'], 'nodes': ['DICT_VERSION', 'HDF_VERSION', 'NAME', 'OBJECT', 'TYPE', 'VERSION', 'executable', 'job_id', 'server', 'status']}"
      ]
     },
     "execution_count": 44,
     "metadata": {},
     "output_type": "execute_result"
    }
   ],
   "source": [
    "res"
   ]
  },
  {
   "cell_type": "code",
   "execution_count": 45,
   "id": "636a507d-bf71-4678-9395-534452515fb2",
   "metadata": {},
   "outputs": [
    {
     "name": "stderr",
     "output_type": "stream",
     "text": [
      "/tmp/job.1891422/ipykernel_2203571/2450863800.py:1: DeprecationWarning: pyiron_base.jobs.job.core.__getitem__ is deprecated: Use job.output for results, job.files to access files; job.content to access HDF storage and job.child_project to access children of master jobs..\n",
      "  res['server']\n"
     ]
    },
    {
     "data": {
      "text/plain": [
       "{'user': 'pyiron',\n",
       " 'host': 'fc001',\n",
       " 'run_mode': 'queue',\n",
       " 'cores': 1,\n",
       " 'threads': 1,\n",
       " 'new_hdf': True,\n",
       " 'accept_crash': False,\n",
       " 'additional_arguments': {},\n",
       " 'gpus': None,\n",
       " 'run_time': None,\n",
       " 'memory_limit': None,\n",
       " 'queue': 'slurm_02to05',\n",
       " 'qid': 1891432,\n",
       " 'conda_environment_name': None,\n",
       " 'conda_environment_path': None,\n",
       " 'NAME': 'Server',\n",
       " 'TYPE': \"<class 'pyiron_base.jobs.job.extension.server.generic.Server'>\",\n",
       " 'OBJECT': 'Server',\n",
       " 'DICT_VERSION': '0.1.0'}"
      ]
     },
     "execution_count": 45,
     "metadata": {},
     "output_type": "execute_result"
    }
   ],
   "source": [
    "res['server']"
   ]
  },
  {
   "cell_type": "code",
   "execution_count": 48,
   "id": "4f017f59-380f-4811-90cf-3a76e3040764",
   "metadata": {},
   "outputs": [
    {
     "name": "stderr",
     "output_type": "stream",
     "text": [
      "/tmp/job.1891422/ipykernel_2203571/249619024.py:1: DeprecationWarning: pyiron_base.jobs.job.core.__getitem__ is deprecated: Use job.output for results, job.files to access files; job.content to access HDF storage and job.child_project to access children of master jobs..\n",
      "  res['input']\n"
     ]
    },
    {
     "data": {
      "application/json": {
       "generic": {
        "DICT_VERSION": "0.1.0",
        "NAME": "GenericInput",
        "OBJECT": "GenericInput",
        "TYPE": "<class 'pyiron_atomistics.atomistics.job.atomistic.GenericInput'>",
        "VERSION": "0.1",
        "data_dict": {
         "Comment": "['static, minimize, md', 'atoms, continue_final', '', '', '', '']",
         "Parameter": "['calc_mode', 'structure', 'fix_symmetry', 'k_mesh_spacing', 'k_mesh_center_shift', 'reduce_kpoint_symmetry']",
         "Value": "['static', 'atoms', True, None, None, True]"
        }
       },
       "generic_dict": {
        "exclude_groups_hdf": "[]",
        "exclude_nodes_hdf": "[]",
        "restart_file_dict": {},
        "restart_file_list": "['/scratch/user/guillermo.vazquez/SAVE/octonary/disall/test/KPOINTS']"
       },
       "incar": {
        "DICT_VERSION": "0.1.0",
        "NAME": "Incar",
        "OBJECT": "Incar",
        "TYPE": "<class 'pyiron_atomistics.vasp.base.Incar'>",
        "VERSION": "0.1",
        "data_dict": {
         "Comment": "['jobname', '', '', '', '', '', '', '', '', '', '', '', '', '', '', '']",
         "Parameter": "['SYSTEM', 'PREC', 'ALGO', 'LREAL', 'LWAVE', 'LORBIT', 'NCORE', 'NSW', 'IBRION', 'ISMEAR', 'SIGMA', 'ENCUT', 'EDIFF', 'ISIF', 'ISYM', 'ISPIN']",
         "Value": "['vasp_000000000000078', 'Accurate', 'Fast', False, False, '1', 16, 200, 2, 0, 0.02, 420, 1e-05, 3, 0, 2]"
        }
       },
       "interactive": {
        "interactive_flush_frequency": "1",
        "interactive_write_frequency": "1"
       },
       "kpoints": {
        "DICT_VERSION": "0.1.0",
        "NAME": "Kpoints",
        "OBJECT": "Kpoints",
        "TYPE": "<class 'pyiron_atomistics.vasp.base.Kpoints'>",
        "VERSION": "0.1",
        "data_dict": {
         "Comment": "['', '', '', '', '']",
         "Parameter": "['', '', '', '', '']",
         "Value": "['Kpoints file generated with pyiron_atomistics', '0', 'Monkhorst_Pack', '4 4 4', '0 0 0']"
        }
       },
       "potcar": {
        "DICT_VERSION": "0.1.0",
        "NAME": "Potcar",
        "OBJECT": "Potcar",
        "TYPE": "<class 'pyiron_atomistics.vasp.potential.Potcar'>",
        "VERSION": "0.1",
        "data_dict": {
         "Comment": "['LDA, GGA']",
         "Parameter": "['xc']",
         "Value": "['GGA']"
        }
       },
       "potential_dict": {
        "Al": "None",
        "Cr": "None"
       },
       "structure": {
        "TYPE": "<class 'pyiron_atomistics.atomistics.structure.atoms.Atoms'>",
        "cell": {
         "cell": "[[ 1.575  1.575  0.   ]\n [ 0.    -1.575 -1.575]\n [-3.15   3.15  -3.15 ]]",
         "pbc": "[ True  True  True]"
        },
        "dimension": "3",
        "indices": "[0 1 1]",
        "info": {},
        "positions": "[[ 0.00000000e+00  0.00000000e+00  0.00000000e+00]\n [-1.57500000e+00  1.57500000e+00 -3.15000000e+00]\n [ 5.82867088e-17  1.57500000e+00 -1.57500000e+00]]",
        "species": "['Al', 'Cr']",
        "spins": "[0 5 5]",
        "tags": {
         "initial_magmoms": "[0, 5, 5]",
         "spin": "[0, 5, 5]"
        },
        "units": {
         "length": "A",
         "mass": "u"
        }
       },
       "vasp_dict": {
        "eddrmm_handling": "ignore"
       }
      },
      "text/plain": [
       "{'groups': ['generic', 'incar', 'kpoints', 'potcar', 'structure', 'vasp_dict'], 'nodes': ['generic_dict', 'interactive', 'potential_dict']}"
      ]
     },
     "execution_count": 48,
     "metadata": {},
     "output_type": "execute_result"
    }
   ],
   "source": [
    "res['input']"
   ]
  },
  {
   "cell_type": "code",
   "execution_count": 58,
   "id": "502d5ecc-8a08-4da4-93ba-bfec8fe65fbf",
   "metadata": {},
   "outputs": [
    {
     "data": {
      "text/plain": [
       "<Logger pyiron_log (DEBUG)>"
      ]
     },
     "execution_count": 58,
     "metadata": {},
     "output_type": "execute_result"
    }
   ],
   "source": [
    "res._logger"
   ]
  },
  {
   "cell_type": "code",
   "execution_count": 67,
   "id": "6e0df238-6b0b-4a14-8a0a-5611afacac2f",
   "metadata": {},
   "outputs": [
    {
     "data": {
      "text/plain": [
       "'/scratch/user/guillermo.vazquez/SAVE/octonary/disall/test/test_pyiron/vasp_000000000000078_hdf5/vasp_000000000000078'"
      ]
     },
     "execution_count": 67,
     "metadata": {},
     "output_type": "execute_result"
    }
   ],
   "source": [
    "res.working_directory"
   ]
  },
  {
   "cell_type": "code",
   "execution_count": 68,
   "id": "2d7dd11d-c102-4682-a770-3e15ef6a853b",
   "metadata": {
    "scrolled": true
   },
   "outputs": [
    {
     "data": {
      "text/plain": [
       "['__abstractmethods__',\n",
       " '__class__',\n",
       " '__del__',\n",
       " '__delattr__',\n",
       " '__delitem__',\n",
       " '__dict__',\n",
       " '__dict_version__',\n",
       " '__dir__',\n",
       " '__doc__',\n",
       " '__eq__',\n",
       " '__format__',\n",
       " '__ge__',\n",
       " '__getattribute__',\n",
       " '__getitem__',\n",
       " '__gt__',\n",
       " '__hash__',\n",
       " '__hdf_version__',\n",
       " '__init__',\n",
       " '__init_subclass__',\n",
       " '__le__',\n",
       " '__lt__',\n",
       " '__module__',\n",
       " '__name__',\n",
       " '__ne__',\n",
       " '__new__',\n",
       " '__obj_type__',\n",
       " '__reduce__',\n",
       " '__reduce_ex__',\n",
       " '__repr__',\n",
       " '__setattr__',\n",
       " '__setitem__',\n",
       " '__sizeof__',\n",
       " '__slots__',\n",
       " '__str__',\n",
       " '__subclasshook__',\n",
       " '__version__',\n",
       " '__weakref__',\n",
       " '_abc_impl',\n",
       " '_after_generic_copy_to',\n",
       " '_before_successor_calc',\n",
       " '_check_if_input_should_be_written',\n",
       " '_check_incar_parameter',\n",
       " '_collect_output_funct',\n",
       " '_compress_by_default',\n",
       " '_create_job_structure',\n",
       " '_create_working_directory',\n",
       " '_database_property',\n",
       " '_db_server_entry',\n",
       " '_decompress_files_in_directory',\n",
       " '_exclude_groups_hdf',\n",
       " '_exclude_nodes_hdf',\n",
       " '_executable',\n",
       " '_executable_activate',\n",
       " '_executable_activate_mpi',\n",
       " '_executor_type',\n",
       " '_extend_hdf',\n",
       " '_extend_species_elements',\n",
       " '_files_to_compress',\n",
       " '_files_to_remove',\n",
       " '_from_dict',\n",
       " '_generic_input',\n",
       " '_get_executor',\n",
       " '_get_path_for_kpoints',\n",
       " '_get_structure',\n",
       " '_hdf5',\n",
       " '_hdf5_content',\n",
       " '_import_directory',\n",
       " '_include_last_step',\n",
       " '_init_child_job',\n",
       " '_interactive_check_output',\n",
       " '_interactive_enforce_structure_reset',\n",
       " '_interactive_fetch_completed',\n",
       " '_interactive_flush_frequency',\n",
       " '_interactive_grand_canonical',\n",
       " '_interactive_library',\n",
       " '_interactive_species_lst',\n",
       " '_interactive_vasprun',\n",
       " '_interactive_write_frequency',\n",
       " '_interactive_write_input_files',\n",
       " '_internal_copy_to',\n",
       " '_job_id',\n",
       " '_job_with_calculate_function',\n",
       " '_list_all',\n",
       " '_list_ext_childs',\n",
       " '_list_groups',\n",
       " '_list_nodes',\n",
       " '_logger',\n",
       " '_master_id',\n",
       " '_name',\n",
       " '_number_of_structures',\n",
       " '_output_parser',\n",
       " '_parent_id',\n",
       " '_periodic_table',\n",
       " '_potential',\n",
       " '_process',\n",
       " '_reinit_potential_setter',\n",
       " '_reload_update_master',\n",
       " '_restart_file_dict',\n",
       " '_restart_file_list',\n",
       " '_run_if_busy',\n",
       " '_run_if_collect',\n",
       " '_run_if_created',\n",
       " '_run_if_new',\n",
       " '_run_if_repair',\n",
       " '_run_if_running',\n",
       " '_run_if_suspended',\n",
       " '_runtime',\n",
       " '_server',\n",
       " '_set_hdf',\n",
       " '_set_kpoints',\n",
       " '_sorted_indices',\n",
       " '_status',\n",
       " '_structure',\n",
       " '_structure_current',\n",
       " '_structure_from_dict',\n",
       " '_structure_from_hdf',\n",
       " '_structure_previous',\n",
       " '_structure_to_dict',\n",
       " '_structure_to_hdf',\n",
       " '_to_dict',\n",
       " '_translate_frame',\n",
       " '_type_from_dict',\n",
       " '_type_from_hdf',\n",
       " '_type_to_dict',\n",
       " '_update_previous_structure',\n",
       " '_write_chemical_formular_to_database',\n",
       " '_write_work_dir_warnings',\n",
       " 'animate_structure',\n",
       " 'animate_structures',\n",
       " 'append_charge_density',\n",
       " 'append_wave_function',\n",
       " 'calc_md',\n",
       " 'calc_minimize',\n",
       " 'calc_static',\n",
       " 'calculate_kwargs',\n",
       " 'check_if_job_exists',\n",
       " 'check_setup',\n",
       " 'child_ids',\n",
       " 'cleanup',\n",
       " 'clear_job',\n",
       " 'collect_errors',\n",
       " 'collect_logfiles',\n",
       " 'collect_output',\n",
       " 'collect_structures',\n",
       " 'collect_warnings',\n",
       " 'compress',\n",
       " 'content',\n",
       " 'continue_with_final_structure',\n",
       " 'continue_with_restart_files',\n",
       " 'convergence_check',\n",
       " 'copy',\n",
       " 'copy_file_to_working_directory',\n",
       " 'copy_hamiltonian',\n",
       " 'copy_template',\n",
       " 'copy_to',\n",
       " 'create_job',\n",
       " 'create_pipeline',\n",
       " 'current_structure',\n",
       " 'database_entry',\n",
       " 'db_entry',\n",
       " 'decompress',\n",
       " 'drop_status_to_aborted',\n",
       " 'encut',\n",
       " 'error',\n",
       " 'exchange_correlation_functional',\n",
       " 'exclude_groups_hdf',\n",
       " 'exclude_nodes_hdf',\n",
       " 'executable',\n",
       " 'executor_type',\n",
       " 'files',\n",
       " 'files_to_compress',\n",
       " 'files_to_remove',\n",
       " 'fix_spin_constraint',\n",
       " 'fix_symmetry',\n",
       " 'from_dict',\n",
       " 'from_directory',\n",
       " 'from_hdf',\n",
       " 'from_hdf_args',\n",
       " 'get',\n",
       " 'get_bader_charges',\n",
       " 'get_bader_volumes',\n",
       " 'get_calculate_function',\n",
       " 'get_charge_density',\n",
       " 'get_density_of_states',\n",
       " 'get_eddrmm_handling',\n",
       " 'get_electronic_structure',\n",
       " 'get_electrostatic_potential',\n",
       " 'get_encut',\n",
       " 'get_enmax_among_species',\n",
       " 'get_final_structure',\n",
       " 'get_final_structure_from_file',\n",
       " 'get_from_table',\n",
       " 'get_icharg_value',\n",
       " 'get_input_parameter_dict',\n",
       " 'get_job_id',\n",
       " 'get_k_mesh_by_cell',\n",
       " 'get_kpoints',\n",
       " 'get_magnetic_moments',\n",
       " 'get_neighbors',\n",
       " 'get_neighbors_snapshots',\n",
       " 'get_nelect',\n",
       " 'get_output_parameter_dict',\n",
       " 'get_rwigs',\n",
       " 'get_structure',\n",
       " 'get_valence_and_total_charge_density',\n",
       " 'get_workdir_file',\n",
       " 'gui',\n",
       " 'id',\n",
       " 'initial_structure',\n",
       " 'input',\n",
       " 'inspect',\n",
       " 'instantiate',\n",
       " 'interactive_atom_spin_constraints_getter',\n",
       " 'interactive_atom_spins_getter',\n",
       " 'interactive_cache',\n",
       " 'interactive_cell_organizer',\n",
       " 'interactive_cells_getter',\n",
       " 'interactive_cells_setter',\n",
       " 'interactive_close',\n",
       " 'interactive_collect',\n",
       " 'interactive_computation_time_getter',\n",
       " 'interactive_energy_pot_getter',\n",
       " 'interactive_energy_tot_getter',\n",
       " 'interactive_enforce_structure_reset',\n",
       " 'interactive_fetch',\n",
       " 'interactive_flush',\n",
       " 'interactive_flush_frequency',\n",
       " 'interactive_forces_getter',\n",
       " 'interactive_index_organizer',\n",
       " 'interactive_indices_getter',\n",
       " 'interactive_indices_setter',\n",
       " 'interactive_initialize_interface',\n",
       " 'interactive_input_functions',\n",
       " 'interactive_is_activated',\n",
       " 'interactive_magmom_organizer',\n",
       " 'interactive_magnetic_forces_getter',\n",
       " 'interactive_open',\n",
       " 'interactive_output_functions',\n",
       " 'interactive_positions_getter',\n",
       " 'interactive_positions_organizer',\n",
       " 'interactive_positions_setter',\n",
       " 'interactive_prepare',\n",
       " 'interactive_pressures_getter',\n",
       " 'interactive_spin_constraints_getter',\n",
       " 'interactive_spin_constraints_setter',\n",
       " 'interactive_spins_getter',\n",
       " 'interactive_steps_getter',\n",
       " 'interactive_store_in_cache',\n",
       " 'interactive_stress_getter',\n",
       " 'interactive_structure_setter',\n",
       " 'interactive_temperatures_getter',\n",
       " 'interactive_time_getter',\n",
       " 'interactive_unwrapped_positions_getter',\n",
       " 'interactive_volume_getter',\n",
       " 'interactive_write_frequency',\n",
       " 'is_compressed',\n",
       " 'is_master_id',\n",
       " 'is_self_archived',\n",
       " 'iter_structures',\n",
       " 'job_file_name',\n",
       " 'job_id',\n",
       " 'job_info_str',\n",
       " 'job_name',\n",
       " 'job_type',\n",
       " 'k_mesh_center_shift',\n",
       " 'k_mesh_spacing',\n",
       " 'kill',\n",
       " 'kpoint_mesh',\n",
       " 'list_all',\n",
       " 'list_childs',\n",
       " 'list_files',\n",
       " 'list_groups',\n",
       " 'list_nodes',\n",
       " 'list_potentials',\n",
       " 'load',\n",
       " 'logger',\n",
       " 'map',\n",
       " 'map_functions',\n",
       " 'master_id',\n",
       " 'modify_kpoints',\n",
       " 'move_to',\n",
       " 'name',\n",
       " 'nbands_convergence_check',\n",
       " 'number_of_structures',\n",
       " 'output',\n",
       " 'parent_id',\n",
       " 'path',\n",
       " 'plane_wave_cutoff',\n",
       " 'potential',\n",
       " 'potential_available',\n",
       " 'potential_list',\n",
       " 'potential_view',\n",
       " 'project',\n",
       " 'project_hdf5',\n",
       " 'publication',\n",
       " 'queue_id',\n",
       " 'reduce_kpoint_symmetry',\n",
       " 'refresh_job_status',\n",
       " 'relocate_hdf5',\n",
       " 'remove',\n",
       " 'remove_and_reset_id',\n",
       " 'remove_child',\n",
       " 'rename',\n",
       " 'reset_job_id',\n",
       " 'reset_output',\n",
       " 'restart',\n",
       " 'restart_file_dict',\n",
       " 'restart_file_list',\n",
       " 'restart_for_band_structure_calculations',\n",
       " 'restart_from_charge_density',\n",
       " 'restart_from_wave_and_charge',\n",
       " 'restart_from_wave_functions',\n",
       " 'run',\n",
       " 'run_if_interactive',\n",
       " 'run_if_interactive_non_modal',\n",
       " 'run_if_modal',\n",
       " 'run_if_refresh',\n",
       " 'run_if_scheduler',\n",
       " 'run_static',\n",
       " 'run_time_to_db',\n",
       " 'save',\n",
       " 'save_output',\n",
       " 'self_archive',\n",
       " 'self_unarchive',\n",
       " 'server',\n",
       " 'set_algorithm',\n",
       " 'set_convergence_precision',\n",
       " 'set_coulomb_interactions',\n",
       " 'set_dipole_correction',\n",
       " 'set_eddrmm_handling',\n",
       " 'set_electric_field',\n",
       " 'set_empty_states',\n",
       " 'set_encut',\n",
       " 'set_exchange_correlation_functional',\n",
       " 'set_fft_mesh',\n",
       " 'set_for_band_structure_calc',\n",
       " 'set_input_to_read_only',\n",
       " 'set_kpoints',\n",
       " 'set_mixing_parameters',\n",
       " 'set_occupancy_smearing',\n",
       " 'set_rwigs',\n",
       " 'set_spin_constraint',\n",
       " 'show_hdf',\n",
       " 'signal_intercept',\n",
       " 'sorted_indices',\n",
       " 'species_from_hdf',\n",
       " 'spin_constraints',\n",
       " 'status',\n",
       " 'stop_calculation',\n",
       " 'store_structure',\n",
       " 'structure',\n",
       " 'suspend',\n",
       " 'to_dict',\n",
       " 'to_hdf',\n",
       " 'to_object',\n",
       " 'trajectory',\n",
       " 'transfer_from_remote',\n",
       " 'transform_structures',\n",
       " 'update_master',\n",
       " 'validate_ready_to_run',\n",
       " 'version',\n",
       " 'view_structure',\n",
       " 'working_directory',\n",
       " 'write_charge_density',\n",
       " 'write_electrostatic_potential',\n",
       " 'write_input',\n",
       " 'write_magmoms',\n",
       " 'write_resolved_dos',\n",
       " 'write_traj',\n",
       " 'write_wave_funct',\n",
       " 'xc']"
      ]
     },
     "execution_count": 68,
     "metadata": {},
     "output_type": "execute_result"
    }
   ],
   "source": [
    "dir(res)"
   ]
  },
  {
   "cell_type": "code",
   "execution_count": null,
   "id": "6dae5bc9-08a7-4a6a-ae9d-034bd432f184",
   "metadata": {},
   "outputs": [],
   "source": []
  },
  {
   "cell_type": "code",
   "execution_count": null,
   "id": "a277602d-dbc1-434f-b6df-eda555cf258c",
   "metadata": {},
   "outputs": [],
   "source": []
  },
  {
   "cell_type": "code",
   "execution_count": null,
   "id": "0ce4b6b3-18cc-4f28-be6c-fbbe7751a2fb",
   "metadata": {},
   "outputs": [],
   "source": []
  },
  {
   "cell_type": "code",
   "execution_count": 41,
   "id": "0170294c-022e-44e1-895e-9ecff1090d53",
   "metadata": {},
   "outputs": [
    {
     "data": {
      "text/plain": [
       "pymatgen.io.vasp.outputs.Outcar"
      ]
     },
     "execution_count": 41,
     "metadata": {},
     "output_type": "execute_result"
    }
   ],
   "source": [
    "Outcar"
   ]
  },
  {
   "cell_type": "code",
   "execution_count": 44,
   "id": "5ff29489-8f55-4be1-9f90-102477fa64c8",
   "metadata": {},
   "outputs": [
    {
     "name": "stdout",
     "output_type": "stream",
     "text": [
      "job_id 1891431\n",
      "nodes 1\n",
      "tasks 64\n",
      "time 00:05:27\n",
      "start_time 2025-01-15T04:31:59\n",
      "status TIMEOUT\n"
     ]
    },
    {
     "name": "stderr",
     "output_type": "stream",
     "text": [
      "/tmp/job.1891422/ipykernel_2202030/1326451006.py:1: DeprecationWarning: pyiron_base.jobs.job.core.__getitem__ is deprecated: Use job.output for results, job.files to access files; job.content to access HDF storage and job.child_project to access children of master jobs..\n",
      "  o = squeue_check_av(res['server']['qid'], out_print = True)\n"
     ]
    }
   ],
   "source": [
    "o = squeue_check_av(res['server']['qid'], out_print = True)"
   ]
  },
  {
   "cell_type": "code",
   "execution_count": 45,
   "id": "33ccfa90-56fa-4b4d-b926-dcdedb1ee1bf",
   "metadata": {},
   "outputs": [
    {
     "data": {
      "text/plain": [
       "[b'JobID',\n",
       " b'JobName',\n",
       " b'User',\n",
       " b'NCPUS',\n",
       " b'NNodes',\n",
       " b'State',\n",
       " b'Elapsed',\n",
       " b'Start',\n",
       " b'End',\n",
       " b'ReqMem',\n",
       " b'NodeList',\n",
       " b'----------',\n",
       " b'--------------------',\n",
       " b'--------------------',\n",
       " b'-----',\n",
       " b'------',\n",
       " b'--------------------',\n",
       " b'------------',\n",
       " b'--------------------',\n",
       " b'--------------------',\n",
       " b'----------',\n",
       " b'--------------------------------------------------',\n",
       " b'1891431',\n",
       " b'/scratch/user/guill+',\n",
       " b'guillermo.vazquez',\n",
       " b'64',\n",
       " b'1',\n",
       " b'TIMEOUT',\n",
       " b'00:05:27',\n",
       " b'2025-01-15T04:31:59',\n",
       " b'2025-01-15T04:37:26',\n",
       " b'240G',\n",
       " b'fc008',\n",
       " b'1891431.b+',\n",
       " b'batch',\n",
       " b'64',\n",
       " b'1',\n",
       " b'CANCELLED',\n",
       " b'00:05:28',\n",
       " b'2025-01-15T04:31:59',\n",
       " b'2025-01-15T04:37:27',\n",
       " b'fc008',\n",
       " b'1891431.e+',\n",
       " b'extern',\n",
       " b'64',\n",
       " b'1',\n",
       " b'COMPLETED',\n",
       " b'00:05:27',\n",
       " b'2025-01-15T04:31:59',\n",
       " b'2025-01-15T04:37:26',\n",
       " b'fc008',\n",
       " b'1891431.0',\n",
       " b'vasp_std',\n",
       " b'64',\n",
       " b'1',\n",
       " b'FAILED',\n",
       " b'00:05:23',\n",
       " b'2025-01-15T04:32:05',\n",
       " b'2025-01-15T04:37:28',\n",
       " b'fc008']"
      ]
     },
     "execution_count": 45,
     "metadata": {},
     "output_type": "execute_result"
    }
   ],
   "source": [
    "o"
   ]
  },
  {
   "cell_type": "code",
   "execution_count": null,
   "id": "b017ef60-fda5-432b-8bcd-8bf036ca4945",
   "metadata": {},
   "outputs": [],
   "source": []
  },
  {
   "cell_type": "code",
   "execution_count": null,
   "id": "ce184461-ca08-422a-b708-867acf260b61",
   "metadata": {},
   "outputs": [],
   "source": []
  },
  {
   "cell_type": "code",
   "execution_count": null,
   "id": "7816e8c3-598b-4740-9b05-01fd540445ce",
   "metadata": {},
   "outputs": [],
   "source": []
  },
  {
   "cell_type": "code",
   "execution_count": null,
   "id": "f1fd82d4-0b23-4ed3-99eb-614944b28757",
   "metadata": {},
   "outputs": [],
   "source": []
  },
  {
   "cell_type": "code",
   "execution_count": null,
   "id": "c17943d3-d334-4671-9661-bb5cfa0f308a",
   "metadata": {},
   "outputs": [],
   "source": []
  },
  {
   "cell_type": "code",
   "execution_count": null,
   "id": "aa0bc496-e142-4861-b08a-2b382fe995e2",
   "metadata": {},
   "outputs": [],
   "source": []
  },
  {
   "cell_type": "code",
   "execution_count": null,
   "id": "2d50bce2-bcb2-4181-a9a9-2702c887448c",
   "metadata": {},
   "outputs": [],
   "source": []
  },
  {
   "cell_type": "code",
   "execution_count": null,
   "id": "13a8ed55-bef4-4174-9216-e43c81ff9770",
   "metadata": {},
   "outputs": [],
   "source": []
  },
  {
   "cell_type": "code",
   "execution_count": 71,
   "id": "cd7d5e9b-09db-46f1-921d-12b09eaea43a",
   "metadata": {},
   "outputs": [
    {
     "data": {
      "text/plain": [
       "(Atoms(symbols='Cu', pbc=True, cell=[[1.5, 1.5, 0.0], [0.0, 1.5, 1.5], [1.5, 0.0, 1.5]]),\n",
       " 3)"
      ]
     },
     "execution_count": 71,
     "metadata": {},
     "output_type": "execute_result"
    }
   ],
   "source": [
    "test_row = df.loc[3]\n",
    "atoms_test, id_test = test_row['init_structure'].copy(), \\\n",
    "    test_row.name\n",
    "atoms_test, id_test"
   ]
  },
  {
   "cell_type": "code",
   "execution_count": 72,
   "id": "b41c0236-83a0-476d-8605-222d632441f5",
   "metadata": {},
   "outputs": [
    {
     "name": "stderr",
     "output_type": "stream",
     "text": [
      "2025-01-15 03:37:18,817 - pyiron_log - WARNING - No HDF5 file found - remove database entry and create new job! vasp_000000000000003\n"
     ]
    },
    {
     "name": "stdout",
     "output_type": "stream",
     "text": [
      "initialized\n",
      "PASS to RUN --> id000000000000003\n",
      "KPOINTS file\n",
      "pymatgen with grid density = 4000 / number of atoms\n",
      "0\n",
      "Gamma\n",
      "15 15 15\n",
      "\n",
      "The job vasp_000000000000003 was saved and received the ID: 27766\n",
      "Queue system id:  1891428\n"
     ]
    }
   ],
   "source": [
    "results_pyiron = new_set.vasp_pyiron_calculation(atoms_test,id = id_test)"
   ]
  },
  {
   "cell_type": "code",
   "execution_count": 73,
   "id": "a465d62d-119c-41a7-8600-e0fa30ed5bae",
   "metadata": {},
   "outputs": [
    {
     "data": {
      "text/html": [
       "<div>\n",
       "<style scoped>\n",
       "    .dataframe tbody tr th:only-of-type {\n",
       "        vertical-align: middle;\n",
       "    }\n",
       "\n",
       "    .dataframe tbody tr th {\n",
       "        vertical-align: top;\n",
       "    }\n",
       "\n",
       "    .dataframe thead th {\n",
       "        text-align: right;\n",
       "    }\n",
       "</style>\n",
       "<table border=\"1\" class=\"dataframe\">\n",
       "  <thead>\n",
       "    <tr style=\"text-align: right;\">\n",
       "      <th></th>\n",
       "      <th>init_structure</th>\n",
       "      <th>size</th>\n",
       "    </tr>\n",
       "  </thead>\n",
       "  <tbody>\n",
       "    <tr>\n",
       "      <th>0</th>\n",
       "      <td>(Atom('Al', [0.0, 0.0, 0.0], index=0))</td>\n",
       "      <td>1</td>\n",
       "    </tr>\n",
       "    <tr>\n",
       "      <th>1</th>\n",
       "      <td>(Atom('Co', [0.0, 0.0, 0.0], index=0))</td>\n",
       "      <td>1</td>\n",
       "    </tr>\n",
       "    <tr>\n",
       "      <th>2</th>\n",
       "      <td>(Atom('Cr', [0.0, 0.0, 0.0], index=0))</td>\n",
       "      <td>1</td>\n",
       "    </tr>\n",
       "    <tr>\n",
       "      <th>3</th>\n",
       "      <td>(Atom('Cu', [0.0, 0.0, 0.0], index=0))</td>\n",
       "      <td>1</td>\n",
       "    </tr>\n",
       "    <tr>\n",
       "      <th>4</th>\n",
       "      <td>(Atom('Fe', [0.0, 0.0, 0.0], index=0))</td>\n",
       "      <td>1</td>\n",
       "    </tr>\n",
       "    <tr>\n",
       "      <th>...</th>\n",
       "      <td>...</td>\n",
       "      <td>...</td>\n",
       "    </tr>\n",
       "    <tr>\n",
       "      <th>509933</th>\n",
       "      <td>(Atom('Mn', [0.0, 0.0, 0.0], index=0), Atom('C...</td>\n",
       "      <td>10</td>\n",
       "    </tr>\n",
       "    <tr>\n",
       "      <th>509934</th>\n",
       "      <td>(Atom('Mn', [0.0, 0.0, 0.0], index=0), Atom('C...</td>\n",
       "      <td>10</td>\n",
       "    </tr>\n",
       "    <tr>\n",
       "      <th>509935</th>\n",
       "      <td>(Atom('Mn', [0.0, 0.0, 0.0], index=0), Atom('C...</td>\n",
       "      <td>10</td>\n",
       "    </tr>\n",
       "    <tr>\n",
       "      <th>509936</th>\n",
       "      <td>(Atom('Mn', [0.0, 0.0, 0.0], index=0), Atom('C...</td>\n",
       "      <td>10</td>\n",
       "    </tr>\n",
       "    <tr>\n",
       "      <th>509937</th>\n",
       "      <td>(Atom('Mn', [0.0, 0.0, 0.0], index=0), Atom('C...</td>\n",
       "      <td>10</td>\n",
       "    </tr>\n",
       "  </tbody>\n",
       "</table>\n",
       "<p>509938 rows × 2 columns</p>\n",
       "</div>"
      ],
      "text/plain": [
       "                                           init_structure  size\n",
       "0                  (Atom('Al', [0.0, 0.0, 0.0], index=0))     1\n",
       "1                  (Atom('Co', [0.0, 0.0, 0.0], index=0))     1\n",
       "2                  (Atom('Cr', [0.0, 0.0, 0.0], index=0))     1\n",
       "3                  (Atom('Cu', [0.0, 0.0, 0.0], index=0))     1\n",
       "4                  (Atom('Fe', [0.0, 0.0, 0.0], index=0))     1\n",
       "...                                                   ...   ...\n",
       "509933  (Atom('Mn', [0.0, 0.0, 0.0], index=0), Atom('C...    10\n",
       "509934  (Atom('Mn', [0.0, 0.0, 0.0], index=0), Atom('C...    10\n",
       "509935  (Atom('Mn', [0.0, 0.0, 0.0], index=0), Atom('C...    10\n",
       "509936  (Atom('Mn', [0.0, 0.0, 0.0], index=0), Atom('C...    10\n",
       "509937  (Atom('Mn', [0.0, 0.0, 0.0], index=0), Atom('C...    10\n",
       "\n",
       "[509938 rows x 2 columns]"
      ]
     },
     "execution_count": 73,
     "metadata": {},
     "output_type": "execute_result"
    }
   ],
   "source": [
    "structure_DB"
   ]
  },
  {
   "cell_type": "code",
   "execution_count": null,
   "id": "7cf9f371-7034-4066-a07b-dc1b444b1edd",
   "metadata": {},
   "outputs": [],
   "source": []
  },
  {
   "cell_type": "code",
   "execution_count": null,
   "id": "04f4dba9-cad9-400f-a062-76ac0b814cc6",
   "metadata": {},
   "outputs": [],
   "source": []
  },
  {
   "cell_type": "markdown",
   "id": "caf5b040-4643-4e8c-8aef-04c073656e28",
   "metadata": {},
   "source": [
    "\n",
    "# we modify run_packet, the packet has to contain the info if it has run before so we can zip files and not have issues re-reading with pyiron, although re-reading is a powerful tool for loop-checking pyiron jobs. \n",
    "\n",
    "There is hierarchy of statuses, status has to be checked in every one and then updated at end of iteration\n",
    "\n",
    "* unmarked, it hasnt been added to any calc list (most big size structures)\n",
    "* marked, means it has beeen added to a (to_calculate run)\n",
    "    * if there is no information, or starter in to_calculate, this is taken as\n",
    "    * a list may be passed\n",
    "    * a size selector may be passed\n",
    "\n",
    "When there are marked then we can change the 'status'\n",
    "    \n",
    "* initialized, and hopefully passes immediately to\n",
    "* running\n",
    "(for these last two a vasp_pyiron_calculation is run) a core is occupied!\n",
    "* finalized (no vasp_pyiron_calculation is needed)\n",
    "* failed, we need to check the failed number\n",
    "    * less than 5, we pass it to a copying function and initialize the next one (we need to preserve original structure tho)\n",
    "    * if 5, we pass to failed \n",
    "    \n",
    "    "
   ]
  },
  {
   "cell_type": "code",
   "execution_count": null,
   "id": "b04f44ff-0fa8-4030-941e-7a4bec81221e",
   "metadata": {},
   "outputs": [],
   "source": []
  },
  {
   "cell_type": "code",
   "execution_count": null,
   "id": "df60ffa9-d4c3-4675-bba4-ccdbc1c6953f",
   "metadata": {},
   "outputs": [],
   "source": []
  }
 ],
 "metadata": {
  "kernelspec": {
   "display_name": "Python 3 (ipykernel)",
   "language": "python",
   "name": "python3"
  },
  "language_info": {
   "codemirror_mode": {
    "name": "ipython",
    "version": 3
   },
   "file_extension": ".py",
   "mimetype": "text/x-python",
   "name": "python",
   "nbconvert_exporter": "python",
   "pygments_lexer": "ipython3",
   "version": "3.10.15"
  }
 },
 "nbformat": 4,
 "nbformat_minor": 5
}
