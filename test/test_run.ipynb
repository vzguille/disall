{
 "cells": [
  {
   "cell_type": "code",
   "execution_count": 1,
   "id": "3aad1703-4089-49cc-8582-cac39d09ace3",
   "metadata": {},
   "outputs": [],
   "source": [
    "import pickle\n",
    "import time"
   ]
  },
  {
   "cell_type": "code",
   "execution_count": 2,
   "id": "c665dfc7-244c-447b-831f-746fc319e277",
   "metadata": {},
   "outputs": [],
   "source": [
    "with open('AlCoCrCuFeMnNiV_5_10.pkl', 'rb') as f:\n",
    "    structure_DB = pickle.load(f)"
   ]
  },
  {
   "cell_type": "code",
   "execution_count": 3,
   "id": "4681452d-b8f6-4ffe-b264-ab9a7563e16a",
   "metadata": {},
   "outputs": [
    {
     "data": {
      "text/plain": [
       "(Atoms(symbols='Fe', pbc=True, cell=[[1.5, 1.5, 0.0], [0.0, 1.5, 1.5], [1.5, 0.0, 1.5]]),\n",
       " 4)"
      ]
     },
     "execution_count": 3,
     "metadata": {},
     "output_type": "execute_result"
    }
   ],
   "source": [
    "test_row = structure_DB.loc[4]\n",
    "atoms_test, id_test = test_row['init_structure'].copy(), \\\n",
    "    test_row.name\n",
    "atoms_test, id_test"
   ]
  },
  {
   "cell_type": "code",
   "execution_count": 5,
   "id": "595332ec-9f8a-43bd-a5b7-15ee6ce5d956",
   "metadata": {},
   "outputs": [
    {
     "data": {
      "text/html": [
       "<div>\n",
       "<style scoped>\n",
       "    .dataframe tbody tr th:only-of-type {\n",
       "        vertical-align: middle;\n",
       "    }\n",
       "\n",
       "    .dataframe tbody tr th {\n",
       "        vertical-align: top;\n",
       "    }\n",
       "\n",
       "    .dataframe thead th {\n",
       "        text-align: right;\n",
       "    }\n",
       "</style>\n",
       "<table border=\"1\" class=\"dataframe\">\n",
       "  <thead>\n",
       "    <tr style=\"text-align: right;\">\n",
       "      <th></th>\n",
       "      <th>init_structure</th>\n",
       "      <th>size</th>\n",
       "    </tr>\n",
       "  </thead>\n",
       "  <tbody>\n",
       "    <tr>\n",
       "      <th>0</th>\n",
       "      <td>(Atom('Al', [0.0, 0.0, 0.0], index=0))</td>\n",
       "      <td>1</td>\n",
       "    </tr>\n",
       "    <tr>\n",
       "      <th>1</th>\n",
       "      <td>(Atom('Co', [0.0, 0.0, 0.0], index=0))</td>\n",
       "      <td>1</td>\n",
       "    </tr>\n",
       "    <tr>\n",
       "      <th>2</th>\n",
       "      <td>(Atom('Cr', [0.0, 0.0, 0.0], index=0))</td>\n",
       "      <td>1</td>\n",
       "    </tr>\n",
       "    <tr>\n",
       "      <th>3</th>\n",
       "      <td>(Atom('Cu', [0.0, 0.0, 0.0], index=0))</td>\n",
       "      <td>1</td>\n",
       "    </tr>\n",
       "    <tr>\n",
       "      <th>4</th>\n",
       "      <td>(Atom('Fe', [0.0, 0.0, 0.0], index=0))</td>\n",
       "      <td>1</td>\n",
       "    </tr>\n",
       "    <tr>\n",
       "      <th>...</th>\n",
       "      <td>...</td>\n",
       "      <td>...</td>\n",
       "    </tr>\n",
       "    <tr>\n",
       "      <th>509933</th>\n",
       "      <td>(Atom('Mn', [0.0, 0.0, 0.0], index=0), Atom('C...</td>\n",
       "      <td>10</td>\n",
       "    </tr>\n",
       "    <tr>\n",
       "      <th>509934</th>\n",
       "      <td>(Atom('Mn', [0.0, 0.0, 0.0], index=0), Atom('C...</td>\n",
       "      <td>10</td>\n",
       "    </tr>\n",
       "    <tr>\n",
       "      <th>509935</th>\n",
       "      <td>(Atom('Mn', [0.0, 0.0, 0.0], index=0), Atom('C...</td>\n",
       "      <td>10</td>\n",
       "    </tr>\n",
       "    <tr>\n",
       "      <th>509936</th>\n",
       "      <td>(Atom('Mn', [0.0, 0.0, 0.0], index=0), Atom('C...</td>\n",
       "      <td>10</td>\n",
       "    </tr>\n",
       "    <tr>\n",
       "      <th>509937</th>\n",
       "      <td>(Atom('Mn', [0.0, 0.0, 0.0], index=0), Atom('C...</td>\n",
       "      <td>10</td>\n",
       "    </tr>\n",
       "  </tbody>\n",
       "</table>\n",
       "<p>509938 rows × 2 columns</p>\n",
       "</div>"
      ],
      "text/plain": [
       "                                           init_structure  size\n",
       "0                  (Atom('Al', [0.0, 0.0, 0.0], index=0))     1\n",
       "1                  (Atom('Co', [0.0, 0.0, 0.0], index=0))     1\n",
       "2                  (Atom('Cr', [0.0, 0.0, 0.0], index=0))     1\n",
       "3                  (Atom('Cu', [0.0, 0.0, 0.0], index=0))     1\n",
       "4                  (Atom('Fe', [0.0, 0.0, 0.0], index=0))     1\n",
       "...                                                   ...   ...\n",
       "509933  (Atom('Mn', [0.0, 0.0, 0.0], index=0), Atom('C...    10\n",
       "509934  (Atom('Mn', [0.0, 0.0, 0.0], index=0), Atom('C...    10\n",
       "509935  (Atom('Mn', [0.0, 0.0, 0.0], index=0), Atom('C...    10\n",
       "509936  (Atom('Mn', [0.0, 0.0, 0.0], index=0), Atom('C...    10\n",
       "509937  (Atom('Mn', [0.0, 0.0, 0.0], index=0), Atom('C...    10\n",
       "\n",
       "[509938 rows x 2 columns]"
      ]
     },
     "execution_count": 5,
     "metadata": {},
     "output_type": "execute_result"
    }
   ],
   "source": [
    "structure_DB"
   ]
  },
  {
   "cell_type": "code",
   "execution_count": 6,
   "id": "ac98c30d-0a4a-4af6-a72f-4685fecadd62",
   "metadata": {},
   "outputs": [],
   "source": [
    "df = structure_DB.copy()"
   ]
  },
  {
   "cell_type": "code",
   "execution_count": null,
   "id": "8bb0c78f-7f44-40a5-a4d7-eb5718c090da",
   "metadata": {},
   "outputs": [],
   "source": []
  },
  {
   "cell_type": "code",
   "execution_count": 17,
   "id": "4bc871c1-7f6e-43f2-b87d-4ffdfe96d463",
   "metadata": {},
   "outputs": [],
   "source": [
    "from disall.grid_run import run_packet"
   ]
  },
  {
   "cell_type": "code",
   "execution_count": 18,
   "id": "c03758eb-7a0b-4c2d-aa73-5a559150f2e3",
   "metadata": {},
   "outputs": [],
   "source": [
    "relaxer_dummy = None"
   ]
  },
  {
   "cell_type": "code",
   "execution_count": 19,
   "id": "07bc43bf-b2d4-4db4-a207-403767aa7270",
   "metadata": {},
   "outputs": [
    {
     "name": "stdout",
     "output_type": "stream",
     "text": [
      "2024-12-09 06:11:19 - starting packet run: attempting 10 runs of size 1\n",
      "\n",
      "2024-12-09 06:11:19 - no more structures to run of this size\n",
      "\n"
     ]
    }
   ],
   "source": [
    "\n",
    "relaxer_dic_espresso = {'calculator_label': 'relaxer_dummy',\n",
    "                            'relaxer': relaxer_dummy}\n",
    "\n",
    "run_packet('df_espresso', df, relaxer_dic_espresso, 10, 1)"
   ]
  },
  {
   "cell_type": "code",
   "execution_count": null,
   "id": "6640dac4-4e67-4a04-a768-0e815a5da74f",
   "metadata": {},
   "outputs": [],
   "source": []
  }
 ],
 "metadata": {
  "kernelspec": {
   "display_name": "Python 3 (ipykernel)",
   "language": "python",
   "name": "python3"
  },
  "language_info": {
   "codemirror_mode": {
    "name": "ipython",
    "version": 3
   },
   "file_extension": ".py",
   "mimetype": "text/x-python",
   "name": "python",
   "nbconvert_exporter": "python",
   "pygments_lexer": "ipython3",
   "version": "3.9.20"
  }
 },
 "nbformat": 4,
 "nbformat_minor": 5
}
