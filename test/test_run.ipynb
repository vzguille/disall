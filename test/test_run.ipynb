{
 "cells": [
  {
   "cell_type": "code",
   "execution_count": 1,
   "id": "3aad1703-4089-49cc-8582-cac39d09ace3",
   "metadata": {},
   "outputs": [],
   "source": [
    "import pickle\n",
    "import os\n",
    "import time\n",
    "import importlib\n",
    "import disall"
   ]
  },
  {
   "cell_type": "code",
   "execution_count": 2,
   "id": "c665dfc7-244c-447b-831f-746fc319e277",
   "metadata": {},
   "outputs": [],
   "source": [
    "with open('AlCoCrCuFeMnNiV_5_10.pkl', 'rb') as f:\n",
    "    structure_DB = pickle.load(f)"
   ]
  },
  {
   "cell_type": "code",
   "execution_count": 3,
   "id": "4681452d-b8f6-4ffe-b264-ab9a7563e16a",
   "metadata": {},
   "outputs": [
    {
     "data": {
      "text/plain": [
       "(Atoms(symbols='Fe', pbc=True, cell=[[1.5, 1.5, 0.0], [0.0, 1.5, 1.5], [1.5, 0.0, 1.5]]),\n",
       " 4)"
      ]
     },
     "execution_count": 3,
     "metadata": {},
     "output_type": "execute_result"
    }
   ],
   "source": [
    "test_row = structure_DB.loc[4]\n",
    "atoms_test, id_test = test_row['init_structure'].copy(), \\\n",
    "    test_row.name\n",
    "atoms_test, id_test"
   ]
  },
  {
   "cell_type": "code",
   "execution_count": 4,
   "id": "595332ec-9f8a-43bd-a5b7-15ee6ce5d956",
   "metadata": {},
   "outputs": [
    {
     "data": {
      "text/html": [
       "<div>\n",
       "<style scoped>\n",
       "    .dataframe tbody tr th:only-of-type {\n",
       "        vertical-align: middle;\n",
       "    }\n",
       "\n",
       "    .dataframe tbody tr th {\n",
       "        vertical-align: top;\n",
       "    }\n",
       "\n",
       "    .dataframe thead th {\n",
       "        text-align: right;\n",
       "    }\n",
       "</style>\n",
       "<table border=\"1\" class=\"dataframe\">\n",
       "  <thead>\n",
       "    <tr style=\"text-align: right;\">\n",
       "      <th></th>\n",
       "      <th>init_structure</th>\n",
       "      <th>size</th>\n",
       "    </tr>\n",
       "  </thead>\n",
       "  <tbody>\n",
       "    <tr>\n",
       "      <th>0</th>\n",
       "      <td>(Atom('Al', [0.0, 0.0, 0.0], index=0))</td>\n",
       "      <td>1</td>\n",
       "    </tr>\n",
       "    <tr>\n",
       "      <th>1</th>\n",
       "      <td>(Atom('Co', [0.0, 0.0, 0.0], index=0))</td>\n",
       "      <td>1</td>\n",
       "    </tr>\n",
       "    <tr>\n",
       "      <th>2</th>\n",
       "      <td>(Atom('Cr', [0.0, 0.0, 0.0], index=0))</td>\n",
       "      <td>1</td>\n",
       "    </tr>\n",
       "    <tr>\n",
       "      <th>3</th>\n",
       "      <td>(Atom('Cu', [0.0, 0.0, 0.0], index=0))</td>\n",
       "      <td>1</td>\n",
       "    </tr>\n",
       "    <tr>\n",
       "      <th>4</th>\n",
       "      <td>(Atom('Fe', [0.0, 0.0, 0.0], index=0))</td>\n",
       "      <td>1</td>\n",
       "    </tr>\n",
       "    <tr>\n",
       "      <th>...</th>\n",
       "      <td>...</td>\n",
       "      <td>...</td>\n",
       "    </tr>\n",
       "    <tr>\n",
       "      <th>509933</th>\n",
       "      <td>(Atom('Mn', [0.0, 0.0, 0.0], index=0), Atom('C...</td>\n",
       "      <td>10</td>\n",
       "    </tr>\n",
       "    <tr>\n",
       "      <th>509934</th>\n",
       "      <td>(Atom('Mn', [0.0, 0.0, 0.0], index=0), Atom('C...</td>\n",
       "      <td>10</td>\n",
       "    </tr>\n",
       "    <tr>\n",
       "      <th>509935</th>\n",
       "      <td>(Atom('Mn', [0.0, 0.0, 0.0], index=0), Atom('C...</td>\n",
       "      <td>10</td>\n",
       "    </tr>\n",
       "    <tr>\n",
       "      <th>509936</th>\n",
       "      <td>(Atom('Mn', [0.0, 0.0, 0.0], index=0), Atom('C...</td>\n",
       "      <td>10</td>\n",
       "    </tr>\n",
       "    <tr>\n",
       "      <th>509937</th>\n",
       "      <td>(Atom('Mn', [0.0, 0.0, 0.0], index=0), Atom('C...</td>\n",
       "      <td>10</td>\n",
       "    </tr>\n",
       "  </tbody>\n",
       "</table>\n",
       "<p>509938 rows × 2 columns</p>\n",
       "</div>"
      ],
      "text/plain": [
       "                                           init_structure  size\n",
       "0                  (Atom('Al', [0.0, 0.0, 0.0], index=0))     1\n",
       "1                  (Atom('Co', [0.0, 0.0, 0.0], index=0))     1\n",
       "2                  (Atom('Cr', [0.0, 0.0, 0.0], index=0))     1\n",
       "3                  (Atom('Cu', [0.0, 0.0, 0.0], index=0))     1\n",
       "4                  (Atom('Fe', [0.0, 0.0, 0.0], index=0))     1\n",
       "...                                                   ...   ...\n",
       "509933  (Atom('Mn', [0.0, 0.0, 0.0], index=0), Atom('C...    10\n",
       "509934  (Atom('Mn', [0.0, 0.0, 0.0], index=0), Atom('C...    10\n",
       "509935  (Atom('Mn', [0.0, 0.0, 0.0], index=0), Atom('C...    10\n",
       "509936  (Atom('Mn', [0.0, 0.0, 0.0], index=0), Atom('C...    10\n",
       "509937  (Atom('Mn', [0.0, 0.0, 0.0], index=0), Atom('C...    10\n",
       "\n",
       "[509938 rows x 2 columns]"
      ]
     },
     "execution_count": 4,
     "metadata": {},
     "output_type": "execute_result"
    }
   ],
   "source": [
    "structure_DB"
   ]
  },
  {
   "cell_type": "code",
   "execution_count": 5,
   "id": "ac98c30d-0a4a-4af6-a72f-4685fecadd62",
   "metadata": {},
   "outputs": [],
   "source": [
    "df = structure_DB.copy()"
   ]
  },
  {
   "cell_type": "code",
   "execution_count": null,
   "id": "8bb0c78f-7f44-40a5-a4d7-eb5718c090da",
   "metadata": {},
   "outputs": [],
   "source": []
  },
  {
   "cell_type": "code",
   "execution_count": null,
   "id": "b695f457-5d2e-4aa9-9609-8ce3352ac2e1",
   "metadata": {},
   "outputs": [],
   "source": []
  },
  {
   "cell_type": "code",
   "execution_count": 6,
   "id": "610a7127-93b7-4b4a-9d18-95325b433738",
   "metadata": {},
   "outputs": [],
   "source": [
    "def delete_files(file_list):\n",
    "    \"\"\"Delete multiple files.\"\"\"\n",
    "    for file_path in file_list:\n",
    "        try:\n",
    "            os.remove(file_path)\n",
    "            print(f\"Deleted: {file_path}\")\n",
    "        except FileNotFoundError:\n",
    "            print(f\"File not found: {file_path}\")\n",
    "        except PermissionError:\n",
    "            print(f\"Permission denied: {file_path}\")\n",
    "        except Exception as e:\n",
    "            print(f\"Error deleting {file_path}: {e}\")"
   ]
  },
  {
   "cell_type": "code",
   "execution_count": null,
   "id": "4bc871c1-7f6e-43f2-b87d-4ffdfe96d463",
   "metadata": {},
   "outputs": [],
   "source": []
  },
  {
   "cell_type": "code",
   "execution_count": null,
   "id": "830c7128-d902-487d-b8cb-3b19b5c3672a",
   "metadata": {},
   "outputs": [],
   "source": []
  },
  {
   "cell_type": "code",
   "execution_count": 7,
   "id": "7005ec9f-fb43-4927-8eaa-a0795d073653",
   "metadata": {},
   "outputs": [
    {
     "name": "stdout",
     "output_type": "stream",
     "text": [
      "Deleted: df_espresso.log\n",
      "File not found: df_espresso.pkl\n"
     ]
    }
   ],
   "source": [
    "delete_files(['df_espresso.log','df_espresso.pkl'])"
   ]
  },
  {
   "cell_type": "code",
   "execution_count": 8,
   "id": "5b80dff5-dd8d-483f-92e7-3d6593d8ad84",
   "metadata": {},
   "outputs": [],
   "source": [
    "df = structure_DB.copy()"
   ]
  },
  {
   "cell_type": "code",
   "execution_count": 9,
   "id": "c03758eb-7a0b-4c2d-aa73-5a559150f2e3",
   "metadata": {},
   "outputs": [],
   "source": [
    "relaxer_dummy = None"
   ]
  },
  {
   "cell_type": "code",
   "execution_count": null,
   "id": "1ef64b14-80b3-41e8-9d8a-07d5ed147414",
   "metadata": {},
   "outputs": [],
   "source": []
  },
  {
   "cell_type": "code",
   "execution_count": 10,
   "id": "e0fac2bc-8380-4139-8927-0fe8fabd3a36",
   "metadata": {},
   "outputs": [
    {
     "data": {
      "text/plain": [
       "<module 'disall' (<_frozen_importlib_external._NamespaceLoader object at 0x1542b01a9960>)>"
      ]
     },
     "execution_count": 10,
     "metadata": {},
     "output_type": "execute_result"
    }
   ],
   "source": [
    "import disall\n",
    "importlib.reload(disall)"
   ]
  },
  {
   "cell_type": "code",
   "execution_count": 11,
   "id": "1d70d74e-9bbc-4784-89df-fd4ce5290ef4",
   "metadata": {},
   "outputs": [],
   "source": [
    "\n",
    "\n",
    "from disall.grid_run import run_packet"
   ]
  },
  {
   "cell_type": "markdown",
   "id": "9f0699f7-927c-4328-b6bb-65412df8ea80",
   "metadata": {},
   "source": [
    "## how to calculate vasp relaxer\n",
    "it needs to be an starter or checker.\n",
    "if not started then it starts it, if running, checks. Maybe different functions"
   ]
  },
  {
   "cell_type": "code",
   "execution_count": 12,
   "id": "07bc43bf-b2d4-4db4-a207-403767aa7270",
   "metadata": {},
   "outputs": [
    {
     "name": "stdout",
     "output_type": "stream",
     "text": [
      "2024-12-11 02:34:29 - starting packet run: attempting 10 runs of size 1\n",
      "\n",
      "2024-12-11 02:34:29 - attempting to run :\n",
      " [0, 1, 2, 3, 4, 5, 6, 7]\n",
      "of size :\n",
      " 8\n",
      "with calculator :\n",
      " relaxer_dummy\n",
      "\n",
      "\n",
      "[0, 1, 2, 3, 4, 5, 6, 7]\n",
      "0\n",
      "not started/not info on 000000000000000\n",
      "starting\n",
      "1\n",
      "not started/not info on 000000000000001\n",
      "starting\n",
      "2\n",
      "not started/not info on 000000000000002\n",
      "starting\n",
      "3\n",
      "not started/not info on 000000000000003\n",
      "starting\n",
      "4\n",
      "not started/not info on 000000000000004\n",
      "starting\n",
      "5\n",
      "not started/not info on 000000000000005\n",
      "starting\n",
      "6\n",
      "not started/not info on 000000000000006\n",
      "starting\n",
      "7\n",
      "not started/not info on 000000000000007\n",
      "starting\n"
     ]
    }
   ],
   "source": [
    "\n",
    "relaxer_dic_espresso = {'calculator_label': 'relaxer_dummy',\n",
    "                            'relaxer': relaxer_dummy}\n",
    "\n",
    "run_packet('df_espresso', df, relaxer_dic_espresso, 10, 1)"
   ]
  },
  {
   "cell_type": "code",
   "execution_count": 13,
   "id": "8a95dddf-74b7-455d-98fb-e31331aba6f8",
   "metadata": {},
   "outputs": [
    {
     "data": {
      "text/plain": [
       "(Atoms(symbols='Fe', pbc=True, cell=[[1.5, 1.5, 0.0], [0.0, 1.5, 1.5], [1.5, 0.0, 1.5]]),\n",
       " 4)"
      ]
     },
     "execution_count": 13,
     "metadata": {},
     "output_type": "execute_result"
    }
   ],
   "source": [
    "test_row = df.loc[4]\n",
    "atoms_test, id_test = test_row['init_structure'].copy(), \\\n",
    "    test_row.name\n",
    "atoms_test, id_test"
   ]
  },
  {
   "cell_type": "code",
   "execution_count": 33,
   "id": "300e226f-5d3c-4ae9-9ec3-812792018f97",
   "metadata": {},
   "outputs": [],
   "source": []
  },
  {
   "cell_type": "code",
   "execution_count": 61,
   "id": "053dfbda-a658-46a1-824c-475c64b6ca75",
   "metadata": {},
   "outputs": [
    {
     "data": {
      "text/plain": [
       "<module 'disall.pyiron_calculator' from '/scratch/user/guillermo.vazquez/SAVE/octonary/disall/disall/pyiron_calculator.py'>"
      ]
     },
     "execution_count": 61,
     "metadata": {},
     "output_type": "execute_result"
    }
   ],
   "source": [
    "\n",
    "importlib.reload(disall.pyiron_calculator)"
   ]
  },
  {
   "cell_type": "code",
   "execution_count": 62,
   "id": "2c11c5f4-faf9-40aa-bd97-db08e608afd7",
   "metadata": {},
   "outputs": [],
   "source": [
    "from disall.pyiron_calculator import VASP_pyiron_calculator"
   ]
  },
  {
   "cell_type": "code",
   "execution_count": 63,
   "id": "556fe2d8-615a-4542-bd56-f7c7080dea0a",
   "metadata": {},
   "outputs": [
    {
     "data": {
      "text/plain": [
       "\u001b[0;31mInit signature:\u001b[0m\n",
       "\u001b[0mVASP_pyiron_calculator\u001b[0m\u001b[0;34m(\u001b[0m\u001b[0;34m\u001b[0m\n",
       "\u001b[0;34m\u001b[0m    \u001b[0minput_data\u001b[0m\u001b[0;34m=\u001b[0m\u001b[0;34m{\u001b[0m\u001b[0;34m'-INCAR-NCORE'\u001b[0m\u001b[0;34m:\u001b[0m \u001b[0;36m16\u001b[0m\u001b[0;34m,\u001b[0m \u001b[0;34m'-INCAR-LORBIT'\u001b[0m\u001b[0;34m:\u001b[0m \u001b[0;36m1\u001b[0m\u001b[0;34m,\u001b[0m \u001b[0;34m'-INCAR-NSW'\u001b[0m\u001b[0;34m:\u001b[0m \u001b[0;36m200\u001b[0m\u001b[0;34m,\u001b[0m \u001b[0;34m'-INCAR-PREC'\u001b[0m\u001b[0;34m:\u001b[0m \u001b[0;34m'Accurate'\u001b[0m\u001b[0;34m,\u001b[0m \u001b[0;34m'-INCAR-IBRION'\u001b[0m\u001b[0;34m:\u001b[0m \u001b[0;36m2\u001b[0m\u001b[0;34m,\u001b[0m \u001b[0;34m'-INCAR-ISMEAR'\u001b[0m\u001b[0;34m:\u001b[0m \u001b[0;36m0\u001b[0m\u001b[0;34m,\u001b[0m \u001b[0;34m'-INCAR-SIGMA'\u001b[0m\u001b[0;34m:\u001b[0m \u001b[0;36m0.03\u001b[0m\u001b[0;34m,\u001b[0m \u001b[0;34m'-INCAR-ENCUT'\u001b[0m\u001b[0;34m:\u001b[0m \u001b[0;36m400\u001b[0m\u001b[0;34m,\u001b[0m \u001b[0;34m'-INCAR-EDIFF'\u001b[0m\u001b[0;34m:\u001b[0m \u001b[0;36m1e-06\u001b[0m\u001b[0;34m,\u001b[0m \u001b[0;34m'-INCAR-ISIF'\u001b[0m\u001b[0;34m:\u001b[0m \u001b[0;36m2\u001b[0m\u001b[0;34m,\u001b[0m \u001b[0;34m'-INCAR-ISYM'\u001b[0m\u001b[0;34m:\u001b[0m \u001b[0;36m0\u001b[0m\u001b[0;34m,\u001b[0m \u001b[0;34m'KPPA'\u001b[0m\u001b[0;34m:\u001b[0m \u001b[0;36m3000\u001b[0m\u001b[0;34m,\u001b[0m \u001b[0;34m'-INCAR-ISPIN'\u001b[0m\u001b[0;34m:\u001b[0m \u001b[0;36m1\u001b[0m\u001b[0;34m}\u001b[0m\u001b[0;34m,\u001b[0m\u001b[0;34m\u001b[0m\n",
       "\u001b[0;34m\u001b[0m    \u001b[0mproject_pyiron\u001b[0m\u001b[0;34m=\u001b[0m\u001b[0;34m'testing_project'\u001b[0m\u001b[0;34m,\u001b[0m\u001b[0;34m\u001b[0m\n",
       "\u001b[0;34m\u001b[0m\u001b[0;34m)\u001b[0m\u001b[0;34m\u001b[0m\u001b[0;34m\u001b[0m\u001b[0m\n",
       "\u001b[0;31mDocstring:\u001b[0m      <no docstring>\n",
       "\u001b[0;31mFile:\u001b[0m           /scratch/user/guillermo.vazquez/SAVE/octonary/disall/disall/pyiron_calculator.py\n",
       "\u001b[0;31mType:\u001b[0m           type\n",
       "\u001b[0;31mSubclasses:\u001b[0m     "
      ]
     },
     "metadata": {},
     "output_type": "display_data"
    }
   ],
   "source": [
    "VASP_pyiron_calculator?"
   ]
  },
  {
   "cell_type": "code",
   "execution_count": 64,
   "id": "baf18c07-2c09-4aa8-a141-77a234107209",
   "metadata": {},
   "outputs": [],
   "source": [
    "new_set = VASP_pyiron_calculator(project_pyiron='test_pyiron')"
   ]
  },
  {
   "cell_type": "code",
   "execution_count": 65,
   "id": "c7ec42e2-06e4-4b33-9208-13f821da3e1f",
   "metadata": {},
   "outputs": [
    {
     "name": "stderr",
     "output_type": "stream",
     "text": [
      "2024-12-11 02:55:54,869 - pyiron_log - WARNING - Could not access indices, returning None!\n"
     ]
    },
    {
     "name": "stdout",
     "output_type": "stream",
     "text": [
      "finished\n"
     ]
    },
    {
     "data": {
      "text/plain": [
       "{'job_name': 'vasp_000000000000004',\n",
       " 'status': 'finished',\n",
       " 'energy_traj': array([-5.79832415]),\n",
       " 'force_traj': array([[[-8.0e-08, -1.1e-07,  9.0e-08]]]),\n",
       " 'stress_traj': array([[[1.90362603e+00, 1.91614329e-06, 1.89741876e-06],\n",
       "         [1.91614329e-06, 1.90362610e+00, 1.83500367e-06],\n",
       "         [1.89741876e-06, 1.83500367e-06, 1.90362598e+00]]]),\n",
       " 'structures_traj': [Atoms(symbols='Fe', pbc=True, cell=[[1.5, 1.5, 0.0], [0.0, 1.5, 1.5], [1.5, 0.0, 1.5]])],\n",
       " 'energy_electronic_step': [[9.41463661,\n",
       "   -6.68387772,\n",
       "   -6.75468037,\n",
       "   -6.75501478,\n",
       "   -6.7550169,\n",
       "   -5.91263654,\n",
       "   -5.82764701,\n",
       "   -5.79780181,\n",
       "   -5.79763936,\n",
       "   -5.79767241,\n",
       "   -5.79759259,\n",
       "   -5.79759617,\n",
       "   -5.79759605]]}"
      ]
     },
     "execution_count": 65,
     "metadata": {},
     "output_type": "execute_result"
    }
   ],
   "source": [
    "new_set.vasp_pyiron_calculation(atoms_test,id = id_test)"
   ]
  },
  {
   "cell_type": "code",
   "execution_count": 66,
   "id": "cd7d5e9b-09db-46f1-921d-12b09eaea43a",
   "metadata": {},
   "outputs": [
    {
     "data": {
      "text/plain": [
       "(Atoms(symbols='Cu', pbc=True, cell=[[1.5, 1.5, 0.0], [0.0, 1.5, 1.5], [1.5, 0.0, 1.5]]),\n",
       " 3)"
      ]
     },
     "execution_count": 66,
     "metadata": {},
     "output_type": "execute_result"
    }
   ],
   "source": [
    "test_row = df.loc[3]\n",
    "atoms_test, id_test = test_row['init_structure'].copy(), \\\n",
    "    test_row.name\n",
    "atoms_test, id_test"
   ]
  },
  {
   "cell_type": "code",
   "execution_count": 70,
   "id": "b41c0236-83a0-476d-8605-222d632441f5",
   "metadata": {},
   "outputs": [
    {
     "name": "stderr",
     "output_type": "stream",
     "text": [
      "2024-12-11 03:00:37,204 - pyiron_log - WARNING - Could not access indices, returning None!\n"
     ]
    },
    {
     "name": "stdout",
     "output_type": "stream",
     "text": [
      "finished\n"
     ]
    }
   ],
   "source": [
    "results_pyiron = new_set.vasp_pyiron_calculation(atoms_test,id = id_test)"
   ]
  },
  {
   "cell_type": "code",
   "execution_count": null,
   "id": "a465d62d-119c-41a7-8600-e0fa30ed5bae",
   "metadata": {},
   "outputs": [],
   "source": []
  }
 ],
 "metadata": {
  "kernelspec": {
   "display_name": "Python 3 (ipykernel)",
   "language": "python",
   "name": "python3"
  },
  "language_info": {
   "codemirror_mode": {
    "name": "ipython",
    "version": 3
   },
   "file_extension": ".py",
   "mimetype": "text/x-python",
   "name": "python",
   "nbconvert_exporter": "python",
   "pygments_lexer": "ipython3",
   "version": "3.10.15"
  }
 },
 "nbformat": 4,
 "nbformat_minor": 5
}
