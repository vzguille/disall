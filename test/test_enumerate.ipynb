{
 "cells": [
  {
   "cell_type": "code",
   "execution_count": 1,
   "id": "5abd0ddc-068b-438b-a43a-7ce34c20abde",
   "metadata": {},
   "outputs": [],
   "source": [
    "\n",
    "from disall.enumerate import structures_pool\n",
    "\n",
    "\n",
    " \n"
   ]
  },
  {
   "cell_type": "code",
   "execution_count": 2,
   "id": "a2cb371a-147b-488c-b1ea-8432669d9cd3",
   "metadata": {},
   "outputs": [],
   "source": [
    "import pandas as pd\n",
    "import numpy as np"
   ]
  },
  {
   "cell_type": "code",
   "execution_count": 3,
   "id": "19f5aad0-263a-481f-902d-03a3ad6b3c34",
   "metadata": {},
   "outputs": [
    {
     "name": "stdout",
     "output_type": "stream",
     "text": [
      "Atoms(symbols='Al', pbc=True, cell=[[1.5, 1.5, 0.0], [0.0, 1.5, 1.5], [1.5, 0.0, 1.5]])\n"
     ]
    }
   ],
   "source": [
    "sp = structures_pool(['Al','Co','Cr','Cu','Fe','Mn','Ni','V'])\n",
    "sp.create_prim('FCC', {'a0' : 3.0})\n"
   ]
  },
  {
   "cell_type": "code",
   "execution_count": 4,
   "id": "4be4fd6c-b940-425f-b56b-68f62e800652",
   "metadata": {},
   "outputs": [
    {
     "name": "stdout",
     "output_type": "stream",
     "text": [
      "20350 structures in 29.81746506690979s\n",
      "489588 structures in 176.8721420764923s\n"
     ]
    }
   ],
   "source": [
    "sp.generate_structures(5, 10)"
   ]
  },
  {
   "cell_type": "code",
   "execution_count": 5,
   "id": "d29d1560-c4b9-43a6-adc5-f6817e1fdc42",
   "metadata": {},
   "outputs": [],
   "source": [
    "sp.save(''.join(['Al','Co','Cr','Cu','Fe','Mn','Ni','V'])+'_5_10')"
   ]
  }
 ],
 "metadata": {
  "kernelspec": {
   "display_name": "Python 3 (ipykernel)",
   "language": "python",
   "name": "python3"
  },
  "language_info": {
   "codemirror_mode": {
    "name": "ipython",
    "version": 3
   },
   "file_extension": ".py",
   "mimetype": "text/x-python",
   "name": "python",
   "nbconvert_exporter": "python",
   "pygments_lexer": "ipython3",
   "version": "3.9.20"
  }
 },
 "nbformat": 4,
 "nbformat_minor": 5
}
